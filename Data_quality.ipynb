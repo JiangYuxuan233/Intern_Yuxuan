{
 "cells": [
  {
   "cell_type": "code",
   "execution_count": 106,
   "metadata": {},
   "outputs": [],
   "source": [
    "import pandas as pd\n",
    "import numpy as np\n",
    "import seaborn as sns\n",
    "import matplotlib.pyplot as plt\n",
    "S1 = pd.read_csv(\"Sensor1-Copy1.csv\")\n",
    "S2 = pd.read_csv(\"Sensor2-Copy1.csv\")\n",
    "S3 = pd.read_csv(\"Sensor3-Copy1.csv\")\n",
    "S1.replace(0, np.nan, inplace=True)\n",
    "S2.replace(0, np.nan, inplace=True)\n",
    "S3.replace(0, np.nan, inplace=True)"
   ]
  },
  {
   "cell_type": "code",
   "execution_count": 98,
   "metadata": {},
   "outputs": [
    {
     "data": {
      "text/plain": [
       "2190"
      ]
     },
     "execution_count": 98,
     "metadata": {},
     "output_type": "execute_result"
    }
   ],
   "source": [
    "S1 = S1.drop(columns=[\"Unnamed: 0\"])\n",
    "S2 = S2.drop(columns=[\"Unnamed: 0\"])\n",
    "S3 = S3.drop(columns=[\"Unnamed: 0\"])\n",
    "len(S1[S1.duplicated()])"
   ]
  },
  {
   "cell_type": "code",
   "execution_count": 96,
   "metadata": {},
   "outputs": [
    {
     "name": "stdout",
     "output_type": "stream",
     "text": [
      "number of duplicate rows in sensor 1 2190\n",
      "number of duplicate rows in sensor 2 2190\n",
      "number of duplicate rows in sensor 3 2190\n"
     ]
    }
   ],
   "source": [
    "print(\"number of duplicate rows in sensor 1\",S1.duplicated().sum())\n",
    "print(\"number of duplicate rows in sensor 2\",S2.duplicated().sum())\n",
    "print(\"number of duplicate rows in sensor 3\",S3.duplicated().sum())\n",
    "S1 = pd.DataFrame.drop_duplicates(S1)\n",
    "S2 = pd.DataFrame.drop_duplicates(S2)\n",
    "S3 = pd.DataFrame.drop_duplicates(S3)"
   ]
  },
  {
   "cell_type": "code",
   "execution_count": 60,
   "metadata": {},
   "outputs": [],
   "source": [
    "class data_quality:\n",
    "    def __init__(self,sensor):\n",
    "        self.sensor = sensor\n",
    "    def describe(self):\n",
    "        return self.sensor.describe()\n",
    "    def consistent(self):\n",
    "        return pd.to_datetime(self.sensor[\"UTC Datetime\"], errors='coerce').isnull().value_counts(), pd.to_datetime(self.sensor[\"Local Datetime\"], errors='coerce').isnull().value_counts()\n",
    "    \n",
    "    def outliers(self):\n",
    "        return sns.boxplot(self.sensor['Pedestrian'])\n",
    "    def missing_data(self):\n",
    "        return self.sensor.isnull().sum()"
   ]
  },
  {
   "cell_type": "code",
   "execution_count": 61,
   "metadata": {},
   "outputs": [
    {
     "data": {
      "text/plain": [
       "(False    6474\n",
       " Name: UTC Datetime, dtype: int64,\n",
       " False    6474\n",
       " Name: Local Datetime, dtype: int64)"
      ]
     },
     "execution_count": 61,
     "metadata": {},
     "output_type": "execute_result"
    }
   ],
   "source": [
    "S1_quality=data_quality(S1)\n",
    "S1_quality.consistent()"
   ]
  },
  {
   "cell_type": "code",
   "execution_count": 21,
   "metadata": {},
   "outputs": [],
   "source": [
    "#S1_quality.outliers()\n",
    "df = pd.DataFrame(S1.dtypes)\n"
   ]
  },
  {
   "cell_type": "code",
   "execution_count": 7,
   "metadata": {},
   "outputs": [
    {
     "data": {
      "text/plain": [
       "UTC Datetime      0\n",
       "Local Datetime    0\n",
       "countlineId       0\n",
       "countlineName     0\n",
       "Sensor Number     0\n",
       "direction         0\n",
       "Pedestrian        1\n",
       "dtype: int64"
      ]
     },
     "execution_count": 7,
     "metadata": {},
     "output_type": "execute_result"
    }
   ],
   "source": [
    "S1_quality.missing_data()"
   ]
  },
  {
   "cell_type": "code",
   "execution_count": 8,
   "metadata": {},
   "outputs": [
    {
     "data": {
      "text/plain": [
       "(False    4284\n",
       " Name: UTC Datetime, dtype: int64,\n",
       " False    4284\n",
       " Name: Local Datetime, dtype: int64)"
      ]
     },
     "execution_count": 8,
     "metadata": {},
     "output_type": "execute_result"
    }
   ],
   "source": [
    "S2_quality=data_quality(S2)\n",
    "S2_quality.consistent()"
   ]
  },
  {
   "cell_type": "code",
   "execution_count": 9,
   "metadata": {},
   "outputs": [
    {
     "name": "stderr",
     "output_type": "stream",
     "text": [
      "/Users/jiang/opt/anaconda3/lib/python3.9/site-packages/seaborn/_decorators.py:36: FutureWarning: Pass the following variable as a keyword arg: x. From version 0.12, the only valid positional argument will be `data`, and passing other arguments without an explicit keyword will result in an error or misinterpretation.\n",
      "  warnings.warn(\n"
     ]
    },
    {
     "data": {
      "text/plain": [
       "<AxesSubplot:xlabel='Pedestrian'>"
      ]
     },
     "execution_count": 9,
     "metadata": {},
     "output_type": "execute_result"
    },
    {
     "data": {
      "image/png": "[encoded data removed]",
      "text/plain": [
       "<Figure size 432x288 with 1 Axes>"
      ]
     },
     "metadata": {
      "needs_background": "light"
     },
     "output_type": "display_data"
    }
   ],
   "source": [
    "S2_quality.outliers()"
   ]
  },
  {
   "cell_type": "code",
   "execution_count": 10,
   "metadata": {},
   "outputs": [
    {
     "data": {
      "text/plain": [
       "UTC Datetime         0\n",
       "Local Datetime       0\n",
       "countlineId          0\n",
       "countlineName        0\n",
       "Sensor Number        0\n",
       "direction            0\n",
       "Pedestrian        1077\n",
       "dtype: int64"
      ]
     },
     "execution_count": 10,
     "metadata": {},
     "output_type": "execute_result"
    }
   ],
   "source": [
    "S2_quality.missing_data()"
   ]
  },
  {
   "cell_type": "code",
   "execution_count": 64,
   "metadata": {},
   "outputs": [
    {
     "data": {
      "text/plain": [
       "(False    6474\n",
       " Name: UTC Datetime, dtype: int64,\n",
       " False    6474\n",
       " Name: Local Datetime, dtype: int64)"
      ]
     },
     "execution_count": 64,
     "metadata": {},
     "output_type": "execute_result"
    }
   ],
   "source": [
    "S3_quality=data_quality(S3)\n",
    "S3_quality.consistent()"
   ]
  },
  {
   "cell_type": "code",
   "execution_count": 65,
   "metadata": {},
   "outputs": [
    {
     "name": "stderr",
     "output_type": "stream",
     "text": [
      "/Users/jiang/opt/anaconda3/lib/python3.9/site-packages/seaborn/_decorators.py:36: FutureWarning: Pass the following variable as a keyword arg: x. From version 0.12, the only valid positional argument will be `data`, and passing other arguments without an explicit keyword will result in an error or misinterpretation.\n",
      "  warnings.warn(\n"
     ]
    },
    {
     "data": {
      "text/plain": [
       "<AxesSubplot:xlabel='Pedestrian'>"
      ]
     },
     "execution_count": 65,
     "metadata": {},
     "output_type": "execute_result"
    },
    {
     "data": {
      "image/png": "[encoded data removed]",
      "text/plain": [
       "<Figure size 432x288 with 1 Axes>"
      ]
     },
     "metadata": {
      "needs_background": "light"
     },
     "output_type": "display_data"
    }
   ],
   "source": [
    "S3_quality.outliers()"
   ]
  },
  {
   "cell_type": "code",
   "execution_count": 13,
   "metadata": {},
   "outputs": [
    {
     "data": {
      "text/plain": [
       "UTC Datetime      0\n",
       "Local Datetime    0\n",
       "countlineId       0\n",
       "countlineName     0\n",
       "Sensor Number     0\n",
       "direction         0\n",
       "Pedestrian        0\n",
       "dtype: int64"
      ]
     },
     "execution_count": 13,
     "metadata": {},
     "output_type": "execute_result"
    }
   ],
   "source": [
    "S3_quality.missing_data()"
   ]
  },
  {
   "cell_type": "code",
   "execution_count": 14,
   "metadata": {},
   "outputs": [
    {
     "data": {
      "text/html": [
       "<div>\n",
       "<style scoped>\n",
       "    .dataframe tbody tr th:only-of-type {\n",
       "        vertical-align: middle;\n",
       "    }\n",
       "\n",
       "    .dataframe tbody tr th {\n",
       "        vertical-align: top;\n",
       "    }\n",
       "\n",
       "    .dataframe thead th {\n",
       "        text-align: right;\n",
       "    }\n",
       "</style>\n",
       "<table border=\"1\" class=\"dataframe\">\n",
       "  <thead>\n",
       "    <tr style=\"text-align: right;\">\n",
       "      <th></th>\n",
       "      <th>year</th>\n",
       "      <th>month</th>\n",
       "      <th>countlineId</th>\n",
       "      <th>Pedestrian</th>\n",
       "    </tr>\n",
       "  </thead>\n",
       "  <tbody>\n",
       "    <tr>\n",
       "      <th>0</th>\n",
       "      <td>2021</td>\n",
       "      <td>5</td>\n",
       "      <td>22995.0</td>\n",
       "      <td>1914.133333</td>\n",
       "    </tr>\n",
       "    <tr>\n",
       "      <th>1</th>\n",
       "      <td>2021</td>\n",
       "      <td>6</td>\n",
       "      <td>22995.0</td>\n",
       "      <td>2030.344444</td>\n",
       "    </tr>\n",
       "    <tr>\n",
       "      <th>2</th>\n",
       "      <td>2021</td>\n",
       "      <td>7</td>\n",
       "      <td>22995.0</td>\n",
       "      <td>1942.768817</td>\n",
       "    </tr>\n",
       "    <tr>\n",
       "      <th>3</th>\n",
       "      <td>2021</td>\n",
       "      <td>8</td>\n",
       "      <td>22995.0</td>\n",
       "      <td>1975.774194</td>\n",
       "    </tr>\n",
       "    <tr>\n",
       "      <th>4</th>\n",
       "      <td>2021</td>\n",
       "      <td>9</td>\n",
       "      <td>22995.0</td>\n",
       "      <td>1978.900000</td>\n",
       "    </tr>\n",
       "  </tbody>\n",
       "</table>\n",
       "</div>"
      ],
      "text/plain": [
       "   year  month  countlineId   Pedestrian\n",
       "0  2021      5      22995.0  1914.133333\n",
       "1  2021      6      22995.0  2030.344444\n",
       "2  2021      7      22995.0  1942.768817\n",
       "3  2021      8      22995.0  1975.774194\n",
       "4  2021      9      22995.0  1978.900000"
      ]
     },
     "execution_count": 14,
     "metadata": {},
     "output_type": "execute_result"
    }
   ],
   "source": [
    "S2_avg = S2.copy()\n",
    "S2_avg[\"month\"]=pd.to_datetime(S2_avg[\"UTC Datetime\"]).dt.month\n",
    "S2_avg[\"year\"]=pd.to_datetime(S2_avg[\"UTC Datetime\"]).dt.year\n",
    "S2_month = S2_avg.groupby(['year','month'],as_index=False).mean()\n",
    "S2_month.head()"
   ]
  },
  {
   "cell_type": "code",
   "execution_count": 15,
   "metadata": {},
   "outputs": [
    {
     "data": {
      "text/html": [
       "<div>\n",
       "<style scoped>\n",
       "    .dataframe tbody tr th:only-of-type {\n",
       "        vertical-align: middle;\n",
       "    }\n",
       "\n",
       "    .dataframe tbody tr th {\n",
       "        vertical-align: top;\n",
       "    }\n",
       "\n",
       "    .dataframe thead th {\n",
       "        text-align: right;\n",
       "    }\n",
       "</style>\n",
       "<table border=\"1\" class=\"dataframe\">\n",
       "  <thead>\n",
       "    <tr style=\"text-align: right;\">\n",
       "      <th></th>\n",
       "      <th>year</th>\n",
       "      <th>month</th>\n",
       "      <th>day</th>\n",
       "      <th>countlineId</th>\n",
       "      <th>Pedestrian</th>\n",
       "    </tr>\n",
       "  </thead>\n",
       "  <tbody>\n",
       "    <tr>\n",
       "      <th>0</th>\n",
       "      <td>2021</td>\n",
       "      <td>5</td>\n",
       "      <td>17</td>\n",
       "      <td>22995.0</td>\n",
       "      <td>1867.666667</td>\n",
       "    </tr>\n",
       "    <tr>\n",
       "      <th>1</th>\n",
       "      <td>2021</td>\n",
       "      <td>5</td>\n",
       "      <td>18</td>\n",
       "      <td>22995.0</td>\n",
       "      <td>1925.166667</td>\n",
       "    </tr>\n",
       "    <tr>\n",
       "      <th>2</th>\n",
       "      <td>2021</td>\n",
       "      <td>5</td>\n",
       "      <td>19</td>\n",
       "      <td>22995.0</td>\n",
       "      <td>2071.833333</td>\n",
       "    </tr>\n",
       "    <tr>\n",
       "      <th>3</th>\n",
       "      <td>2021</td>\n",
       "      <td>5</td>\n",
       "      <td>20</td>\n",
       "      <td>22995.0</td>\n",
       "      <td>1119.833333</td>\n",
       "    </tr>\n",
       "    <tr>\n",
       "      <th>4</th>\n",
       "      <td>2021</td>\n",
       "      <td>5</td>\n",
       "      <td>21</td>\n",
       "      <td>22995.0</td>\n",
       "      <td>1712.666667</td>\n",
       "    </tr>\n",
       "  </tbody>\n",
       "</table>\n",
       "</div>"
      ],
      "text/plain": [
       "   year  month  day  countlineId   Pedestrian\n",
       "0  2021      5   17      22995.0  1867.666667\n",
       "1  2021      5   18      22995.0  1925.166667\n",
       "2  2021      5   19      22995.0  2071.833333\n",
       "3  2021      5   20      22995.0  1119.833333\n",
       "4  2021      5   21      22995.0  1712.666667"
      ]
     },
     "execution_count": 15,
     "metadata": {},
     "output_type": "execute_result"
    }
   ],
   "source": [
    "S2_avg = S2.copy()\n",
    "S2_avg[\"month\"]=pd.to_datetime(S2_avg[\"UTC Datetime\"]).dt.month\n",
    "S2_avg[\"year\"]=pd.to_datetime(S2_avg[\"UTC Datetime\"]).dt.year\n",
    "S2_avg[\"day\"]=pd.to_datetime(S2_avg[\"UTC Datetime\"]).dt.day\n",
    "S2_day = S2_avg.groupby(['year','month','day'],as_index=False).mean()\n",
    "S2_day.head()"
   ]
  },
  {
   "cell_type": "code",
   "execution_count": 17,
   "metadata": {
    "scrolled": true
   },
   "outputs": [
    {
     "name": "stderr",
     "output_type": "stream",
     "text": [
      "/var/folders/w_/ft1536ls3k3gvb2sks5dbg8h0000gn/T/ipykernel_16547/922864987.py:4: FutureWarning: Series.dt.weekofyear and Series.dt.week have been deprecated.  Please use Series.dt.isocalendar().week instead.\n",
      "  S2_avg[\"week\"]=pd.to_datetime(S2_avg[\"UTC Datetime\"]).dt.week\n"
     ]
    },
    {
     "data": {
      "text/html": [
       "<div>\n",
       "<style scoped>\n",
       "    .dataframe tbody tr th:only-of-type {\n",
       "        vertical-align: middle;\n",
       "    }\n",
       "\n",
       "    .dataframe tbody tr th {\n",
       "        vertical-align: top;\n",
       "    }\n",
       "\n",
       "    .dataframe thead th {\n",
       "        text-align: right;\n",
       "    }\n",
       "</style>\n",
       "<table border=\"1\" class=\"dataframe\">\n",
       "  <thead>\n",
       "    <tr style=\"text-align: right;\">\n",
       "      <th></th>\n",
       "      <th>year</th>\n",
       "      <th>month</th>\n",
       "      <th>week</th>\n",
       "      <th>countlineId</th>\n",
       "      <th>Pedestrian</th>\n",
       "    </tr>\n",
       "  </thead>\n",
       "  <tbody>\n",
       "    <tr>\n",
       "      <th>0</th>\n",
       "      <td>2021</td>\n",
       "      <td>5</td>\n",
       "      <td>20</td>\n",
       "      <td>22995.0</td>\n",
       "      <td>1813.833333</td>\n",
       "    </tr>\n",
       "    <tr>\n",
       "      <th>1</th>\n",
       "      <td>2021</td>\n",
       "      <td>5</td>\n",
       "      <td>21</td>\n",
       "      <td>22995.0</td>\n",
       "      <td>1973.690476</td>\n",
       "    </tr>\n",
       "    <tr>\n",
       "      <th>2</th>\n",
       "      <td>2021</td>\n",
       "      <td>5</td>\n",
       "      <td>22</td>\n",
       "      <td>22995.0</td>\n",
       "      <td>2199.333333</td>\n",
       "    </tr>\n",
       "    <tr>\n",
       "      <th>3</th>\n",
       "      <td>2021</td>\n",
       "      <td>6</td>\n",
       "      <td>22</td>\n",
       "      <td>22995.0</td>\n",
       "      <td>2108.416667</td>\n",
       "    </tr>\n",
       "    <tr>\n",
       "      <th>4</th>\n",
       "      <td>2021</td>\n",
       "      <td>6</td>\n",
       "      <td>23</td>\n",
       "      <td>22995.0</td>\n",
       "      <td>2013.285714</td>\n",
       "    </tr>\n",
       "  </tbody>\n",
       "</table>\n",
       "</div>"
      ],
      "text/plain": [
       "   year  month  week  countlineId   Pedestrian\n",
       "0  2021      5    20      22995.0  1813.833333\n",
       "1  2021      5    21      22995.0  1973.690476\n",
       "2  2021      5    22      22995.0  2199.333333\n",
       "3  2021      6    22      22995.0  2108.416667\n",
       "4  2021      6    23      22995.0  2013.285714"
      ]
     },
     "execution_count": 17,
     "metadata": {},
     "output_type": "execute_result"
    }
   ],
   "source": [
    "S2_avg = S2.copy()\n",
    "S2_avg[\"month\"]=pd.to_datetime(S2_avg[\"UTC Datetime\"]).dt.month\n",
    "S2_avg[\"year\"]=pd.to_datetime(S2_avg[\"UTC Datetime\"]).dt.year\n",
    "S2_avg[\"week\"]=pd.to_datetime(S2_avg[\"UTC Datetime\"]).dt.week\n",
    "S2_week = S2_avg.groupby(['year','month','week'],as_index=False).mean()\n",
    "S2_week.head()"
   ]
  },
  {
   "cell_type": "markdown",
   "metadata": {},
   "source": [
    "### The cell below shows which months are totally missed"
   ]
  },
  {
   "cell_type": "code",
   "execution_count": 18,
   "metadata": {},
   "outputs": [
    {
     "data": {
      "text/html": [
       "<div>\n",
       "<style scoped>\n",
       "    .dataframe tbody tr th:only-of-type {\n",
       "        vertical-align: middle;\n",
       "    }\n",
       "\n",
       "    .dataframe tbody tr th {\n",
       "        vertical-align: top;\n",
       "    }\n",
       "\n",
       "    .dataframe thead th {\n",
       "        text-align: right;\n",
       "    }\n",
       "</style>\n",
       "<table border=\"1\" class=\"dataframe\">\n",
       "  <thead>\n",
       "    <tr style=\"text-align: right;\">\n",
       "      <th></th>\n",
       "      <th>year</th>\n",
       "      <th>month</th>\n",
       "      <th>countlineId</th>\n",
       "      <th>Pedestrian</th>\n",
       "    </tr>\n",
       "  </thead>\n",
       "  <tbody>\n",
       "    <tr>\n",
       "      <th>7</th>\n",
       "      <td>2021</td>\n",
       "      <td>12</td>\n",
       "      <td>22995.0</td>\n",
       "      <td>NaN</td>\n",
       "    </tr>\n",
       "    <tr>\n",
       "      <th>8</th>\n",
       "      <td>2022</td>\n",
       "      <td>1</td>\n",
       "      <td>22995.0</td>\n",
       "      <td>NaN</td>\n",
       "    </tr>\n",
       "    <tr>\n",
       "      <th>9</th>\n",
       "      <td>2022</td>\n",
       "      <td>2</td>\n",
       "      <td>22995.0</td>\n",
       "      <td>NaN</td>\n",
       "    </tr>\n",
       "    <tr>\n",
       "      <th>10</th>\n",
       "      <td>2022</td>\n",
       "      <td>3</td>\n",
       "      <td>22995.0</td>\n",
       "      <td>NaN</td>\n",
       "    </tr>\n",
       "    <tr>\n",
       "      <th>11</th>\n",
       "      <td>2022</td>\n",
       "      <td>4</td>\n",
       "      <td>22995.0</td>\n",
       "      <td>NaN</td>\n",
       "    </tr>\n",
       "  </tbody>\n",
       "</table>\n",
       "</div>"
      ],
      "text/plain": [
       "    year  month  countlineId  Pedestrian\n",
       "7   2021     12      22995.0         NaN\n",
       "8   2022      1      22995.0         NaN\n",
       "9   2022      2      22995.0         NaN\n",
       "10  2022      3      22995.0         NaN\n",
       "11  2022      4      22995.0         NaN"
      ]
     },
     "execution_count": 18,
     "metadata": {},
     "output_type": "execute_result"
    }
   ],
   "source": [
    "missingdata_month = S2_month[S2_month[\"Pedestrian\"].isna()]\n",
    "missingdata_month"
   ]
  },
  {
   "cell_type": "markdown",
   "metadata": {},
   "source": [
    "### The cell below shows which weeks are totally missed "
   ]
  },
  {
   "cell_type": "code",
   "execution_count": 19,
   "metadata": {},
   "outputs": [
    {
     "data": {
      "text/html": [
       "<div>\n",
       "<style scoped>\n",
       "    .dataframe tbody tr th:only-of-type {\n",
       "        vertical-align: middle;\n",
       "    }\n",
       "\n",
       "    .dataframe tbody tr th {\n",
       "        vertical-align: top;\n",
       "    }\n",
       "\n",
       "    .dataframe thead th {\n",
       "        text-align: right;\n",
       "    }\n",
       "</style>\n",
       "<table border=\"1\" class=\"dataframe\">\n",
       "  <thead>\n",
       "    <tr style=\"text-align: right;\">\n",
       "      <th></th>\n",
       "      <th>year</th>\n",
       "      <th>month</th>\n",
       "      <th>week</th>\n",
       "      <th>countlineId</th>\n",
       "      <th>Pedestrian</th>\n",
       "    </tr>\n",
       "  </thead>\n",
       "  <tbody>\n",
       "    <tr>\n",
       "      <th>34</th>\n",
       "      <td>2021</td>\n",
       "      <td>12</td>\n",
       "      <td>48</td>\n",
       "      <td>22995.0</td>\n",
       "      <td>NaN</td>\n",
       "    </tr>\n",
       "    <tr>\n",
       "      <th>35</th>\n",
       "      <td>2021</td>\n",
       "      <td>12</td>\n",
       "      <td>49</td>\n",
       "      <td>22995.0</td>\n",
       "      <td>NaN</td>\n",
       "    </tr>\n",
       "    <tr>\n",
       "      <th>36</th>\n",
       "      <td>2021</td>\n",
       "      <td>12</td>\n",
       "      <td>50</td>\n",
       "      <td>22995.0</td>\n",
       "      <td>NaN</td>\n",
       "    </tr>\n",
       "    <tr>\n",
       "      <th>37</th>\n",
       "      <td>2021</td>\n",
       "      <td>12</td>\n",
       "      <td>51</td>\n",
       "      <td>22995.0</td>\n",
       "      <td>NaN</td>\n",
       "    </tr>\n",
       "    <tr>\n",
       "      <th>38</th>\n",
       "      <td>2021</td>\n",
       "      <td>12</td>\n",
       "      <td>52</td>\n",
       "      <td>22995.0</td>\n",
       "      <td>NaN</td>\n",
       "    </tr>\n",
       "  </tbody>\n",
       "</table>\n",
       "</div>"
      ],
      "text/plain": [
       "    year  month  week  countlineId  Pedestrian\n",
       "34  2021     12    48      22995.0         NaN\n",
       "35  2021     12    49      22995.0         NaN\n",
       "36  2021     12    50      22995.0         NaN\n",
       "37  2021     12    51      22995.0         NaN\n",
       "38  2021     12    52      22995.0         NaN"
      ]
     },
     "execution_count": 19,
     "metadata": {},
     "output_type": "execute_result"
    }
   ],
   "source": [
    "missingdata_week = S2_week[S2_week[\"Pedestrian\"].isna()]\n",
    "missingdata_week.head()"
   ]
  },
  {
   "cell_type": "markdown",
   "metadata": {},
   "source": [
    "### For days, after 2022 4-30,the missing data start from 5-1 to 5-3 and then jump to 6-18 until 7-12"
   ]
  },
  {
   "cell_type": "markdown",
   "metadata": {},
   "source": [
    "### The cell below shows which days are totally missed"
   ]
  },
  {
   "cell_type": "code",
   "execution_count": 20,
   "metadata": {
    "scrolled": true
   },
   "outputs": [
    {
     "data": {
      "text/html": [
       "<div>\n",
       "<style scoped>\n",
       "    .dataframe tbody tr th:only-of-type {\n",
       "        vertical-align: middle;\n",
       "    }\n",
       "\n",
       "    .dataframe tbody tr th {\n",
       "        vertical-align: top;\n",
       "    }\n",
       "\n",
       "    .dataframe thead th {\n",
       "        text-align: right;\n",
       "    }\n",
       "</style>\n",
       "<table border=\"1\" class=\"dataframe\">\n",
       "  <thead>\n",
       "    <tr style=\"text-align: right;\">\n",
       "      <th></th>\n",
       "      <th>year</th>\n",
       "      <th>month</th>\n",
       "      <th>day</th>\n",
       "      <th>countlineId</th>\n",
       "      <th>Pedestrian</th>\n",
       "    </tr>\n",
       "  </thead>\n",
       "  <tbody>\n",
       "    <tr>\n",
       "      <th>198</th>\n",
       "      <td>2021</td>\n",
       "      <td>12</td>\n",
       "      <td>1</td>\n",
       "      <td>22995.0</td>\n",
       "      <td>NaN</td>\n",
       "    </tr>\n",
       "    <tr>\n",
       "      <th>199</th>\n",
       "      <td>2021</td>\n",
       "      <td>12</td>\n",
       "      <td>2</td>\n",
       "      <td>22995.0</td>\n",
       "      <td>NaN</td>\n",
       "    </tr>\n",
       "    <tr>\n",
       "      <th>200</th>\n",
       "      <td>2021</td>\n",
       "      <td>12</td>\n",
       "      <td>3</td>\n",
       "      <td>22995.0</td>\n",
       "      <td>NaN</td>\n",
       "    </tr>\n",
       "    <tr>\n",
       "      <th>201</th>\n",
       "      <td>2021</td>\n",
       "      <td>12</td>\n",
       "      <td>4</td>\n",
       "      <td>22995.0</td>\n",
       "      <td>NaN</td>\n",
       "    </tr>\n",
       "    <tr>\n",
       "      <th>202</th>\n",
       "      <td>2021</td>\n",
       "      <td>12</td>\n",
       "      <td>5</td>\n",
       "      <td>22995.0</td>\n",
       "      <td>NaN</td>\n",
       "    </tr>\n",
       "  </tbody>\n",
       "</table>\n",
       "</div>"
      ],
      "text/plain": [
       "     year  month  day  countlineId  Pedestrian\n",
       "198  2021     12    1      22995.0         NaN\n",
       "199  2021     12    2      22995.0         NaN\n",
       "200  2021     12    3      22995.0         NaN\n",
       "201  2021     12    4      22995.0         NaN\n",
       "202  2021     12    5      22995.0         NaN"
      ]
     },
     "execution_count": 20,
     "metadata": {},
     "output_type": "execute_result"
    }
   ],
   "source": [
    "missingdata_day = S2_day[S2_day[\"Pedestrian\"].isna()]\n",
    "missingdata_day.head()"
   ]
  },
  {
   "cell_type": "code",
   "execution_count": 36,
   "metadata": {},
   "outputs": [
    {
     "data": {
      "text/plain": [
       "3766"
      ]
     },
     "execution_count": 36,
     "metadata": {},
     "output_type": "execute_result"
    }
   ],
   "source": [
    "max(S3[\"Pedestrian\"])"
   ]
  },
  {
   "cell_type": "code",
   "execution_count": 38,
   "metadata": {},
   "outputs": [
    {
     "data": {
      "text/html": [
       "<div>\n",
       "<style scoped>\n",
       "    .dataframe tbody tr th:only-of-type {\n",
       "        vertical-align: middle;\n",
       "    }\n",
       "\n",
       "    .dataframe tbody tr th {\n",
       "        vertical-align: top;\n",
       "    }\n",
       "\n",
       "    .dataframe thead th {\n",
       "        text-align: right;\n",
       "    }\n",
       "</style>\n",
       "<table border=\"1\" class=\"dataframe\">\n",
       "  <thead>\n",
       "    <tr style=\"text-align: right;\">\n",
       "      <th></th>\n",
       "      <th>UTC Datetime</th>\n",
       "      <th>Local Datetime</th>\n",
       "      <th>countlineId</th>\n",
       "      <th>countlineName</th>\n",
       "      <th>Sensor Number</th>\n",
       "      <th>direction</th>\n",
       "      <th>Pedestrian</th>\n",
       "    </tr>\n",
       "  </thead>\n",
       "  <tbody>\n",
       "    <tr>\n",
       "      <th>0</th>\n",
       "      <td>2021-05-17 00:00:00.000</td>\n",
       "      <td>2021-05-17 01:00:00.000</td>\n",
       "      <td>22989</td>\n",
       "      <td>S1_georgeSt_dlr001</td>\n",
       "      <td>S1</td>\n",
       "      <td>in</td>\n",
       "      <td>344.0</td>\n",
       "    </tr>\n",
       "    <tr>\n",
       "      <th>1</th>\n",
       "      <td>2021-05-17 00:00:00.000</td>\n",
       "      <td>2021-05-17 01:00:00.000</td>\n",
       "      <td>22989</td>\n",
       "      <td>S1_georgeSt_dlr001</td>\n",
       "      <td>S1</td>\n",
       "      <td>out</td>\n",
       "      <td>76.0</td>\n",
       "    </tr>\n",
       "    <tr>\n",
       "      <th>2</th>\n",
       "      <td>2021-05-17 00:00:00.000</td>\n",
       "      <td>2021-05-17 01:00:00.000</td>\n",
       "      <td>22988</td>\n",
       "      <td>S1_georgeSt_pathLHS_dlr001</td>\n",
       "      <td>S1</td>\n",
       "      <td>in</td>\n",
       "      <td>1803.0</td>\n",
       "    </tr>\n",
       "    <tr>\n",
       "      <th>3</th>\n",
       "      <td>2021-05-17 00:00:00.000</td>\n",
       "      <td>2021-05-17 01:00:00.000</td>\n",
       "      <td>22988</td>\n",
       "      <td>S1_georgeSt_pathLHS_dlr001</td>\n",
       "      <td>S1</td>\n",
       "      <td>out</td>\n",
       "      <td>1671.0</td>\n",
       "    </tr>\n",
       "    <tr>\n",
       "      <th>4</th>\n",
       "      <td>2021-05-17 00:00:00.000</td>\n",
       "      <td>2021-05-17 01:00:00.000</td>\n",
       "      <td>22990</td>\n",
       "      <td>S1_georgeSt_pathRHS_dlr001</td>\n",
       "      <td>S1</td>\n",
       "      <td>in</td>\n",
       "      <td>2666.0</td>\n",
       "    </tr>\n",
       "    <tr>\n",
       "      <th>...</th>\n",
       "      <td>...</td>\n",
       "      <td>...</td>\n",
       "      <td>...</td>\n",
       "      <td>...</td>\n",
       "      <td>...</td>\n",
       "      <td>...</td>\n",
       "      <td>...</td>\n",
       "    </tr>\n",
       "    <tr>\n",
       "      <th>6469</th>\n",
       "      <td>2023-04-30 00:00:00.000</td>\n",
       "      <td>2023-05-13 00:59:59.995</td>\n",
       "      <td>22989</td>\n",
       "      <td>S1_georgeSt_dlr001</td>\n",
       "      <td>S1</td>\n",
       "      <td>out</td>\n",
       "      <td>68.0</td>\n",
       "    </tr>\n",
       "    <tr>\n",
       "      <th>6470</th>\n",
       "      <td>2023-04-30 00:00:00.000</td>\n",
       "      <td>2023-05-14 00:59:59.995</td>\n",
       "      <td>22988</td>\n",
       "      <td>S1_georgeSt_pathLHS_dlr001</td>\n",
       "      <td>S1</td>\n",
       "      <td>in</td>\n",
       "      <td>2220.0</td>\n",
       "    </tr>\n",
       "    <tr>\n",
       "      <th>6471</th>\n",
       "      <td>2023-04-30 00:00:00.000</td>\n",
       "      <td>2023-05-15 00:59:59.995</td>\n",
       "      <td>22988</td>\n",
       "      <td>S1_georgeSt_pathLHS_dlr001</td>\n",
       "      <td>S1</td>\n",
       "      <td>out</td>\n",
       "      <td>1791.0</td>\n",
       "    </tr>\n",
       "    <tr>\n",
       "      <th>6472</th>\n",
       "      <td>2023-04-30 00:00:00.000</td>\n",
       "      <td>2023-05-16 00:59:59.995</td>\n",
       "      <td>22990</td>\n",
       "      <td>S1_georgeSt_pathRHS_dlr001</td>\n",
       "      <td>S1</td>\n",
       "      <td>in</td>\n",
       "      <td>2621.0</td>\n",
       "    </tr>\n",
       "    <tr>\n",
       "      <th>6473</th>\n",
       "      <td>2023-04-30 00:00:00.000</td>\n",
       "      <td>2023-05-17 00:59:59.995</td>\n",
       "      <td>22990</td>\n",
       "      <td>S1_georgeSt_pathRHS_dlr001</td>\n",
       "      <td>S1</td>\n",
       "      <td>out</td>\n",
       "      <td>1523.0</td>\n",
       "    </tr>\n",
       "  </tbody>\n",
       "</table>\n",
       "<p>6474 rows × 7 columns</p>\n",
       "</div>"
      ],
      "text/plain": [
       "                 UTC Datetime           Local Datetime  countlineId  \\\n",
       "0     2021-05-17 00:00:00.000  2021-05-17 01:00:00.000        22989   \n",
       "1     2021-05-17 00:00:00.000  2021-05-17 01:00:00.000        22989   \n",
       "2     2021-05-17 00:00:00.000  2021-05-17 01:00:00.000        22988   \n",
       "3     2021-05-17 00:00:00.000  2021-05-17 01:00:00.000        22988   \n",
       "4     2021-05-17 00:00:00.000  2021-05-17 01:00:00.000        22990   \n",
       "...                       ...                      ...          ...   \n",
       "6469  2023-04-30 00:00:00.000  2023-05-13 00:59:59.995        22989   \n",
       "6470  2023-04-30 00:00:00.000  2023-05-14 00:59:59.995        22988   \n",
       "6471  2023-04-30 00:00:00.000  2023-05-15 00:59:59.995        22988   \n",
       "6472  2023-04-30 00:00:00.000  2023-05-16 00:59:59.995        22990   \n",
       "6473  2023-04-30 00:00:00.000  2023-05-17 00:59:59.995        22990   \n",
       "\n",
       "                   countlineName Sensor Number direction  Pedestrian  \n",
       "0             S1_georgeSt_dlr001            S1        in       344.0  \n",
       "1             S1_georgeSt_dlr001            S1       out        76.0  \n",
       "2     S1_georgeSt_pathLHS_dlr001            S1        in      1803.0  \n",
       "3     S1_georgeSt_pathLHS_dlr001            S1       out      1671.0  \n",
       "4     S1_georgeSt_pathRHS_dlr001            S1        in      2666.0  \n",
       "...                          ...           ...       ...         ...  \n",
       "6469          S1_georgeSt_dlr001            S1       out        68.0  \n",
       "6470  S1_georgeSt_pathLHS_dlr001            S1        in      2220.0  \n",
       "6471  S1_georgeSt_pathLHS_dlr001            S1       out      1791.0  \n",
       "6472  S1_georgeSt_pathRHS_dlr001            S1        in      2621.0  \n",
       "6473  S1_georgeSt_pathRHS_dlr001            S1       out      1523.0  \n",
       "\n",
       "[6474 rows x 7 columns]"
      ]
     },
     "execution_count": 38,
     "metadata": {},
     "output_type": "execute_result"
    }
   ],
   "source": [
    "S1"
   ]
  },
  {
   "cell_type": "code",
   "execution_count": null,
   "metadata": {},
   "outputs": [],
   "source": []
  }
 ],
 "metadata": {
  "kernelspec": {
   "display_name": "Python 3 (ipykernel)",
   "language": "python",
   "name": "python3"
  },
  "language_info": {
   "codemirror_mode": {
    "name": "ipython",
    "version": 3
   },
   "file_extension": ".py",
   "mimetype": "text/x-python",
   "name": "python",
   "nbconvert_exporter": "python",
   "pygments_lexer": "ipython3",
   "version": "3.9.7"
  }
 },
 "nbformat": 4,
 "nbformat_minor": 4
}
