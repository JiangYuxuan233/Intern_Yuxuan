{
 "cells": [
  {
   "cell_type": "code",
   "execution_count": 92,
   "metadata": {},
   "outputs": [],
   "source": [
    "import pandas as pd\n",
    "import numpy as np \n",
    "import sklearn\n",
    "from sklearn.linear_model import LinearRegression\n",
    "from sklearn.preprocessing import PolynomialFeatures\n",
    "import matplotlib.pyplot as plt\n",
    "import seaborn as sns\n",
    "import statsmodels.api as sm"
   ]
  },
  {
   "cell_type": "code",
   "execution_count": 93,
   "metadata": {},
   "outputs": [
    {
     "name": "stdout",
     "output_type": "stream",
     "text": [
      "number of duplicate rows in sensor 1 2190\n",
      "number of duplicate rows in sensor 2 2190\n",
      "number of duplicate rows in sensor 3 2190\n"
     ]
    }
   ],
   "source": [
    "S1 = pd.read_csv(\"Sensor1.csv\")\n",
    "S2 = pd.read_csv(\"Sensor2.csv\")\n",
    "S3 = pd.read_csv(\"Sensor3.csv\")\n",
    "S1 = S1.drop(columns=[\"Unnamed: 0\"])\n",
    "S2 = S2.drop(columns=[\"Unnamed: 0\"])\n",
    "S3 = S3.drop(columns=[\"Unnamed: 0\"])\n",
    "print(\"number of duplicate rows in sensor 1\",S1.duplicated().sum())\n",
    "print(\"number of duplicate rows in sensor 2\",S2.duplicated().sum())\n",
    "print(\"number of duplicate rows in sensor 3\",S3.duplicated().sum())\n",
    "S1 = pd.DataFrame.drop_duplicates(S1).reset_index()\n",
    "S2 = pd.DataFrame.drop_duplicates(S2).reset_index()\n",
    "S3 = pd.DataFrame.drop_duplicates(S3).reset_index()"
   ]
  },
  {
   "cell_type": "code",
   "execution_count": 11,
   "metadata": {},
   "outputs": [
    {
     "data": {
      "text/html": [
       "<div>\n",
       "<style scoped>\n",
       "    .dataframe tbody tr th:only-of-type {\n",
       "        vertical-align: middle;\n",
       "    }\n",
       "\n",
       "    .dataframe tbody tr th {\n",
       "        vertical-align: top;\n",
       "    }\n",
       "\n",
       "    .dataframe thead th {\n",
       "        text-align: right;\n",
       "    }\n",
       "</style>\n",
       "<table border=\"1\" class=\"dataframe\">\n",
       "  <thead>\n",
       "    <tr style=\"text-align: right;\">\n",
       "      <th></th>\n",
       "      <th>year</th>\n",
       "      <th>month</th>\n",
       "      <th>index</th>\n",
       "      <th>countlineId</th>\n",
       "      <th>Pedestrian</th>\n",
       "    </tr>\n",
       "  </thead>\n",
       "  <tbody>\n",
       "    <tr>\n",
       "      <th>0</th>\n",
       "      <td>2021</td>\n",
       "      <td>5</td>\n",
       "      <td>44.5</td>\n",
       "      <td>22995.0</td>\n",
       "      <td>1914.133333</td>\n",
       "    </tr>\n",
       "    <tr>\n",
       "      <th>1</th>\n",
       "      <td>2021</td>\n",
       "      <td>6</td>\n",
       "      <td>179.5</td>\n",
       "      <td>22995.0</td>\n",
       "      <td>2030.344444</td>\n",
       "    </tr>\n",
       "    <tr>\n",
       "      <th>2</th>\n",
       "      <td>2021</td>\n",
       "      <td>7</td>\n",
       "      <td>362.5</td>\n",
       "      <td>22995.0</td>\n",
       "      <td>1942.768817</td>\n",
       "    </tr>\n",
       "    <tr>\n",
       "      <th>3</th>\n",
       "      <td>2021</td>\n",
       "      <td>8</td>\n",
       "      <td>548.5</td>\n",
       "      <td>22995.0</td>\n",
       "      <td>1975.774194</td>\n",
       "    </tr>\n",
       "    <tr>\n",
       "      <th>4</th>\n",
       "      <td>2021</td>\n",
       "      <td>9</td>\n",
       "      <td>731.5</td>\n",
       "      <td>22995.0</td>\n",
       "      <td>1978.900000</td>\n",
       "    </tr>\n",
       "  </tbody>\n",
       "</table>\n",
       "</div>"
      ],
      "text/plain": [
       "   year  month  index  countlineId   Pedestrian\n",
       "0  2021      5   44.5      22995.0  1914.133333\n",
       "1  2021      6  179.5      22995.0  2030.344444\n",
       "2  2021      7  362.5      22995.0  1942.768817\n",
       "3  2021      8  548.5      22995.0  1975.774194\n",
       "4  2021      9  731.5      22995.0  1978.900000"
      ]
     },
     "execution_count": 11,
     "metadata": {},
     "output_type": "execute_result"
    }
   ],
   "source": [
    "S2_avg = S2.copy()\n",
    "S2_avg[\"month\"]=pd.to_datetime(S2_avg[\"UTC Datetime\"]).dt.month\n",
    "S2_avg[\"year\"]=pd.to_datetime(S2_avg[\"UTC Datetime\"]).dt.year\n",
    "S2_month = S2_avg.groupby(['year','month'],as_index=False).mean()\n",
    "S2_month.head()"
   ]
  },
  {
   "cell_type": "code",
   "execution_count": 12,
   "metadata": {},
   "outputs": [
    {
     "data": {
      "text/html": [
       "<div>\n",
       "<style scoped>\n",
       "    .dataframe tbody tr th:only-of-type {\n",
       "        vertical-align: middle;\n",
       "    }\n",
       "\n",
       "    .dataframe tbody tr th {\n",
       "        vertical-align: top;\n",
       "    }\n",
       "\n",
       "    .dataframe thead th {\n",
       "        text-align: right;\n",
       "    }\n",
       "</style>\n",
       "<table border=\"1\" class=\"dataframe\">\n",
       "  <thead>\n",
       "    <tr style=\"text-align: right;\">\n",
       "      <th></th>\n",
       "      <th>year</th>\n",
       "      <th>month</th>\n",
       "      <th>day</th>\n",
       "      <th>index</th>\n",
       "      <th>countlineId</th>\n",
       "      <th>Pedestrian</th>\n",
       "    </tr>\n",
       "  </thead>\n",
       "  <tbody>\n",
       "    <tr>\n",
       "      <th>0</th>\n",
       "      <td>2021</td>\n",
       "      <td>5</td>\n",
       "      <td>17</td>\n",
       "      <td>2.5</td>\n",
       "      <td>22995.0</td>\n",
       "      <td>1867.666667</td>\n",
       "    </tr>\n",
       "    <tr>\n",
       "      <th>1</th>\n",
       "      <td>2021</td>\n",
       "      <td>5</td>\n",
       "      <td>18</td>\n",
       "      <td>8.5</td>\n",
       "      <td>22995.0</td>\n",
       "      <td>1925.166667</td>\n",
       "    </tr>\n",
       "    <tr>\n",
       "      <th>2</th>\n",
       "      <td>2021</td>\n",
       "      <td>5</td>\n",
       "      <td>19</td>\n",
       "      <td>14.5</td>\n",
       "      <td>22995.0</td>\n",
       "      <td>2071.833333</td>\n",
       "    </tr>\n",
       "    <tr>\n",
       "      <th>3</th>\n",
       "      <td>2021</td>\n",
       "      <td>5</td>\n",
       "      <td>20</td>\n",
       "      <td>20.5</td>\n",
       "      <td>22995.0</td>\n",
       "      <td>1119.833333</td>\n",
       "    </tr>\n",
       "    <tr>\n",
       "      <th>4</th>\n",
       "      <td>2021</td>\n",
       "      <td>5</td>\n",
       "      <td>21</td>\n",
       "      <td>26.5</td>\n",
       "      <td>22995.0</td>\n",
       "      <td>1712.666667</td>\n",
       "    </tr>\n",
       "  </tbody>\n",
       "</table>\n",
       "</div>"
      ],
      "text/plain": [
       "   year  month  day  index  countlineId   Pedestrian\n",
       "0  2021      5   17    2.5      22995.0  1867.666667\n",
       "1  2021      5   18    8.5      22995.0  1925.166667\n",
       "2  2021      5   19   14.5      22995.0  2071.833333\n",
       "3  2021      5   20   20.5      22995.0  1119.833333\n",
       "4  2021      5   21   26.5      22995.0  1712.666667"
      ]
     },
     "execution_count": 12,
     "metadata": {},
     "output_type": "execute_result"
    }
   ],
   "source": [
    "S2_avg = S2.copy()\n",
    "S2_avg[\"month\"]=pd.to_datetime(S2_avg[\"UTC Datetime\"]).dt.month\n",
    "S2_avg[\"year\"]=pd.to_datetime(S2_avg[\"UTC Datetime\"]).dt.year\n",
    "S2_avg[\"day\"]=pd.to_datetime(S2_avg[\"UTC Datetime\"]).dt.day\n",
    "S2_day = S2_avg.groupby(['year','month','day'],as_index=False).mean()\n",
    "S2_day.head()"
   ]
  },
  {
   "cell_type": "code",
   "execution_count": 13,
   "metadata": {},
   "outputs": [
    {
     "name": "stderr",
     "output_type": "stream",
     "text": [
      "/var/folders/w_/ft1536ls3k3gvb2sks5dbg8h0000gn/T/ipykernel_13288/922864987.py:4: FutureWarning: Series.dt.weekofyear and Series.dt.week have been deprecated.  Please use Series.dt.isocalendar().week instead.\n",
      "  S2_avg[\"week\"]=pd.to_datetime(S2_avg[\"UTC Datetime\"]).dt.week\n"
     ]
    },
    {
     "data": {
      "text/html": [
       "<div>\n",
       "<style scoped>\n",
       "    .dataframe tbody tr th:only-of-type {\n",
       "        vertical-align: middle;\n",
       "    }\n",
       "\n",
       "    .dataframe tbody tr th {\n",
       "        vertical-align: top;\n",
       "    }\n",
       "\n",
       "    .dataframe thead th {\n",
       "        text-align: right;\n",
       "    }\n",
       "</style>\n",
       "<table border=\"1\" class=\"dataframe\">\n",
       "  <thead>\n",
       "    <tr style=\"text-align: right;\">\n",
       "      <th></th>\n",
       "      <th>year</th>\n",
       "      <th>month</th>\n",
       "      <th>week</th>\n",
       "      <th>index</th>\n",
       "      <th>countlineId</th>\n",
       "      <th>Pedestrian</th>\n",
       "    </tr>\n",
       "  </thead>\n",
       "  <tbody>\n",
       "    <tr>\n",
       "      <th>0</th>\n",
       "      <td>2021</td>\n",
       "      <td>5</td>\n",
       "      <td>20</td>\n",
       "      <td>20.5</td>\n",
       "      <td>22995.0</td>\n",
       "      <td>1813.833333</td>\n",
       "    </tr>\n",
       "    <tr>\n",
       "      <th>1</th>\n",
       "      <td>2021</td>\n",
       "      <td>5</td>\n",
       "      <td>21</td>\n",
       "      <td>62.5</td>\n",
       "      <td>22995.0</td>\n",
       "      <td>1973.690476</td>\n",
       "    </tr>\n",
       "    <tr>\n",
       "      <th>2</th>\n",
       "      <td>2021</td>\n",
       "      <td>5</td>\n",
       "      <td>22</td>\n",
       "      <td>86.5</td>\n",
       "      <td>22995.0</td>\n",
       "      <td>2199.333333</td>\n",
       "    </tr>\n",
       "    <tr>\n",
       "      <th>3</th>\n",
       "      <td>2021</td>\n",
       "      <td>6</td>\n",
       "      <td>22</td>\n",
       "      <td>107.5</td>\n",
       "      <td>22995.0</td>\n",
       "      <td>2108.416667</td>\n",
       "    </tr>\n",
       "    <tr>\n",
       "      <th>4</th>\n",
       "      <td>2021</td>\n",
       "      <td>6</td>\n",
       "      <td>23</td>\n",
       "      <td>146.5</td>\n",
       "      <td>22995.0</td>\n",
       "      <td>2013.285714</td>\n",
       "    </tr>\n",
       "  </tbody>\n",
       "</table>\n",
       "</div>"
      ],
      "text/plain": [
       "   year  month  week  index  countlineId   Pedestrian\n",
       "0  2021      5    20   20.5      22995.0  1813.833333\n",
       "1  2021      5    21   62.5      22995.0  1973.690476\n",
       "2  2021      5    22   86.5      22995.0  2199.333333\n",
       "3  2021      6    22  107.5      22995.0  2108.416667\n",
       "4  2021      6    23  146.5      22995.0  2013.285714"
      ]
     },
     "execution_count": 13,
     "metadata": {},
     "output_type": "execute_result"
    }
   ],
   "source": [
    "S2_avg = S2.copy()\n",
    "S2_avg[\"month\"]=pd.to_datetime(S2_avg[\"UTC Datetime\"]).dt.month\n",
    "S2_avg[\"year\"]=pd.to_datetime(S2_avg[\"UTC Datetime\"]).dt.year\n",
    "S2_avg[\"week\"]=pd.to_datetime(S2_avg[\"UTC Datetime\"]).dt.week\n",
    "S2_week = S2_avg.groupby(['year','month','week'],as_index=False).mean()\n",
    "S2_week.head()"
   ]
  },
  {
   "cell_type": "code",
   "execution_count": 19,
   "metadata": {},
   "outputs": [
    {
     "name": "stderr",
     "output_type": "stream",
     "text": [
      "/Users/jiang/opt/anaconda3/lib/python3.9/site-packages/statsmodels/tsa/tsatools.py:142: FutureWarning: In a future version of pandas all arguments of concat except for the argument 'objs' will be keyword-only\n",
      "  x = pd.concat(x[::order], 1)\n"
     ]
    }
   ],
   "source": [
    "train_S2=S2.loc[S2[\"Pedestrian\"]!=0]\n",
    "train_S1=S1.loc[S2[\"Pedestrian\"]!=0]\n",
    "train_S3=S3.loc[S2[\"Pedestrian\"]!=0]\n",
    "train = {\"S1\":np.array(train_S1[\"Pedestrian\"]),\n",
    "           \"S3\":np.array(train_S3[\"Pedestrian\"])}\n",
    "train = pd.DataFrame(train)\n",
    "test_S2=S2.loc[S2[\"Pedestrian\"]==0]\n",
    "test_S1=S1.loc[S2[\"Pedestrian\"]==0]\n",
    "test_S3=S3.loc[S2[\"Pedestrian\"]==0]\n",
    "test = {\"S1\":np.array(test_S1[\"Pedestrian\"]),\n",
    "           \"S3\":np.array(test_S3[\"Pedestrian\"])}\n",
    "test = pd.DataFrame(test)\n",
    "\n",
    "constant = sm.add_constant(train)\n",
    "model = sm.OLS(list(train_S2[\"Pedestrian\"]),constant)\n",
    "result = model.fit()\n",
    "new_constant=sm.add_constant(test)\n",
    "pred = result.predict(new_constant)"
   ]
  },
  {
   "cell_type": "code",
   "execution_count": 100,
   "metadata": {},
   "outputs": [
    {
     "name": "stderr",
     "output_type": "stream",
     "text": [
      "/var/folders/w_/ft1536ls3k3gvb2sks5dbg8h0000gn/T/ipykernel_13288/2979076922.py:5: SettingWithCopyWarning: \n",
      "A value is trying to be set on a copy of a slice from a DataFrame\n",
      "\n",
      "See the caveats in the documentation: https://pandas.pydata.org/pandas-docs/stable/user_guide/indexing.html#returning-a-view-versus-a-copy\n",
      "  S2[\"Pedestrian\"][i]= pred[i]\n"
     ]
    }
   ],
   "source": [
    "miss_value = S2.loc[S2[\"Pedestrian\"]==0]\n",
    "pred.index = miss_value.index\n",
    "for i in range(len(S2)):\n",
    "    if S2[\"Pedestrian\"][i]==0:\n",
    "        S2[\"Pedestrian\"][i]= pred[i]"
   ]
  },
  {
   "cell_type": "code",
   "execution_count": 101,
   "metadata": {},
   "outputs": [
    {
     "data": {
      "text/plain": [
       "[<matplotlib.lines.Line2D at 0x7fde6388b9a0>]"
      ]
     },
     "execution_count": 101,
     "metadata": {},
     "output_type": "execute_result"
    },
    {
     "data": {
      "image/png": "[encoded data removed]",
      "text/plain": [
       "<Figure size 432x288 with 1 Axes>"
      ]
     },
     "metadata": {
      "needs_background": "light"
     },
     "output_type": "display_data"
    }
   ],
   "source": [
    "plt.plot(pd.to_datetime(S2[\"UTC Datetime\"]),S2[\"Pedestrian\"])"
   ]
  },
  {
   "cell_type": "code",
   "execution_count": 106,
   "metadata": {},
   "outputs": [
    {
     "data": {
      "text/html": [
       "<div>\n",
       "<style scoped>\n",
       "    .dataframe tbody tr th:only-of-type {\n",
       "        vertical-align: middle;\n",
       "    }\n",
       "\n",
       "    .dataframe tbody tr th {\n",
       "        vertical-align: top;\n",
       "    }\n",
       "\n",
       "    .dataframe thead th {\n",
       "        text-align: right;\n",
       "    }\n",
       "</style>\n",
       "<table border=\"1\" class=\"dataframe\">\n",
       "  <thead>\n",
       "    <tr style=\"text-align: right;\">\n",
       "      <th></th>\n",
       "      <th>index</th>\n",
       "      <th>UTC Datetime</th>\n",
       "      <th>Local Datetime</th>\n",
       "      <th>countlineId</th>\n",
       "      <th>countlineName</th>\n",
       "      <th>Sensor Number</th>\n",
       "      <th>direction</th>\n",
       "      <th>Pedestrian</th>\n",
       "    </tr>\n",
       "  </thead>\n",
       "  <tbody>\n",
       "    <tr>\n",
       "      <th>1188</th>\n",
       "      <td>1188</td>\n",
       "      <td>2021-12-01 00:00:00.000</td>\n",
       "      <td>2021-12-01 00:00:00.000</td>\n",
       "      <td>22995</td>\n",
       "      <td>S2_StGeorgesUpperSt_dlr001</td>\n",
       "      <td>S2</td>\n",
       "      <td>in</td>\n",
       "      <td>327</td>\n",
       "    </tr>\n",
       "    <tr>\n",
       "      <th>1189</th>\n",
       "      <td>1189</td>\n",
       "      <td>2021-12-01 00:00:00.000</td>\n",
       "      <td>2021-12-01 00:00:00.000</td>\n",
       "      <td>22995</td>\n",
       "      <td>S2_StGeorgesUpperSt_dlr001</td>\n",
       "      <td>S2</td>\n",
       "      <td>out</td>\n",
       "      <td>175</td>\n",
       "    </tr>\n",
       "    <tr>\n",
       "      <th>1190</th>\n",
       "      <td>1190</td>\n",
       "      <td>2021-12-01 00:00:00.000</td>\n",
       "      <td>2021-12-01 00:00:00.000</td>\n",
       "      <td>22994</td>\n",
       "      <td>S2_StGeorgesUpperSt_pathLHS_dlr001</td>\n",
       "      <td>S2</td>\n",
       "      <td>in</td>\n",
       "      <td>2635</td>\n",
       "    </tr>\n",
       "    <tr>\n",
       "      <th>1191</th>\n",
       "      <td>1191</td>\n",
       "      <td>2021-12-01 00:00:00.000</td>\n",
       "      <td>2021-12-01 00:00:00.000</td>\n",
       "      <td>22994</td>\n",
       "      <td>S2_StGeorgesUpperSt_pathLHS_dlr001</td>\n",
       "      <td>S2</td>\n",
       "      <td>out</td>\n",
       "      <td>2434</td>\n",
       "    </tr>\n",
       "    <tr>\n",
       "      <th>1192</th>\n",
       "      <td>1192</td>\n",
       "      <td>2021-12-01 00:00:00.000</td>\n",
       "      <td>2021-12-01 00:00:00.000</td>\n",
       "      <td>22996</td>\n",
       "      <td>S2_StGeorgesUpperSt_pathRHS_dlr001</td>\n",
       "      <td>S2</td>\n",
       "      <td>in</td>\n",
       "      <td>2567</td>\n",
       "    </tr>\n",
       "    <tr>\n",
       "      <th>1193</th>\n",
       "      <td>1193</td>\n",
       "      <td>2021-12-01 00:00:00.000</td>\n",
       "      <td>2021-12-01 00:00:00.000</td>\n",
       "      <td>22996</td>\n",
       "      <td>S2_StGeorgesUpperSt_pathRHS_dlr001</td>\n",
       "      <td>S2</td>\n",
       "      <td>out</td>\n",
       "      <td>2112</td>\n",
       "    </tr>\n",
       "  </tbody>\n",
       "</table>\n",
       "</div>"
      ],
      "text/plain": [
       "      index             UTC Datetime           Local Datetime  countlineId  \\\n",
       "1188   1188  2021-12-01 00:00:00.000  2021-12-01 00:00:00.000        22995   \n",
       "1189   1189  2021-12-01 00:00:00.000  2021-12-01 00:00:00.000        22995   \n",
       "1190   1190  2021-12-01 00:00:00.000  2021-12-01 00:00:00.000        22994   \n",
       "1191   1191  2021-12-01 00:00:00.000  2021-12-01 00:00:00.000        22994   \n",
       "1192   1192  2021-12-01 00:00:00.000  2021-12-01 00:00:00.000        22996   \n",
       "1193   1193  2021-12-01 00:00:00.000  2021-12-01 00:00:00.000        22996   \n",
       "\n",
       "                           countlineName Sensor Number direction  Pedestrian  \n",
       "1188          S2_StGeorgesUpperSt_dlr001            S2        in         327  \n",
       "1189          S2_StGeorgesUpperSt_dlr001            S2       out         175  \n",
       "1190  S2_StGeorgesUpperSt_pathLHS_dlr001            S2        in        2635  \n",
       "1191  S2_StGeorgesUpperSt_pathLHS_dlr001            S2       out        2434  \n",
       "1192  S2_StGeorgesUpperSt_pathRHS_dlr001            S2        in        2567  \n",
       "1193  S2_StGeorgesUpperSt_pathRHS_dlr001            S2       out        2112  "
      ]
     },
     "execution_count": 106,
     "metadata": {},
     "output_type": "execute_result"
    }
   ],
   "source": [
    "S2.loc[pd.to_datetime(S2[\"UTC Datetime\"])==pd.to_datetime(\"2021-12-1\")]"
   ]
  },
  {
   "cell_type": "code",
   "execution_count": 104,
   "metadata": {},
   "outputs": [
    {
     "data": {
      "text/plain": [
       "1188     327.766465\n",
       "1189     175.763928\n",
       "1190    2635.157328\n",
       "1191    2434.322773\n",
       "1192    2567.390221\n",
       "           ...     \n",
       "2527     173.175956\n",
       "2528    3148.865204\n",
       "2529    2826.609871\n",
       "2530    2986.231624\n",
       "2531    2566.724206\n",
       "Length: 1077, dtype: float64"
      ]
     },
     "execution_count": 104,
     "metadata": {},
     "output_type": "execute_result"
    }
   ],
   "source": [
    "pred"
   ]
  },
  {
   "cell_type": "code",
   "execution_count": 94,
   "metadata": {},
   "outputs": [
    {
     "data": {
      "text/plain": [
       "0"
      ]
     },
     "execution_count": 94,
     "metadata": {},
     "output_type": "execute_result"
    }
   ],
   "source": [
    "\n",
    "S2[\"Pedestrian\"][1188]"
   ]
  },
  {
   "cell_type": "code",
   "execution_count": 107,
   "metadata": {},
   "outputs": [],
   "source": [
    "data1 = S1\n",
    "data2 = S2\n",
    "data3 = S3\n",
    "train_S2 = data1.loc[pd.to_datetime(data1[\"UTC Datetime\"])>=pd.to_datetime(\"2022-5-4\")]\n",
    "train_S3 = data2.loc[pd.to_datetime(data2[\"UTC Datetime\"])>=pd.to_datetime(\"2022-5-4\")]\n",
    "train_S1 = data3.loc[pd.to_datetime(data3[\"UTC Datetime\"])>=pd.to_datetime(\"2022-5-4\")]\n",
    "train = {\"S1\":np.array(train_S1[\"Pedestrian\"]),\n",
    "           \"S3\":np.array(train_S3[\"Pedestrian\"])}\n",
    "train = pd.DataFrame(train)\n",
    "\n",
    "test_S2 = data1.loc[pd.to_datetime(data1[\"UTC Datetime\"])<pd.to_datetime(\"2022-5-4\")]\n",
    "test_S1 = data2.loc[pd.to_datetime(data2[\"UTC Datetime\"])<pd.to_datetime(\"2022-5-4\")]\n",
    "test_S3 = data3.loc[pd.to_datetime(data3[\"UTC Datetime\"])<pd.to_datetime(\"2022-5-4\")]\n",
    "test = {\"S1\":np.array(test_S1[\"Pedestrian\"]),\n",
    "           \"S3\":np.array(test_S3[\"Pedestrian\"])}\n",
    "test = pd.DataFrame(test)"
   ]
  },
  {
   "cell_type": "code",
   "execution_count": null,
   "metadata": {},
   "outputs": [],
   "source": []
  }
 ],
 "metadata": {
  "kernelspec": {
   "display_name": "Python 3 (ipykernel)",
   "language": "python",
   "name": "python3"
  },
  "language_info": {
   "codemirror_mode": {
    "name": "ipython",
    "version": 3
   },
   "file_extension": ".py",
   "mimetype": "text/x-python",
   "name": "python",
   "nbconvert_exporter": "python",
   "pygments_lexer": "ipython3",
   "version": "3.9.7"
  }
 },
 "nbformat": 4,
 "nbformat_minor": 4
}
