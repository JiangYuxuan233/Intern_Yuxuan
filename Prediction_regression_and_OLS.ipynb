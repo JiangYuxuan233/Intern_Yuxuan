{
 "cells": [
  {
   "cell_type": "markdown",
   "metadata": {},
   "source": [
    "# I used ordinary least squares(OLS) and common polynimial regression to predict data. What you see below is what I got. \n",
    "I know the codes are kind of duplicates, I will simplize it after.\n",
    "<br>p.s. If you just want to see the result, please see the \"Result\" part"
   ]
  },
  {
   "cell_type": "code",
   "execution_count": 80,
   "metadata": {},
   "outputs": [],
   "source": [
    "import pandas as pd\n",
    "import numpy as np \n",
    "import sklearn\n",
    "from sklearn.linear_model import LinearRegression\n",
    "from sklearn.preprocessing import PolynomialFeatures\n",
    "import matplotlib.pyplot as plt\n",
    "import seaborn as sns\n",
    "from scipy import stats"
   ]
  },
  {
   "cell_type": "code",
   "execution_count": 103,
   "metadata": {},
   "outputs": [],
   "source": [
    "footfall = pd.read_excel(\"Footfall_DLR_Daily.xlsx\")\n",
    "date = pd.to_datetime(\"2022-1-1\")\n",
    "date1 = pd.to_datetime(\"2021-12-31\")\n",
    "date2 = pd.to_datetime(\"2022-12-31\")\n",
    "footfalls = footfall.loc[pd.to_datetime(footfall[\"UTC Datetime\"])>date1]\n",
    "footfall_2021 = footfall.loc[pd.to_datetime(footfall[\"UTC Datetime\"])<date]\n",
    "footfall_2022 = footfalls.loc[pd.to_datetime(footfalls[\"UTC Datetime\"])<date2] \n",
    "footfall_2023 = footfall.loc[pd.to_datetime(footfall[\"UTC Datetime\"])>date2]\n",
    "footfall_2021 = pd.DataFrame.drop_duplicates(footfall_2021).reset_index()\n",
    "footfall_2022 = pd.DataFrame.drop_duplicates(footfall_2022).reset_index()\n",
    "footfall_2023 = pd.DataFrame.drop_duplicates(footfall_2023).reset_index()"
   ]
  },
  {
   "cell_type": "code",
   "execution_count": 82,
   "metadata": {},
   "outputs": [],
   "source": [
    "class cla:\n",
    "    def __init__(self,footfall,s):\n",
    "        self.footfall = footfall\n",
    "        self.s = s\n",
    "        self.area = footfall.loc[footfall[\"Sensor Number\"]==s]\n",
    "    def street(self,name):\n",
    "        self.street = self.area.loc[self.area[\"countlineName\"]==name]\n",
    "        return self.street\n",
    "class regression:\n",
    "    def __init__(self,footfall):\n",
    "        self.footfall = footfall\n",
    "        self.pred = np.array([])\n",
    "    def poly_regression(self,deg):\n",
    "        self.footfalls = self.footfall.loc[self.footfall[\"Pedestrian\"]!=0]\n",
    "        poly = PolynomialFeatures(degree=deg,include_bias=False)\n",
    "        x = np.arange(0,len(self.footfall))\n",
    "        x1 = np.arange(0,len(self.footfalls))\n",
    "        poly_features = poly.fit_transform(x1.reshape(-1, 1))\n",
    "        poly_reg_model = LinearRegression()\n",
    "        model = poly_reg_model.fit(poly_features, self.footfalls[\"Pedestrian\"])\n",
    "        poly_feature = poly.fit_transform(np.arange(0,len(self.footfall)).reshape(-1,1))\n",
    "        pred = poly_reg_model.predict(poly_feature)\n",
    "        self.pred=pred\n",
    "        plt.scatter(x1,self.footfalls[\"Pedestrian\"]),\n",
    "        plt.plot(x,pred,color=\"r\"),plt.title(\"poly_regression\"),\n",
    "        plt.xlabel(\"days\"),plt.ylabel(\"footfall\")\n",
    "        plt.show()\n",
    "        plt.figure(figsize=(9,6))\n",
    "    \n",
    "    def corr_Prediction(self):\n",
    "        Prediction = {\"real \":self.footfall[\"Pedestrian\"][:-31],\n",
    "                     \"pred \":self.pred[:-31]}\n",
    "        Prediction = pd.DataFrame(Prediction)\n",
    "        return plt.subplots(figsize=(6,4)),sns.heatmap(Prediction.corr(), annot = True)\n"
   ]
  },
  {
   "cell_type": "markdown",
   "metadata": {},
   "source": [
    "# The graph you see below is a result of predicting missing data by polynominal regression"
   ]
  },
  {
   "cell_type": "code",
   "execution_count": 83,
   "metadata": {},
   "outputs": [
    {
     "data": {
      "image/png": "[encoded data removed]",
      "text/plain": [
       "<Figure size 432x288 with 1 Axes>"
      ]
     },
     "metadata": {
      "needs_background": "light"
     },
     "output_type": "display_data"
    },
    {
     "data": {
      "text/plain": [
       "((<Figure size 432x288 with 2 Axes>, <AxesSubplot:>), <AxesSubplot:>)"
      ]
     },
     "execution_count": 83,
     "metadata": {},
     "output_type": "execute_result"
    },
    {
     "data": {
      "text/plain": [
       "<Figure size 648x432 with 0 Axes>"
      ]
     },
     "metadata": {},
     "output_type": "display_data"
    },
    {
     "data": {
      "image/png": "[encoded data removed]",
      "text/plain": [
       "<Figure size 432x288 with 2 Axes>"
      ]
     },
     "metadata": {
      "needs_background": "light"
     },
     "output_type": "display_data"
    }
   ],
   "source": [
    "a = cla(footfall_2021,\"S2\")\n",
    "data = a.street(\"S2_StGeorgesUpperSt_dlr001\")\n",
    "d = regression(data.loc[data[\"direction\"]==\"out\"])\n",
    "d.poly_regression(4)\n",
    "d.corr_Prediction()"
   ]
  },
  {
   "cell_type": "markdown",
   "metadata": {},
   "source": [
    "the correlation graph showing the grade of prediciton from May to Nov for S2_StGeorgesUpperSt in 2021"
   ]
  },
  {
   "cell_type": "markdown",
   "metadata": {},
   "source": [
    "# What you see below is a result of predicting missing data by OLS\n",
    "* For OLS, I seperated data into two parts\n",
    "* From the date 5/17 to 9/30 would be train data\n",
    "* From the date 10/1 to 11/30 would be test data"
   ]
  },
  {
   "cell_type": "markdown",
   "metadata": {},
   "source": [
    "### For the OLS, it is difficult to predict good outcomes using single data. Therefore there are two stratgies to predict the data. \n",
    "* predict S2 georgeSt pedertrian in 2021 by using S2 georgeSt data in 2022 as the factor\n",
    "* predict S2 georgeSt pedertrian in 2021 by using area S1 in 2021 and S3 in 2021 as the factors"
   ]
  },
  {
   "cell_type": "code",
   "execution_count": 84,
   "metadata": {},
   "outputs": [],
   "source": [
    "a = cla(footfall_2021,\"S2\")\n",
    "b = cla(footfall_2022,\"S2\")\n",
    "data1 = a.area\n",
    "data2 = b.area\n",
    "\n",
    "train_2021=data1.loc[pd.to_datetime(data1[\"UTC Datetime\"])<pd.to_datetime(\"2021-10-1\")]\n",
    "train_2022=data2.loc[pd.to_datetime(data2[\"UTC Datetime\"])<pd.to_datetime(\"2022-10-1\")]\n",
    "train_2022=train_2022.loc[pd.to_datetime(train_2022[\"UTC Datetime\"])>pd.to_datetime(\"2022-5-16\")]\n",
    "\n",
    "test_2021 =data1.loc[pd.to_datetime(data1[\"UTC Datetime\"])>=pd.to_datetime(\"2021-10-1\")]\n",
    "test_2022 = data2.loc[pd.to_datetime(data2[\"UTC Datetime\"])>=pd.to_datetime(\"2022-10-1\")]\n",
    "test_2022 = test_2022.loc[pd.to_datetime(test_2022[\"UTC Datetime\"])<pd.to_datetime(\"2022-12-1\")]\n",
    "test_2021 = test_2021.loc[pd.to_datetime(test_2021[\"UTC Datetime\"])<pd.to_datetime(\"2021-12-1\")]\n",
    "\n",
    "train_2022 = pd.DataFrame.drop_duplicates(train_2022)\n",
    "test_2022 = pd.DataFrame.drop_duplicates(test_2022)"
   ]
  },
  {
   "cell_type": "markdown",
   "metadata": {},
   "source": [
    "### predict S2 georgeSt pedertrian in 2021 by using 2022 data as the factor"
   ]
  },
  {
   "cell_type": "code",
   "execution_count": 85,
   "metadata": {},
   "outputs": [
    {
     "name": "stderr",
     "output_type": "stream",
     "text": [
      "/Users/jiang/opt/anaconda3/lib/python3.9/site-packages/statsmodels/tsa/tsatools.py:142: FutureWarning: In a future version of pandas all arguments of concat except for the argument 'objs' will be keyword-only\n",
      "  x = pd.concat(x[::order], 1)\n"
     ]
    }
   ],
   "source": [
    "import statsmodels.api as sm\n",
    "constant = sm.add_constant(train_2022[\"Pedestrian\"])\n",
    "model = sm.OLS(list(train_2021[\"Pedestrian\"]),constant)\n",
    "result = model.fit()\n",
    "new_constant=sm.add_constant(test_2022[\"Pedestrian\"])\n",
    "pred = result.predict(new_constant)"
   ]
  },
  {
   "cell_type": "code",
   "execution_count": 86,
   "metadata": {},
   "outputs": [
    {
     "name": "stdout",
     "output_type": "stream",
     "text": [
      "October\n",
      "real     365350\n",
      "predicted 403569.41608563793\n",
      "November\n",
      "real     327762\n",
      "predicted 398137.96002087265\n"
     ]
    },
    {
     "data": {
      "image/png": "[encoded data removed]",
      "text/plain": [
       "<Figure size 432x288 with 1 Axes>"
      ]
     },
     "metadata": {
      "needs_background": "light"
     },
     "output_type": "display_data"
    }
   ],
   "source": [
    "x = np.arange(len(test_2021))\n",
    "plt.scatter(x,test_2021[\"Pedestrian\"],label=\"real\")\n",
    "plt.scatter(x,pred.values,label=\"predicted\")\n",
    "print(\"October\")\n",
    "print(\"real    \",sum(test_2021.loc[pd.to_datetime(test_2021[\"UTC Datetime\"])<pd.to_datetime(\"2021-11-1\")][\"Pedestrian\"]))\n",
    "print(\"predicted\",sum(pred.values[:186]))\n",
    "print(\"November\")\n",
    "print(\"real    \",sum(test_2021.loc[pd.to_datetime(test_2021[\"UTC Datetime\"])>=pd.to_datetime(\"2021-11-1\")][\"Pedestrian\"]))\n",
    "print(\"predicted\",sum(pred.values[186:]))"
   ]
  },
  {
   "cell_type": "markdown",
   "metadata": {},
   "source": [
    "what you see above, is a graph showing the real pedestrians(blue) and predicted pedestrians(orange) for test data(10/1 to 11/30 in S2 area) in 2021 when use 2022 data as factor"
   ]
  },
  {
   "cell_type": "code",
   "execution_count": 87,
   "metadata": {},
   "outputs": [
    {
     "data": {
      "image/png": "[encoded data removed]",
      "text/plain": [
       "<Figure size 432x288 with 2 Axes>"
      ]
     },
     "metadata": {
      "needs_background": "light"
     },
     "output_type": "display_data"
    }
   ],
   "source": [
    "Prediction = {\"real\":test_2021[\"Pedestrian\"],\n",
    "              \"pred\":pred.values\n",
    "             }\n",
    "Prediction = pd.DataFrame(Prediction)\n",
    "sns.heatmap(Prediction.corr(), annot = True)\n",
    "reg = LinearRegression().fit(constant,list(train_2021[\"Pedestrian\"]))"
   ]
  },
  {
   "cell_type": "markdown",
   "metadata": {},
   "source": [
    "the correlation graph showing the grade of prediciton test data in 2021"
   ]
  },
  {
   "cell_type": "code",
   "execution_count": 88,
   "metadata": {},
   "outputs": [
    {
     "data": {
      "text/html": [
       "<table class=\"simpletable\">\n",
       "<caption>OLS Regression Results</caption>\n",
       "<tr>\n",
       "  <th>Dep. Variable:</th>            <td>y</td>        <th>  R-squared:         </th> <td>   0.296</td> \n",
       "</tr>\n",
       "<tr>\n",
       "  <th>Model:</th>                   <td>OLS</td>       <th>  Adj. R-squared:    </th> <td>   0.295</td> \n",
       "</tr>\n",
       "<tr>\n",
       "  <th>Method:</th>             <td>Least Squares</td>  <th>  F-statistic:       </th> <td>   344.7</td> \n",
       "</tr>\n",
       "<tr>\n",
       "  <th>Date:</th>             <td>Mon, 03 Jul 2023</td> <th>  Prob (F-statistic):</th> <td>1.65e-64</td> \n",
       "</tr>\n",
       "<tr>\n",
       "  <th>Time:</th>                 <td>19:13:45</td>     <th>  Log-Likelihood:    </th> <td> -6922.6</td> \n",
       "</tr>\n",
       "<tr>\n",
       "  <th>No. Observations:</th>      <td>   822</td>      <th>  AIC:               </th> <td>1.385e+04</td>\n",
       "</tr>\n",
       "<tr>\n",
       "  <th>Df Residuals:</th>          <td>   820</td>      <th>  BIC:               </th> <td>1.386e+04</td>\n",
       "</tr>\n",
       "<tr>\n",
       "  <th>Df Model:</th>              <td>     1</td>      <th>                     </th>     <td> </td>    \n",
       "</tr>\n",
       "<tr>\n",
       "  <th>Covariance Type:</th>      <td>nonrobust</td>    <th>                     </th>     <td> </td>    \n",
       "</tr>\n",
       "</table>\n",
       "<table class=\"simpletable\">\n",
       "<tr>\n",
       "       <td></td>         <th>coef</th>     <th>std err</th>      <th>t</th>      <th>P>|t|</th>  <th>[0.025</th>    <th>0.975]</th>  \n",
       "</tr>\n",
       "<tr>\n",
       "  <th>const</th>      <td> 1298.6247</td> <td>   52.901</td> <td>   24.548</td> <td> 0.000</td> <td> 1194.788</td> <td> 1402.462</td>\n",
       "</tr>\n",
       "<tr>\n",
       "  <th>Pedestrian</th> <td>    0.4946</td> <td>    0.027</td> <td>   18.567</td> <td> 0.000</td> <td>    0.442</td> <td>    0.547</td>\n",
       "</tr>\n",
       "</table>\n",
       "<table class=\"simpletable\">\n",
       "<tr>\n",
       "  <th>Omnibus:</th>       <td>94.732</td> <th>  Durbin-Watson:     </th> <td>   1.039</td>\n",
       "</tr>\n",
       "<tr>\n",
       "  <th>Prob(Omnibus):</th> <td> 0.000</td> <th>  Jarque-Bera (JB):  </th> <td>  77.148</td>\n",
       "</tr>\n",
       "<tr>\n",
       "  <th>Skew:</th>          <td> 0.661</td> <th>  Prob(JB):          </th> <td>1.77e-17</td>\n",
       "</tr>\n",
       "<tr>\n",
       "  <th>Kurtosis:</th>      <td> 2.288</td> <th>  Cond. No.          </th> <td>2.74e+03</td>\n",
       "</tr>\n",
       "</table><br/><br/>Notes:<br/>[1] Standard Errors assume that the covariance matrix of the errors is correctly specified.<br/>[2] The condition number is large, 2.74e+03. This might indicate that there are<br/>strong multicollinearity or other numerical problems."
      ],
      "text/plain": [
       "<class 'statsmodels.iolib.summary.Summary'>\n",
       "\"\"\"\n",
       "                            OLS Regression Results                            \n",
       "==============================================================================\n",
       "Dep. Variable:                      y   R-squared:                       0.296\n",
       "Model:                            OLS   Adj. R-squared:                  0.295\n",
       "Method:                 Least Squares   F-statistic:                     344.7\n",
       "Date:                Mon, 03 Jul 2023   Prob (F-statistic):           1.65e-64\n",
       "Time:                        19:13:45   Log-Likelihood:                -6922.6\n",
       "No. Observations:                 822   AIC:                         1.385e+04\n",
       "Df Residuals:                     820   BIC:                         1.386e+04\n",
       "Df Model:                           1                                         \n",
       "Covariance Type:            nonrobust                                         \n",
       "==============================================================================\n",
       "                 coef    std err          t      P>|t|      [0.025      0.975]\n",
       "------------------------------------------------------------------------------\n",
       "const       1298.6247     52.901     24.548      0.000    1194.788    1402.462\n",
       "Pedestrian     0.4946      0.027     18.567      0.000       0.442       0.547\n",
       "==============================================================================\n",
       "Omnibus:                       94.732   Durbin-Watson:                   1.039\n",
       "Prob(Omnibus):                  0.000   Jarque-Bera (JB):               77.148\n",
       "Skew:                           0.661   Prob(JB):                     1.77e-17\n",
       "Kurtosis:                       2.288   Cond. No.                     2.74e+03\n",
       "==============================================================================\n",
       "\n",
       "Notes:\n",
       "[1] Standard Errors assume that the covariance matrix of the errors is correctly specified.\n",
       "[2] The condition number is large, 2.74e+03. This might indicate that there are\n",
       "strong multicollinearity or other numerical problems.\n",
       "\"\"\""
      ]
     },
     "execution_count": 88,
     "metadata": {},
     "output_type": "execute_result"
    }
   ],
   "source": [
    "result.summary()"
   ]
  },
  {
   "cell_type": "code",
   "execution_count": 98,
   "metadata": {},
   "outputs": [],
   "source": [
    "a = cla(footfall_2021,\"S2\")\n",
    "data1 = a.area\n",
    "b = cla(footfall_2021,\"S3\")\n",
    "data2 = b.area\n",
    "c = cla(footfall_2021,\"S1\")\n",
    "data3 = c.area\n",
    "\n",
    "train_S2 = data1.loc[pd.to_datetime(data1[\"UTC Datetime\"])<pd.to_datetime(\"2021-10-1\")]\n",
    "train_S3 = data2.loc[pd.to_datetime(data2[\"UTC Datetime\"])<pd.to_datetime(\"2021-10-1\")]\n",
    "train_S1 = data3.loc[pd.to_datetime(data3[\"UTC Datetime\"])<pd.to_datetime(\"2021-10-1\")]\n",
    "train = {\"S1\":np.array(train_S1[\"Pedestrian\"]),\n",
    "           \"S3\":np.array(train_S3[\"Pedestrian\"])}\n",
    "train = pd.DataFrame(train)\n",
    "\n",
    "test_S2 = data1.loc[pd.to_datetime(data1[\"UTC Datetime\"])>pd.to_datetime(\"2021-10-1\")]\n",
    "test_S1 = data2.loc[pd.to_datetime(data2[\"UTC Datetime\"])>pd.to_datetime(\"2021-10-1\")]\n",
    "test_S3 = data3.loc[pd.to_datetime(data3[\"UTC Datetime\"])>pd.to_datetime(\"2021-10-1\")]\n",
    "test_S2 = test_S2.loc[pd.to_datetime(test_S2[\"UTC Datetime\"])<pd.to_datetime(\"2021-12-1\")]\n",
    "test_S1 = test_S1.loc[pd.to_datetime(test_S1[\"UTC Datetime\"])<pd.to_datetime(\"2021-12-1\")]\n",
    "test_S3 = test_S3.loc[pd.to_datetime(test_S3[\"UTC Datetime\"])<pd.to_datetime(\"2021-12-1\")]\n",
    "test = {\"S1\":np.array(test_S1[\"Pedestrian\"]),\n",
    "           \"S3\":np.array(test_S3[\"Pedestrian\"])}\n",
    "test = pd.DataFrame(test)"
   ]
  },
  {
   "cell_type": "code",
   "execution_count": 105,
   "metadata": {},
   "outputs": [
    {
     "data": {
      "text/plain": [
       "822"
      ]
     },
     "execution_count": 105,
     "metadata": {},
     "output_type": "execute_result"
    }
   ],
   "source": [
    "len(train)"
   ]
  },
  {
   "cell_type": "markdown",
   "metadata": {},
   "source": [
    "### predict S2 georgeSt pedertrian in 2021 by using area S1 and S3 of 2021 as the factors"
   ]
  },
  {
   "cell_type": "code",
   "execution_count": 91,
   "metadata": {},
   "outputs": [
    {
     "name": "stderr",
     "output_type": "stream",
     "text": [
      "/Users/jiang/opt/anaconda3/lib/python3.9/site-packages/statsmodels/tsa/tsatools.py:142: FutureWarning: In a future version of pandas all arguments of concat except for the argument 'objs' will be keyword-only\n",
      "  x = pd.concat(x[::order], 1)\n"
     ]
    }
   ],
   "source": [
    "constant = sm.add_constant(train)\n",
    "model = sm.OLS(list(train_S2[\"Pedestrian\"]),constant)\n",
    "result = model.fit()\n",
    "new_constant=sm.add_constant(test)\n",
    "pred = result.predict(new_constant)"
   ]
  },
  {
   "cell_type": "code",
   "execution_count": 106,
   "metadata": {},
   "outputs": [
    {
     "name": "stdout",
     "output_type": "stream",
     "text": [
      "October\n",
      "real     352050\n",
      "predicted 388114.14685549465\n",
      "November\n",
      "real     316960\n",
      "predicted 356217.040603497\n"
     ]
    },
    {
     "data": {
      "image/png": "[encoded data removed]",
      "text/plain": [
       "<Figure size 432x288 with 1 Axes>"
      ]
     },
     "metadata": {
      "needs_background": "light"
     },
     "output_type": "display_data"
    }
   ],
   "source": [
    "x = np.arange(len(test_S2))\n",
    "plt.scatter(x,test_S2[\"Pedestrian\"])\n",
    "plt.scatter(x,pred)\n",
    "print(\"October\")\n",
    "print(\"real    \",sum(test_S2.loc[pd.to_datetime(test_S2[\"UTC Datetime\"])<pd.to_datetime(\"2021-11-1\")][\"Pedestrian\"]))\n",
    "print(\"predicted\",sum(pred.values[:186]))\n",
    "print(\"November\")\n",
    "print(\"real    \",sum(test_S2.loc[pd.to_datetime(test_S2[\"UTC Datetime\"])>pd.to_datetime(\"2021-11-1\")][\"Pedestrian\"]))\n",
    "print(\"predicted\",sum(pred.values[186:]))"
   ]
  },
  {
   "cell_type": "markdown",
   "metadata": {},
   "source": [
    "what you see above, is a graph showing the real pedestrians(blue) and predicted pedestrians(orange) for test data(10/1 to 11/30) in 2021 when use S1 and S2 areas as factors"
   ]
  },
  {
   "cell_type": "code",
   "execution_count": 94,
   "metadata": {
    "scrolled": true
   },
   "outputs": [
    {
     "data": {
      "text/plain": [
       "<AxesSubplot:>"
      ]
     },
     "execution_count": 94,
     "metadata": {},
     "output_type": "execute_result"
    },
    {
     "data": {
      "image/png": "[encoded data removed]",
      "text/plain": [
       "<Figure size 432x288 with 2 Axes>"
      ]
     },
     "metadata": {
      "needs_background": "light"
     },
     "output_type": "display_data"
    }
   ],
   "source": [
    "Prediction = {\"real\":test_S2[\"Pedestrian\"],\n",
    "              \"pred\":pred.values\n",
    "             }\n",
    "Prediction = pd.DataFrame(Prediction)\n",
    "sns.heatmap(Prediction.corr(), annot = True)"
   ]
  },
  {
   "cell_type": "markdown",
   "metadata": {},
   "source": [
    "the correlation graph showing the grade of prediciton test data in 2021"
   ]
  },
  {
   "cell_type": "code",
   "execution_count": 14,
   "metadata": {},
   "outputs": [
    {
     "data": {
      "text/html": [
       "<table class=\"simpletable\">\n",
       "<caption>OLS Regression Results</caption>\n",
       "<tr>\n",
       "  <th>Dep. Variable:</th>            <td>y</td>        <th>  R-squared:         </th> <td>   0.506</td> \n",
       "</tr>\n",
       "<tr>\n",
       "  <th>Model:</th>                   <td>OLS</td>       <th>  Adj. R-squared:    </th> <td>   0.505</td> \n",
       "</tr>\n",
       "<tr>\n",
       "  <th>Method:</th>             <td>Least Squares</td>  <th>  F-statistic:       </th> <td>   419.8</td> \n",
       "</tr>\n",
       "<tr>\n",
       "  <th>Date:</th>             <td>Mon, 03 Jul 2023</td> <th>  Prob (F-statistic):</th> <td>3.17e-126</td>\n",
       "</tr>\n",
       "<tr>\n",
       "  <th>Time:</th>                 <td>17:18:31</td>     <th>  Log-Likelihood:    </th> <td> -6776.8</td> \n",
       "</tr>\n",
       "<tr>\n",
       "  <th>No. Observations:</th>      <td>   822</td>      <th>  AIC:               </th> <td>1.356e+04</td>\n",
       "</tr>\n",
       "<tr>\n",
       "  <th>Df Residuals:</th>          <td>   819</td>      <th>  BIC:               </th> <td>1.357e+04</td>\n",
       "</tr>\n",
       "<tr>\n",
       "  <th>Df Model:</th>              <td>     2</td>      <th>                     </th>     <td> </td>    \n",
       "</tr>\n",
       "<tr>\n",
       "  <th>Covariance Type:</th>      <td>nonrobust</td>    <th>                     </th>     <td> </td>    \n",
       "</tr>\n",
       "</table>\n",
       "<table class=\"simpletable\">\n",
       "<tr>\n",
       "    <td></td>       <th>coef</th>     <th>std err</th>      <th>t</th>      <th>P>|t|</th>  <th>[0.025</th>    <th>0.975]</th>  \n",
       "</tr>\n",
       "<tr>\n",
       "  <th>const</th> <td>   -7.8115</td> <td>   80.674</td> <td>   -0.097</td> <td> 0.923</td> <td> -166.164</td> <td>  150.541</td>\n",
       "</tr>\n",
       "<tr>\n",
       "  <th>S1</th>    <td>    0.7540</td> <td>    0.046</td> <td>   16.374</td> <td> 0.000</td> <td>    0.664</td> <td>    0.844</td>\n",
       "</tr>\n",
       "<tr>\n",
       "  <th>S3</th>    <td>    1.0499</td> <td>    0.046</td> <td>   22.623</td> <td> 0.000</td> <td>    0.959</td> <td>    1.141</td>\n",
       "</tr>\n",
       "</table>\n",
       "<table class=\"simpletable\">\n",
       "<tr>\n",
       "  <th>Omnibus:</th>       <td>40.367</td> <th>  Durbin-Watson:     </th> <td>   1.261</td>\n",
       "</tr>\n",
       "<tr>\n",
       "  <th>Prob(Omnibus):</th> <td> 0.000</td> <th>  Jarque-Bera (JB):  </th> <td>  18.924</td>\n",
       "</tr>\n",
       "<tr>\n",
       "  <th>Skew:</th>          <td>-0.152</td> <th>  Prob(JB):          </th> <td>7.77e-05</td>\n",
       "</tr>\n",
       "<tr>\n",
       "  <th>Kurtosis:</th>      <td> 2.322</td> <th>  Cond. No.          </th> <td>4.54e+03</td>\n",
       "</tr>\n",
       "</table><br/><br/>Notes:<br/>[1] Standard Errors assume that the covariance matrix of the errors is correctly specified.<br/>[2] The condition number is large, 4.54e+03. This might indicate that there are<br/>strong multicollinearity or other numerical problems."
      ],
      "text/plain": [
       "<class 'statsmodels.iolib.summary.Summary'>\n",
       "\"\"\"\n",
       "                            OLS Regression Results                            \n",
       "==============================================================================\n",
       "Dep. Variable:                      y   R-squared:                       0.506\n",
       "Model:                            OLS   Adj. R-squared:                  0.505\n",
       "Method:                 Least Squares   F-statistic:                     419.8\n",
       "Date:                Mon, 03 Jul 2023   Prob (F-statistic):          3.17e-126\n",
       "Time:                        17:18:31   Log-Likelihood:                -6776.8\n",
       "No. Observations:                 822   AIC:                         1.356e+04\n",
       "Df Residuals:                     819   BIC:                         1.357e+04\n",
       "Df Model:                           2                                         \n",
       "Covariance Type:            nonrobust                                         \n",
       "==============================================================================\n",
       "                 coef    std err          t      P>|t|      [0.025      0.975]\n",
       "------------------------------------------------------------------------------\n",
       "const         -7.8115     80.674     -0.097      0.923    -166.164     150.541\n",
       "S1             0.7540      0.046     16.374      0.000       0.664       0.844\n",
       "S3             1.0499      0.046     22.623      0.000       0.959       1.141\n",
       "==============================================================================\n",
       "Omnibus:                       40.367   Durbin-Watson:                   1.261\n",
       "Prob(Omnibus):                  0.000   Jarque-Bera (JB):               18.924\n",
       "Skew:                          -0.152   Prob(JB):                     7.77e-05\n",
       "Kurtosis:                       2.322   Cond. No.                     4.54e+03\n",
       "==============================================================================\n",
       "\n",
       "Notes:\n",
       "[1] Standard Errors assume that the covariance matrix of the errors is correctly specified.\n",
       "[2] The condition number is large, 4.54e+03. This might indicate that there are\n",
       "strong multicollinearity or other numerical problems.\n",
       "\"\"\""
      ]
     },
     "execution_count": 14,
     "metadata": {},
     "output_type": "execute_result"
    }
   ],
   "source": [
    "result.summary()"
   ]
  },
  {
   "cell_type": "markdown",
   "metadata": {},
   "source": [
    "# Result\n",
    "* $Base$ $one$ $few$ $tests$, $seems$ $the$ $OLS$ $regressions$ $are$ $able$ $to$ $report$ $better$ $result$. $Especially$ $when$ $areas$ $S1$ $and$ $S2$ $are$ $considered$ $as$ $factors$ $to$ $predict$ $result$, $the$ $prediciton$ $is$ $the$ $best$"
   ]
  },
  {
   "cell_type": "markdown",
   "metadata": {},
   "source": [
    "### Since OLS predicitons for Nov. and Oct. months aren't too far for the real data, I will try to use this stragy to predict missing data and see how is the result"
   ]
  },
  {
   "cell_type": "code",
   "execution_count": 15,
   "metadata": {},
   "outputs": [],
   "source": [
    "a = cla(footfall_2021,\"S2\")\n",
    "data1 = a.area\n",
    "b = cla(footfall_2021,\"S3\")\n",
    "data2 = b.area\n",
    "c = cla(footfall_2021,\"S1\")\n",
    "data3 = c.area\n",
    "\n",
    "train_S2 = data1.loc[pd.to_datetime(data1[\"UTC Datetime\"])<pd.to_datetime(\"2021-12-1\")]\n",
    "train_S3 = data2.loc[pd.to_datetime(data2[\"UTC Datetime\"])<pd.to_datetime(\"2021-12-1\")]\n",
    "train_S1 = data3.loc[pd.to_datetime(data3[\"UTC Datetime\"])<pd.to_datetime(\"2021-12-1\")]\n",
    "train = {\"S1\":np.array(train_S1[\"Pedestrian\"]),\n",
    "           \"S3\":np.array(train_S3[\"Pedestrian\"])}\n",
    "train = pd.DataFrame(train)\n",
    "\n",
    "test_S2 = data1.loc[pd.to_datetime(data1[\"UTC Datetime\"])>=pd.to_datetime(\"2021-12-1\")]\n",
    "test_S1 = data2.loc[pd.to_datetime(data2[\"UTC Datetime\"])>=pd.to_datetime(\"2021-12-1\")]\n",
    "test_S3 = data3.loc[pd.to_datetime(data3[\"UTC Datetime\"])>=pd.to_datetime(\"2021-12-1\")]\n",
    "test = {\"S1\":np.array(test_S1[\"Pedestrian\"]),\n",
    "           \"S3\":np.array(test_S3[\"Pedestrian\"])}\n",
    "test = pd.DataFrame(test)"
   ]
  },
  {
   "cell_type": "code",
   "execution_count": 16,
   "metadata": {},
   "outputs": [
    {
     "name": "stderr",
     "output_type": "stream",
     "text": [
      "/Users/jiang/opt/anaconda3/lib/python3.9/site-packages/statsmodels/tsa/tsatools.py:142: FutureWarning: In a future version of pandas all arguments of concat except for the argument 'objs' will be keyword-only\n",
      "  x = pd.concat(x[::order], 1)\n"
     ]
    }
   ],
   "source": [
    "constant = sm.add_constant(train)\n",
    "model = sm.OLS(list(train_S2[\"Pedestrian\"]),constant)\n",
    "result = model.fit()\n",
    "new_constant=sm.add_constant(test)\n",
    "pred = result.predict(new_constant)"
   ]
  },
  {
   "cell_type": "code",
   "execution_count": 17,
   "metadata": {},
   "outputs": [
    {
     "name": "stdout",
     "output_type": "stream",
     "text": [
      "December\n",
      "383757.2097097334\n"
     ]
    },
    {
     "data": {
      "text/html": [
       "<div>\n",
       "<style scoped>\n",
       "    .dataframe tbody tr th:only-of-type {\n",
       "        vertical-align: middle;\n",
       "    }\n",
       "\n",
       "    .dataframe tbody tr th {\n",
       "        vertical-align: top;\n",
       "    }\n",
       "\n",
       "    .dataframe thead th {\n",
       "        text-align: right;\n",
       "    }\n",
       "</style>\n",
       "<table border=\"1\" class=\"dataframe\">\n",
       "  <thead>\n",
       "    <tr style=\"text-align: right;\">\n",
       "      <th></th>\n",
       "      <th>0</th>\n",
       "    </tr>\n",
       "  </thead>\n",
       "  <tbody>\n",
       "    <tr>\n",
       "      <th>0</th>\n",
       "      <td>277.857863</td>\n",
       "    </tr>\n",
       "    <tr>\n",
       "      <th>1</th>\n",
       "      <td>125.938060</td>\n",
       "    </tr>\n",
       "    <tr>\n",
       "      <th>2</th>\n",
       "      <td>2828.241864</td>\n",
       "    </tr>\n",
       "    <tr>\n",
       "      <th>3</th>\n",
       "      <td>2609.888104</td>\n",
       "    </tr>\n",
       "    <tr>\n",
       "      <th>4</th>\n",
       "      <td>3082.959116</td>\n",
       "    </tr>\n",
       "  </tbody>\n",
       "</table>\n",
       "</div>"
      ],
      "text/plain": [
       "             0\n",
       "0   277.857863\n",
       "1   125.938060\n",
       "2  2828.241864\n",
       "3  2609.888104\n",
       "4  3082.959116"
      ]
     },
     "execution_count": 17,
     "metadata": {},
     "output_type": "execute_result"
    }
   ],
   "source": [
    "pred0 = pd.DataFrame(pred)\n",
    "print(\"December\")\n",
    "print(sum(pred.values))\n",
    "pred0.head()"
   ]
  },
  {
   "cell_type": "markdown",
   "metadata": {},
   "source": [
    "The table you see above is a prediction of Dec. 2021 for S2 by OLS regression and use S3 and S2 as factors"
   ]
  },
  {
   "cell_type": "code",
   "execution_count": 108,
   "metadata": {},
   "outputs": [],
   "source": [
    "a = cla(footfall_2022,\"S2\")\n",
    "data1 = a.area\n",
    "data1 = pd.DataFrame.drop_duplicates(data1)\n",
    "b = cla(footfall_2022,\"S3\")\n",
    "data2 = b.area\n",
    "data2 = pd.DataFrame.drop_duplicates(data2)\n",
    "c = cla(footfall_2022,\"S1\")\n",
    "data3 = c.area\n",
    "data3 = pd.DataFrame.drop_duplicates(data3)\n",
    "\n",
    "train_S2 = data1.loc[pd.to_datetime(data1[\"UTC Datetime\"])>=pd.to_datetime(\"2022-5-4\")]\n",
    "train_S3 = data2.loc[pd.to_datetime(data2[\"UTC Datetime\"])>=pd.to_datetime(\"2022-5-4\")]\n",
    "train_S1 = data3.loc[pd.to_datetime(data3[\"UTC Datetime\"])>=pd.to_datetime(\"2022-5-4\")]\n",
    "train = {\"S1\":np.array(train_S1[\"Pedestrian\"]),\n",
    "           \"S3\":np.array(train_S3[\"Pedestrian\"])}\n",
    "train = pd.DataFrame(train)\n",
    "\n",
    "test_S2 = data1.loc[pd.to_datetime(data1[\"UTC Datetime\"])<pd.to_datetime(\"2022-5-4\")]\n",
    "test_S1 = data2.loc[pd.to_datetime(data2[\"UTC Datetime\"])<pd.to_datetime(\"2022-5-4\")]\n",
    "test_S3 = data3.loc[pd.to_datetime(data3[\"UTC Datetime\"])<pd.to_datetime(\"2022-5-4\")]\n",
    "test = {\"S1\":np.array(test_S1[\"Pedestrian\"]),\n",
    "           \"S3\":np.array(test_S3[\"Pedestrian\"])}\n",
    "test = pd.DataFrame(test)"
   ]
  },
  {
   "cell_type": "code",
   "execution_count": 109,
   "metadata": {},
   "outputs": [
    {
     "name": "stderr",
     "output_type": "stream",
     "text": [
      "/Users/jiang/opt/anaconda3/lib/python3.9/site-packages/statsmodels/tsa/tsatools.py:142: FutureWarning: In a future version of pandas all arguments of concat except for the argument 'objs' will be keyword-only\n",
      "  x = pd.concat(x[::order], 1)\n"
     ]
    }
   ],
   "source": [
    "constant = sm.add_constant(train)\n",
    "model = sm.OLS(list(train_S2[\"Pedestrian\"]),constant)\n",
    "result = model.fit()\n",
    "new_constant=sm.add_constant(test)\n",
    "pred = result.predict(new_constant)"
   ]
  },
  {
   "cell_type": "code",
   "execution_count": 110,
   "metadata": {},
   "outputs": [
    {
     "name": "stdout",
     "output_type": "stream",
     "text": [
      "January\n",
      "295419.91391688003\n",
      "February\n",
      "262107.60050302793\n",
      "March\n",
      "309545.56458588\n",
      "April\n",
      "262107.60050302793\n"
     ]
    },
    {
     "data": {
      "text/html": [
       "<div>\n",
       "<style scoped>\n",
       "    .dataframe tbody tr th:only-of-type {\n",
       "        vertical-align: middle;\n",
       "    }\n",
       "\n",
       "    .dataframe tbody tr th {\n",
       "        vertical-align: top;\n",
       "    }\n",
       "\n",
       "    .dataframe thead th {\n",
       "        text-align: right;\n",
       "    }\n",
       "</style>\n",
       "<table border=\"1\" class=\"dataframe\">\n",
       "  <thead>\n",
       "    <tr style=\"text-align: right;\">\n",
       "      <th></th>\n",
       "      <th>date</th>\n",
       "      <th>Pedestrian</th>\n",
       "    </tr>\n",
       "  </thead>\n",
       "  <tbody>\n",
       "    <tr>\n",
       "      <th>6</th>\n",
       "      <td>2022-01-01</td>\n",
       "      <td>200.891582</td>\n",
       "    </tr>\n",
       "    <tr>\n",
       "      <th>7</th>\n",
       "      <td>2022-01-01</td>\n",
       "      <td>107.443976</td>\n",
       "    </tr>\n",
       "    <tr>\n",
       "      <th>8</th>\n",
       "      <td>2022-01-01</td>\n",
       "      <td>1538.478071</td>\n",
       "    </tr>\n",
       "    <tr>\n",
       "      <th>9</th>\n",
       "      <td>2022-01-01</td>\n",
       "      <td>1224.804679</td>\n",
       "    </tr>\n",
       "    <tr>\n",
       "      <th>10</th>\n",
       "      <td>2022-01-01</td>\n",
       "      <td>1649.251325</td>\n",
       "    </tr>\n",
       "  </tbody>\n",
       "</table>\n",
       "</div>"
      ],
      "text/plain": [
       "         date   Pedestrian\n",
       "6  2022-01-01   200.891582\n",
       "7  2022-01-01   107.443976\n",
       "8  2022-01-01  1538.478071\n",
       "9  2022-01-01  1224.804679\n",
       "10 2022-01-01  1649.251325"
      ]
     },
     "execution_count": 110,
     "metadata": {},
     "output_type": "execute_result"
    }
   ],
   "source": [
    "pred1 = {\"date\":test_S2[\"UTC Datetime\"],\n",
    "        \"Pedestrian\":pred.values}\n",
    "pred1 = pd.DataFrame(pred1)\n",
    "Ja = pred1.loc[pd.to_datetime(pred1[\"date\"])<pd.to_datetime(\"2022-2-1\")]\n",
    "Fe = pred1.loc[pd.to_datetime(pred1[\"date\"])>= pd.to_datetime(\"2022-2-1\")]\n",
    "Fe = Fe.loc[pd.to_datetime(Fe[\"date\"])< pd.to_datetime(\"2022-3-1\")]\n",
    "Ma = pred1.loc[pd.to_datetime(pred1[\"date\"])>= pd.to_datetime(\"2022-3-1\")]\n",
    "Ma = Ma.loc[pd.to_datetime(Ma[\"date\"])< pd.to_datetime(\"2022-4-1\")]\n",
    "Ap = pred1.loc[pd.to_datetime(pred1[\"date\"])>= pd.to_datetime(\"2022-4-1\")]\n",
    "Ap = Ap.loc[pd.to_datetime(Ap[\"date\"])< pd.to_datetime(\"2022-5-1\")]\n",
    "\n",
    "print(\"January\")\n",
    "print(sum(Ja[\"Pedestrian\"]))\n",
    "print(\"February\")\n",
    "print(sum(Fe[\"Pedestrian\"]))\n",
    "print(\"March\")\n",
    "print(sum(Ma[\"Pedestrian\"]))\n",
    "print(\"April\")\n",
    "print(sum(pred.values[31*6:(28+31)*6]))\n",
    "pred1.head()"
   ]
  },
  {
   "cell_type": "markdown",
   "metadata": {},
   "source": [
    "The table you see above is a prediction from January to April in 2022 for S2 made by OLS regression and use S3 and S2 as factors"
   ]
  },
  {
   "cell_type": "code",
   "execution_count": 111,
   "metadata": {},
   "outputs": [
    {
     "data": {
      "text/plain": [
       "[<matplotlib.lines.Line2D at 0x7f7fb86fe130>]"
      ]
     },
     "execution_count": 111,
     "metadata": {},
     "output_type": "execute_result"
    },
    {
     "data": {
      "image/png": "[encoded data removed]",
      "text/plain": [
       "<Figure size 432x288 with 1 Axes>"
      ]
     },
     "metadata": {
      "needs_background": "light"
     },
     "output_type": "display_data"
    }
   ],
   "source": [
    "plt.plot(np.arange(len(pred)),pred.values,color=\"red\")\n",
    "plt.plot(np.arange(len(data1)),data1[\"Pedestrian\"],color=\"b\")"
   ]
  },
  {
   "cell_type": "markdown",
   "metadata": {},
   "source": [
    "red is predicted values and bule is real values"
   ]
  },
  {
   "cell_type": "code",
   "execution_count": 22,
   "metadata": {},
   "outputs": [
    {
     "name": "stderr",
     "output_type": "stream",
     "text": [
      "/Users/jiang/opt/anaconda3/lib/python3.9/site-packages/statsmodels/tsa/tsatools.py:142: FutureWarning: In a future version of pandas all arguments of concat except for the argument 'objs' will be keyword-only\n",
      "  x = pd.concat(x[::order], 1)\n"
     ]
    }
   ],
   "source": [
    "test = train_S2.loc[train_S2[\"Pedestrian\"]==0]\n",
    "test_SS1 = train_S1[pd.to_datetime(train_S1[\"UTC Datetime\"])>pd.to_datetime(\"2022-6-17\")]\n",
    "test_SS3 = train_S3[pd.to_datetime(train_S3[\"UTC Datetime\"])>pd.to_datetime(\"2022-6-17\")]\n",
    "test_SS1 = test_SS1[pd.to_datetime(test_SS1[\"UTC Datetime\"])<=pd.to_datetime(\"2022-7-12\")]\n",
    "test_SS3 = test_SS3[pd.to_datetime(test_SS3[\"UTC Datetime\"])<=pd.to_datetime(\"2022-7-12\")]\n",
    "tests = {\"S1\":np.array(test_SS1[\"Pedestrian\"]),\n",
    "           \"S3\":np.array(test_SS3[\"Pedestrian\"])}\n",
    "tests = pd.DataFrame(tests)\n",
    "new_constant=sm.add_constant(tests)\n",
    "pred = result.predict(new_constant)"
   ]
  },
  {
   "cell_type": "code",
   "execution_count": 23,
   "metadata": {},
   "outputs": [
    {
     "name": "stdout",
     "output_type": "stream",
     "text": [
      "6-17 to 7-12\n",
      "248603.99563735654\n"
     ]
    },
    {
     "data": {
      "text/html": [
       "<div>\n",
       "<style scoped>\n",
       "    .dataframe tbody tr th:only-of-type {\n",
       "        vertical-align: middle;\n",
       "    }\n",
       "\n",
       "    .dataframe tbody tr th {\n",
       "        vertical-align: top;\n",
       "    }\n",
       "\n",
       "    .dataframe thead th {\n",
       "        text-align: right;\n",
       "    }\n",
       "</style>\n",
       "<table border=\"1\" class=\"dataframe\">\n",
       "  <thead>\n",
       "    <tr style=\"text-align: right;\">\n",
       "      <th></th>\n",
       "      <th>date</th>\n",
       "      <th>Pedestrian</th>\n",
       "    </tr>\n",
       "  </thead>\n",
       "  <tbody>\n",
       "    <tr>\n",
       "      <th>7152</th>\n",
       "      <td>2022-06-18</td>\n",
       "      <td>317.848569</td>\n",
       "    </tr>\n",
       "    <tr>\n",
       "      <th>7153</th>\n",
       "      <td>2022-06-18</td>\n",
       "      <td>161.907920</td>\n",
       "    </tr>\n",
       "    <tr>\n",
       "      <th>7154</th>\n",
       "      <td>2022-06-18</td>\n",
       "      <td>3421.345528</td>\n",
       "    </tr>\n",
       "    <tr>\n",
       "      <th>7155</th>\n",
       "      <td>2022-06-18</td>\n",
       "      <td>2666.521723</td>\n",
       "    </tr>\n",
       "    <tr>\n",
       "      <th>7156</th>\n",
       "      <td>2022-06-18</td>\n",
       "      <td>2826.950310</td>\n",
       "    </tr>\n",
       "  </tbody>\n",
       "</table>\n",
       "</div>"
      ],
      "text/plain": [
       "           date   Pedestrian\n",
       "7152 2022-06-18   317.848569\n",
       "7153 2022-06-18   161.907920\n",
       "7154 2022-06-18  3421.345528\n",
       "7155 2022-06-18  2666.521723\n",
       "7156 2022-06-18  2826.950310"
      ]
     },
     "execution_count": 23,
     "metadata": {},
     "output_type": "execute_result"
    }
   ],
   "source": [
    "print(\"6-17 to 7-12\")\n",
    "print(sum(pred.values))\n",
    "pred2 = {\"date\":test[\"UTC Datetime\"][3:],\n",
    "        \"Pedestrian\":pred.values}\n",
    "pred2 = pd.DataFrame(pred2)\n",
    "pred2.head()"
   ]
  },
  {
   "cell_type": "markdown",
   "metadata": {},
   "source": [
    "The table above shows the missing data from 6-18 to 7-12 in 2022 S2, so it is the blank at the graph"
   ]
  },
  {
   "cell_type": "code",
   "execution_count": 71,
   "metadata": {},
   "outputs": [],
   "source": [
    "miss_value = footfall.loc[footfall[\"Pedestrian\"]==0]\n",
    "new_footfall =  footfall.loc[footfall[\"Pedestrian\"]!=0]"
   ]
  },
  {
   "cell_type": "code",
   "execution_count": 25,
   "metadata": {},
   "outputs": [
    {
     "name": "stderr",
     "output_type": "stream",
     "text": [
      "/var/folders/w_/ft1536ls3k3gvb2sks5dbg8h0000gn/T/ipykernel_11431/2659616276.py:10: SettingWithCopyWarning: \n",
      "A value is trying to be set on a copy of a slice from a DataFrame.\n",
      "Try using .loc[row_indexer,col_indexer] = value instead\n",
      "\n",
      "See the caveats in the documentation: https://pandas.pydata.org/pandas-docs/stable/user_guide/indexing.html#returning-a-view-versus-a-copy\n",
      "  miss_value[\"Pedestrian\"]=predict_data\n"
     ]
    },
    {
     "data": {
      "text/html": [
       "<div>\n",
       "<style scoped>\n",
       "    .dataframe tbody tr th:only-of-type {\n",
       "        vertical-align: middle;\n",
       "    }\n",
       "\n",
       "    .dataframe tbody tr th {\n",
       "        vertical-align: top;\n",
       "    }\n",
       "\n",
       "    .dataframe thead th {\n",
       "        text-align: right;\n",
       "    }\n",
       "</style>\n",
       "<table border=\"1\" class=\"dataframe\">\n",
       "  <thead>\n",
       "    <tr style=\"text-align: right;\">\n",
       "      <th></th>\n",
       "      <th>UTC Datetime</th>\n",
       "      <th>Local Datetime</th>\n",
       "      <th>countlineId</th>\n",
       "      <th>countlineName</th>\n",
       "      <th>Sensor Number</th>\n",
       "      <th>direction</th>\n",
       "      <th>Pedestrian</th>\n",
       "    </tr>\n",
       "  </thead>\n",
       "  <tbody>\n",
       "    <tr>\n",
       "      <th>3570</th>\n",
       "      <td>2021-12-01</td>\n",
       "      <td>2021-12-01</td>\n",
       "      <td>22995</td>\n",
       "      <td>S2_StGeorgesUpperSt_dlr001</td>\n",
       "      <td>S2</td>\n",
       "      <td>in</td>\n",
       "      <td>1303.9885998018083</td>\n",
       "    </tr>\n",
       "    <tr>\n",
       "      <th>3571</th>\n",
       "      <td>2021-12-01</td>\n",
       "      <td>2021-12-01</td>\n",
       "      <td>22995</td>\n",
       "      <td>S2_StGeorgesUpperSt_dlr001</td>\n",
       "      <td>S2</td>\n",
       "      <td>out</td>\n",
       "      <td>884.2018850542585</td>\n",
       "    </tr>\n",
       "    <tr>\n",
       "      <th>3572</th>\n",
       "      <td>2021-12-01</td>\n",
       "      <td>2021-12-01</td>\n",
       "      <td>22994</td>\n",
       "      <td>S2_StGeorgesUpperSt_pathLHS_dlr001</td>\n",
       "      <td>S2</td>\n",
       "      <td>in</td>\n",
       "      <td>717.9358959551748</td>\n",
       "    </tr>\n",
       "    <tr>\n",
       "      <th>3573</th>\n",
       "      <td>2021-12-01</td>\n",
       "      <td>2021-12-01</td>\n",
       "      <td>22994</td>\n",
       "      <td>S2_StGeorgesUpperSt_pathLHS_dlr001</td>\n",
       "      <td>S2</td>\n",
       "      <td>out</td>\n",
       "      <td>684.4866727023823</td>\n",
       "    </tr>\n",
       "    <tr>\n",
       "      <th>3574</th>\n",
       "      <td>2021-12-01</td>\n",
       "      <td>2021-12-01</td>\n",
       "      <td>22996</td>\n",
       "      <td>S2_StGeorgesUpperSt_pathRHS_dlr001</td>\n",
       "      <td>S2</td>\n",
       "      <td>in</td>\n",
       "      <td>663.1502554937055</td>\n",
       "    </tr>\n",
       "  </tbody>\n",
       "</table>\n",
       "</div>"
      ],
      "text/plain": [
       "     UTC Datetime Local Datetime  countlineId  \\\n",
       "3570   2021-12-01     2021-12-01        22995   \n",
       "3571   2021-12-01     2021-12-01        22995   \n",
       "3572   2021-12-01     2021-12-01        22994   \n",
       "3573   2021-12-01     2021-12-01        22994   \n",
       "3574   2021-12-01     2021-12-01        22996   \n",
       "\n",
       "                           countlineName Sensor Number direction  \\\n",
       "3570          S2_StGeorgesUpperSt_dlr001            S2        in   \n",
       "3571          S2_StGeorgesUpperSt_dlr001            S2       out   \n",
       "3572  S2_StGeorgesUpperSt_pathLHS_dlr001            S2        in   \n",
       "3573  S2_StGeorgesUpperSt_pathLHS_dlr001            S2       out   \n",
       "3574  S2_StGeorgesUpperSt_pathRHS_dlr001            S2        in   \n",
       "\n",
       "              Pedestrian  \n",
       "3570  1303.9885998018083  \n",
       "3571   884.2018850542585  \n",
       "3572   717.9358959551748  \n",
       "3573   684.4866727023823  \n",
       "3574   663.1502554937055  "
      ]
     },
     "execution_count": 25,
     "metadata": {},
     "output_type": "execute_result"
    }
   ],
   "source": [
    "from scipy.interpolate import interp1d\n",
    "x = np.array(new_footfall.index)\n",
    "y = np.array(new_footfall[\"Pedestrian\"])\n",
    "f = interp1d(x,y,kind=\"cubic\")\n",
    "\n",
    "predict_data = []\n",
    "for i in miss_value.index:\n",
    "    predict_data.append(f(i))\n",
    "\n",
    "miss_value[\"Pedestrian\"]=predict_data\n",
    "miss_value.head()"
   ]
  },
  {
   "cell_type": "markdown",
   "metadata": {},
   "source": [
    "### What you see above is the prediciton of missing data by  1D interpolation. Because you could easily predict all missing data by interpolation at once, so what you see below is a general graph of all predicted missing data."
   ]
  },
  {
   "cell_type": "code",
   "execution_count": 26,
   "metadata": {
    "scrolled": true
   },
   "outputs": [
    {
     "data": {
      "text/plain": [
       "<matplotlib.collections.PathCollection at 0x7f7fb9838d60>"
      ]
     },
     "execution_count": 26,
     "metadata": {},
     "output_type": "execute_result"
    },
    {
     "data": {
      "image/png": "[encoded data removed]",
      "text/plain": [
       "<Figure size 432x288 with 1 Axes>"
      ]
     },
     "metadata": {
      "needs_background": "light"
     },
     "output_type": "display_data"
    }
   ],
   "source": [
    "plt.scatter(pd.to_datetime(miss_value[\"UTC Datetime\"]),predict_data)"
   ]
  },
  {
   "cell_type": "code",
   "execution_count": 27,
   "metadata": {},
   "outputs": [],
   "source": [
    "from statsmodels.tsa.arima.model import ARIMA"
   ]
  },
  {
   "cell_type": "code",
   "execution_count": 28,
   "metadata": {},
   "outputs": [
    {
     "name": "stderr",
     "output_type": "stream",
     "text": [
      "/Users/jiang/opt/anaconda3/lib/python3.9/site-packages/statsmodels/tsa/base/tsa_model.py:578: ValueWarning: An unsupported index was provided and will be ignored when e.g. forecasting.\n",
      "  warnings.warn('An unsupported index was provided and will be'\n",
      "/Users/jiang/opt/anaconda3/lib/python3.9/site-packages/statsmodels/tsa/base/tsa_model.py:578: ValueWarning: An unsupported index was provided and will be ignored when e.g. forecasting.\n",
      "  warnings.warn('An unsupported index was provided and will be'\n",
      "/Users/jiang/opt/anaconda3/lib/python3.9/site-packages/statsmodels/tsa/statespace/sarimax.py:966: UserWarning: Non-stationary starting autoregressive parameters found. Using zeros as starting parameters.\n",
      "  warn('Non-stationary starting autoregressive parameters'\n",
      "/Users/jiang/opt/anaconda3/lib/python3.9/site-packages/statsmodels/tsa/statespace/sarimax.py:978: UserWarning: Non-invertible starting MA parameters found. Using zeros as starting parameters.\n",
      "  warn('Non-invertible starting MA parameters found.'\n",
      " This problem is unconstrained.\n"
     ]
    },
    {
     "name": "stdout",
     "output_type": "stream",
     "text": [
      "RUNNING THE L-BFGS-B CODE\n",
      "\n",
      "           * * *\n",
      "\n",
      "Machine precision = 2.220D-16\n",
      " N =            5     M =           10\n",
      "\n",
      "At X0         0 variables are exactly at the bounds\n",
      "\n",
      "At iterate    0    f=  7.21393D+00    |proj g|=  7.69049D-02\n",
      "\n",
      "At iterate    5    f=  7.18162D+00    |proj g|=  2.45693D-03\n",
      "\n",
      "At iterate   10    f=  7.18011D+00    |proj g|=  3.63848D-02\n",
      "\n",
      "At iterate   15    f=  7.15247D+00    |proj g|=  1.24972D-02\n",
      "\n",
      "At iterate   20    f=  7.13702D+00    |proj g|=  4.52591D-03\n",
      "\n",
      "At iterate   25    f=  7.04519D+00    |proj g|=  3.36870D-02\n",
      "\n",
      "At iterate   30    f=  7.03386D+00    |proj g|=  8.71214D-04\n",
      "\n",
      "           * * *\n",
      "\n",
      "Tit   = total number of iterations\n",
      "Tnf   = total number of function evaluations\n",
      "Tnint = total number of segments explored during Cauchy searches\n",
      "Skip  = number of BFGS updates skipped\n",
      "Nact  = number of active bounds at final generalized Cauchy point\n",
      "Projg = norm of the final projected gradient\n",
      "F     = final function value\n",
      "\n",
      "           * * *\n",
      "\n",
      "   N    Tit     Tnf  Tnint  Skip  Nact     Projg        F\n",
      "    5     32     41      1     0     0   9.944D-06   7.034D+00\n",
      "  F =   7.0338609742717146     \n",
      "\n",
      "CONVERGENCE: NORM_OF_PROJECTED_GRADIENT_<=_PGTOL            \n"
     ]
    },
    {
     "name": "stderr",
     "output_type": "stream",
     "text": [
      "/Users/jiang/opt/anaconda3/lib/python3.9/site-packages/statsmodels/tsa/base/tsa_model.py:376: ValueWarning: No supported index is available. Prediction results will be given with an integer index beginning at `start`.\n",
      "  warnings.warn('No supported index is available.'\n",
      "/Users/jiang/opt/anaconda3/lib/python3.9/site-packages/statsmodels/tsa/statespace/kalman_filter.py:2290: ValueWarning: Dynamic prediction specified to begin during out-of-sample forecasting period, and so has no effect.\n",
      "  warn('Dynamic prediction specified to begin during'\n"
     ]
    },
    {
     "data": {
      "text/plain": [
       "1189    -142.612089\n",
       "1190    2075.780155\n",
       "1191    2476.629222\n",
       "1192    3115.814623\n",
       "1193    2842.167410\n",
       "           ...     \n",
       "1370    2060.665616\n",
       "1371    2392.363277\n",
       "1372    2961.239950\n",
       "1373    2684.605801\n",
       "1374     317.940345\n",
       "Name: predicted_mean, Length: 186, dtype: float64"
      ]
     },
     "execution_count": 28,
     "metadata": {},
     "output_type": "execute_result"
    }
   ],
   "source": [
    "a = cla(footfall_2021,\"S2\")\n",
    "data1 = a.area\n",
    "\n",
    "ff = data1.loc[pd.to_datetime(data1[\"UTC Datetime\"])<pd.to_datetime(\"2021-12-1\")]\n",
    "model=sm.tsa.statespace.SARIMAX(ff['Pedestrian'],order=(1, 1, 1),seasonal_order=(1,1,1,12))\n",
    "results=model.fit()\n",
    "predd = results.predict(start=len(ff)+1,end=len(data1),dynamic=True)\n",
    "predd"
   ]
  },
  {
   "cell_type": "markdown",
   "metadata": {},
   "source": [
    "### What you see above is the prediction from ARIMA for 2022 Dec, and below is a graph combined the real data(blue) from May to Nov. and predicted data(Orange) of Dec. As you see from the predicted data, there are some numbers are negative, so the accuracy of prediction may not very good."
   ]
  },
  {
   "cell_type": "code",
   "execution_count": 29,
   "metadata": {},
   "outputs": [
    {
     "data": {
      "text/plain": [
       "<matplotlib.collections.PathCollection at 0x7f7fb8dbd7f0>"
      ]
     },
     "execution_count": 29,
     "metadata": {},
     "output_type": "execute_result"
    },
    {
     "data": {
      "image/png": "[encoded data removed]",
      "text/plain": [
       "<Figure size 432x288 with 1 Axes>"
      ]
     },
     "metadata": {
      "needs_background": "light"
     },
     "output_type": "display_data"
    }
   ],
   "source": [
    "aa = np.array(data1.loc[pd.to_datetime(data1[\"UTC Datetime\"])>=pd.to_datetime(\"2021-12-1\")][\"UTC Datetime\"])\n",
    "plt.scatter(pd.to_datetime(ff[\"UTC Datetime\"]),ff[\"Pedestrian\"])\n",
    "plt.scatter(aa,predd)"
   ]
  },
  {
   "cell_type": "code",
   "execution_count": null,
   "metadata": {},
   "outputs": [],
   "source": []
  }
 ],
 "metadata": {
  "kernelspec": {
   "display_name": "Python 3 (ipykernel)",
   "language": "python",
   "name": "python3"
  },
  "language_info": {
   "codemirror_mode": {
    "name": "ipython",
    "version": 3
   },
   "file_extension": ".py",
   "mimetype": "text/x-python",
   "name": "python",
   "nbconvert_exporter": "python",
   "pygments_lexer": "ipython3",
   "version": "3.9.7"
  }
 },
 "nbformat": 4,
 "nbformat_minor": 4
}
