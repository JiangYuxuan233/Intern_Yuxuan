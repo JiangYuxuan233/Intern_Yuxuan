{
 "cells": [
  {
   "cell_type": "markdown",
   "metadata": {},
   "source": [
    "# I used ordinary least squares(OLS) and common polynimial regression to predict data. What you see below is what I got. \n",
    "I know the codes are kind of duplicates, I will simplize it after.\n",
    "<br>p.s. If you just want to see the result, please see the \"Result\" part"
   ]
  },
  {
   "cell_type": "code",
   "execution_count": 1,
   "metadata": {},
   "outputs": [],
   "source": [
    "import pandas as pd\n",
    "import numpy as np \n",
    "import sklearn\n",
    "from sklearn.linear_model import LinearRegression\n",
    "from sklearn.preprocessing import PolynomialFeatures\n",
    "import matplotlib.pyplot as plt\n",
    "import seaborn as sns\n",
    "from scipy import stats"
   ]
  },
  {
   "cell_type": "code",
   "execution_count": 2,
   "metadata": {},
   "outputs": [
    {
     "data": {
      "text/plain": [
       "array([[Timestamp('2023-01-01 00:00:00'),\n",
       "        Timestamp('2023-01-01 00:00:00'), 22989, ..., 'S1', 'in', 47],\n",
       "       [Timestamp('2023-01-01 00:00:00'),\n",
       "        Timestamp('2023-01-01 00:00:00'), 22989, ..., 'S1', 'out', 30],\n",
       "       [Timestamp('2023-01-01 00:00:00'),\n",
       "        Timestamp('2023-01-01 00:00:00'), 22988, ..., 'S1', 'in', 1256],\n",
       "       ...,\n",
       "       [Timestamp('2023-04-30 00:00:00'),\n",
       "        Timestamp('2023-05-27 00:59:59.995000'), 22997, ..., 'S3', 'out',\n",
       "        1580],\n",
       "       [Timestamp('2023-04-30 00:00:00'),\n",
       "        Timestamp('2023-05-28 00:59:59.995000'), 22999, ..., 'S3', 'in',\n",
       "        1254],\n",
       "       [Timestamp('2023-04-30 00:00:00'),\n",
       "        Timestamp('2023-05-29 00:59:59.995000'), 22999, ..., 'S3', 'out',\n",
       "        1364]], dtype=object)"
      ]
     },
     "execution_count": 2,
     "metadata": {},
     "output_type": "execute_result"
    }
   ],
   "source": [
    "footfall = pd.read_excel(\"Footfall_DLR_Daily.xlsx\")\n",
    "date = pd.to_datetime(\"2022-1-1\")\n",
    "date1 = pd.to_datetime(\"2021-12-31\")\n",
    "date2 = pd.to_datetime(\"2022-12-31\")\n",
    "footfalls = footfall.loc[pd.to_datetime(footfall[\"UTC Datetime\"])>date1]\n",
    "footfall_2021 = footfall.loc[pd.to_datetime(footfall[\"UTC Datetime\"])<date]\n",
    "footfall_2022 = footfalls.loc[pd.to_datetime(footfalls[\"UTC Datetime\"])<date2] \n",
    "footfall_2023 = footfall.loc[pd.to_datetime(footfall[\"UTC Datetime\"])>date2]\n",
    "footfall_2021 = pd.DataFrame.drop_duplicates(footfall_2021).reset_index()\n",
    "footfall_2022 = pd.DataFrame.drop_duplicates(footfall_2022).reset_index()\n",
    "footfall_2023 = pd.DataFrame.drop_duplicates(footfall_2023).reset_index()\n",
    "footfall_2023.iloc[:,1:].values"
   ]
  },
  {
   "cell_type": "code",
   "execution_count": 3,
   "metadata": {},
   "outputs": [],
   "source": [
    "class cla:\n",
    "    def __init__(self,footfall,s):\n",
    "        self.footfall = footfall\n",
    "        self.s = s\n",
    "        self.area = footfall.loc[footfall[\"Sensor Number\"]==s]\n",
    "    def street(self,name):\n",
    "        self.street = self.area.loc[self.area[\"countlineName\"]==name]\n",
    "        return self.street\n",
    "class regression:\n",
    "    def __init__(self,footfall):\n",
    "        self.footfall = footfall\n",
    "        self.pred = np.array([])\n",
    "    def poly_regression(self,deg):\n",
    "        self.footfalls = self.footfall.loc[self.footfall[\"Pedestrian\"]!=0]\n",
    "        poly = PolynomialFeatures(degree=deg,include_bias=False)\n",
    "        x = np.arange(0,len(self.footfall))\n",
    "        x1 = np.arange(0,len(self.footfalls))\n",
    "        poly_features = poly.fit_transform(x1.reshape(-1, 1))\n",
    "        poly_reg_model = LinearRegression()\n",
    "        model = poly_reg_model.fit(poly_features, self.footfalls[\"Pedestrian\"])\n",
    "        poly_feature = poly.fit_transform(np.arange(0,len(self.footfall)).reshape(-1,1))\n",
    "        pred = poly_reg_model.predict(poly_feature)\n",
    "        self.pred=pred\n",
    "        plt.scatter(x1,self.footfalls[\"Pedestrian\"]),\n",
    "        plt.plot(x,pred,color=\"r\"),plt.title(\"poly_regression\"),\n",
    "        plt.xlabel(\"days\"),plt.ylabel(\"footfall\")\n",
    "        plt.show()\n",
    "        plt.figure(figsize=(9,6))\n",
    "    \n",
    "    def corr_Prediction(self):\n",
    "        Prediction = {\"real \":self.footfall[\"Pedestrian\"][:-31],\n",
    "                     \"pred \":self.pred[:-31]}\n",
    "        Prediction = pd.DataFrame(Prediction)\n",
    "        return plt.subplots(figsize=(6,4)),sns.heatmap(Prediction.corr(), annot = True)\n"
   ]
  },
  {
   "cell_type": "markdown",
   "metadata": {},
   "source": [
    "# The graph you see below is a result of predicting missing data by polynominal regression"
   ]
  },
  {
   "cell_type": "code",
   "execution_count": 4,
   "metadata": {},
   "outputs": [
    {
     "data": {
      "image/png": "[encoded data removed]",
      "text/plain": [
       "<Figure size 432x288 with 1 Axes>"
      ]
     },
     "metadata": {
      "needs_background": "light"
     },
     "output_type": "display_data"
    },
    {
     "data": {
      "text/plain": [
       "((<Figure size 432x288 with 2 Axes>, <AxesSubplot:>), <AxesSubplot:>)"
      ]
     },
     "execution_count": 4,
     "metadata": {},
     "output_type": "execute_result"
    },
    {
     "data": {
      "text/plain": [
       "<Figure size 648x432 with 0 Axes>"
      ]
     },
     "metadata": {},
     "output_type": "display_data"
    },
    {
     "data": {
      "image/png": "[encoded data removed]",
      "text/plain": [
       "<Figure size 432x288 with 2 Axes>"
      ]
     },
     "metadata": {
      "needs_background": "light"
     },
     "output_type": "display_data"
    }
   ],
   "source": [
    "a = cla(footfall_2021,\"S2\")\n",
    "data = a.street(\"S2_StGeorgesUpperSt_dlr001\")\n",
    "d = regression(data.loc[data[\"direction\"]==\"out\"])\n",
    "d.poly_regression(4)\n",
    "d.corr_Prediction()"
   ]
  },
  {
   "cell_type": "markdown",
   "metadata": {},
   "source": [
    "the correlation graph showing the grade of prediciton from May to Nov for S2_StGeorgesUpperSt in 2021"
   ]
  },
  {
   "cell_type": "markdown",
   "metadata": {},
   "source": [
    "# What you see below is a result of predicting missing data by OLS\n",
    "* For OLS, I seperated data into two parts\n",
    "* From the date 5/17 to 9/30 would be train data\n",
    "* From the date 10/1 to 11/30 would be test data"
   ]
  },
  {
   "cell_type": "markdown",
   "metadata": {},
   "source": [
    "### For the OLS, it is difficult to predict good outcomes using single data. Therefore there are two stratgies to predict the data. \n",
    "* predict S2 georgeSt pedertrian in 2021 by using S2 georgeSt data in 2022 as the factor\n",
    "* predict S2 georgeSt pedertrian in 2021 by using area S1 in 2021 and S3 in 2021 as the factors"
   ]
  },
  {
   "cell_type": "code",
   "execution_count": 5,
   "metadata": {},
   "outputs": [],
   "source": [
    "a = cla(footfall_2021,\"S2\")\n",
    "b = cla(footfall_2022,\"S2\")\n",
    "data1 = a.area\n",
    "data2 = b.area\n",
    "\n",
    "train_2021=data1.loc[pd.to_datetime(data1[\"UTC Datetime\"])<pd.to_datetime(\"2021-10-1\")]\n",
    "train_2022=data2.loc[pd.to_datetime(data2[\"UTC Datetime\"])<pd.to_datetime(\"2022-10-1\")]\n",
    "train_2022=train_2022.loc[pd.to_datetime(train_2022[\"UTC Datetime\"])>pd.to_datetime(\"2022-5-16\")]\n",
    "\n",
    "test_2021 =data1.loc[pd.to_datetime(data1[\"UTC Datetime\"])>=pd.to_datetime(\"2021-10-1\")]\n",
    "test_2022 = data2.loc[pd.to_datetime(data2[\"UTC Datetime\"])>=pd.to_datetime(\"2022-10-1\")]\n",
    "test_2022 = test_2022.loc[pd.to_datetime(test_2022[\"UTC Datetime\"])<pd.to_datetime(\"2022-12-1\")]\n",
    "test_2021 = test_2021.loc[pd.to_datetime(test_2021[\"UTC Datetime\"])<pd.to_datetime(\"2021-12-1\")]\n",
    "\n",
    "train_2022 = pd.DataFrame.drop_duplicates(train_2022)\n",
    "test_2022 = pd.DataFrame.drop_duplicates(test_2022)"
   ]
  },
  {
   "cell_type": "markdown",
   "metadata": {},
   "source": [
    "### predict S2 georgeSt pedertrian in 2021 by using 2022 data as the factor"
   ]
  },
  {
   "cell_type": "code",
   "execution_count": 6,
   "metadata": {},
   "outputs": [],
   "source": [
    "import statsmodels.api as sm\n",
    "constant = sm.add_constant(train_2022[\"Pedestrian\"])\n",
    "model = sm.OLS(list(train_2021[\"Pedestrian\"]),constant)\n",
    "result = model.fit()\n",
    "new_constant=sm.add_constant(test_2022[\"Pedestrian\"])\n",
    "pred = result.predict(new_constant)"
   ]
  },
  {
   "cell_type": "code",
   "execution_count": 7,
   "metadata": {},
   "outputs": [
    {
     "name": "stdout",
     "output_type": "stream",
     "text": [
      "October\n",
      "real     365350\n",
      "predicted 403569.41608563793\n",
      "November\n",
      "real     327762\n",
      "predicted 398137.96002087265\n"
     ]
    },
    {
     "data": {
      "image/png": "[encoded data removed]",
      "text/plain": [
       "<Figure size 432x288 with 1 Axes>"
      ]
     },
     "metadata": {
      "needs_background": "light"
     },
     "output_type": "display_data"
    }
   ],
   "source": [
    "x = np.arange(len(test_2021))\n",
    "plt.scatter(x,test_2021[\"Pedestrian\"],label=\"real\")\n",
    "plt.scatter(x,pred.values,label=\"predicted\")\n",
    "print(\"October\")\n",
    "print(\"real    \",sum(test_2021.loc[pd.to_datetime(test_2021[\"UTC Datetime\"])<pd.to_datetime(\"2021-11-1\")][\"Pedestrian\"]))\n",
    "print(\"predicted\",sum(pred.values[:186]))\n",
    "print(\"November\")\n",
    "print(\"real    \",sum(test_2021.loc[pd.to_datetime(test_2021[\"UTC Datetime\"])>=pd.to_datetime(\"2021-11-1\")][\"Pedestrian\"]))\n",
    "print(\"predicted\",sum(pred.values[186:]))"
   ]
  },
  {
   "cell_type": "markdown",
   "metadata": {},
   "source": [
    "what you see above, is a graph showing the real pedestrians(blue) and predicted pedestrians(orange) for test data(10/1 to 11/30 in S2 area) in 2021 when use 2022 data as factor"
   ]
  },
  {
   "cell_type": "code",
   "execution_count": 8,
   "metadata": {},
   "outputs": [
    {
     "data": {
      "image/png": "[encoded data removed]",
      "text/plain": [
       "<Figure size 432x288 with 2 Axes>"
      ]
     },
     "metadata": {
      "needs_background": "light"
     },
     "output_type": "display_data"
    }
   ],
   "source": [
    "Prediction = {\"real\":test_2021[\"Pedestrian\"],\n",
    "              \"pred\":pred.values\n",
    "             }\n",
    "Prediction = pd.DataFrame(Prediction)\n",
    "sns.heatmap(Prediction.corr(), annot = True)\n",
    "reg = LinearRegression().fit(constant,list(train_2021[\"Pedestrian\"]))"
   ]
  },
  {
   "cell_type": "markdown",
   "metadata": {},
   "source": [
    "the correlation graph showing the grade of prediciton test data in 2021"
   ]
  },
  {
   "cell_type": "code",
   "execution_count": 9,
   "metadata": {},
   "outputs": [
    {
     "data": {
      "text/html": [
       "<table class=\"simpletable\">\n",
       "<caption>OLS Regression Results</caption>\n",
       "<tr>\n",
       "  <th>Dep. Variable:</th>            <td>y</td>        <th>  R-squared:         </th> <td>   0.296</td> \n",
       "</tr>\n",
       "<tr>\n",
       "  <th>Model:</th>                   <td>OLS</td>       <th>  Adj. R-squared:    </th> <td>   0.295</td> \n",
       "</tr>\n",
       "<tr>\n",
       "  <th>Method:</th>             <td>Least Squares</td>  <th>  F-statistic:       </th> <td>   344.7</td> \n",
       "</tr>\n",
       "<tr>\n",
       "  <th>Date:</th>             <td>Tue, 18 Jul 2023</td> <th>  Prob (F-statistic):</th> <td>1.65e-64</td> \n",
       "</tr>\n",
       "<tr>\n",
       "  <th>Time:</th>                 <td>14:14:53</td>     <th>  Log-Likelihood:    </th> <td> -6922.6</td> \n",
       "</tr>\n",
       "<tr>\n",
       "  <th>No. Observations:</th>      <td>   822</td>      <th>  AIC:               </th> <td>1.385e+04</td>\n",
       "</tr>\n",
       "<tr>\n",
       "  <th>Df Residuals:</th>          <td>   820</td>      <th>  BIC:               </th> <td>1.386e+04</td>\n",
       "</tr>\n",
       "<tr>\n",
       "  <th>Df Model:</th>              <td>     1</td>      <th>                     </th>     <td> </td>    \n",
       "</tr>\n",
       "<tr>\n",
       "  <th>Covariance Type:</th>      <td>nonrobust</td>    <th>                     </th>     <td> </td>    \n",
       "</tr>\n",
       "</table>\n",
       "<table class=\"simpletable\">\n",
       "<tr>\n",
       "       <td></td>         <th>coef</th>     <th>std err</th>      <th>t</th>      <th>P>|t|</th>  <th>[0.025</th>    <th>0.975]</th>  \n",
       "</tr>\n",
       "<tr>\n",
       "  <th>const</th>      <td> 1298.6247</td> <td>   52.901</td> <td>   24.548</td> <td> 0.000</td> <td> 1194.788</td> <td> 1402.462</td>\n",
       "</tr>\n",
       "<tr>\n",
       "  <th>Pedestrian</th> <td>    0.4946</td> <td>    0.027</td> <td>   18.567</td> <td> 0.000</td> <td>    0.442</td> <td>    0.547</td>\n",
       "</tr>\n",
       "</table>\n",
       "<table class=\"simpletable\">\n",
       "<tr>\n",
       "  <th>Omnibus:</th>       <td>94.732</td> <th>  Durbin-Watson:     </th> <td>   1.039</td>\n",
       "</tr>\n",
       "<tr>\n",
       "  <th>Prob(Omnibus):</th> <td> 0.000</td> <th>  Jarque-Bera (JB):  </th> <td>  77.148</td>\n",
       "</tr>\n",
       "<tr>\n",
       "  <th>Skew:</th>          <td> 0.661</td> <th>  Prob(JB):          </th> <td>1.77e-17</td>\n",
       "</tr>\n",
       "<tr>\n",
       "  <th>Kurtosis:</th>      <td> 2.288</td> <th>  Cond. No.          </th> <td>2.74e+03</td>\n",
       "</tr>\n",
       "</table><br/><br/>Notes:<br/>[1] Standard Errors assume that the covariance matrix of the errors is correctly specified.<br/>[2] The condition number is large, 2.74e+03. This might indicate that there are<br/>strong multicollinearity or other numerical problems."
      ],
      "text/latex": [
       "\\begin{center}\n",
       "\\begin{tabular}{lclc}\n",
       "\\toprule\n",
       "\\textbf{Dep. Variable:}    &        y         & \\textbf{  R-squared:         } &     0.296   \\\\\n",
       "\\textbf{Model:}            &       OLS        & \\textbf{  Adj. R-squared:    } &     0.295   \\\\\n",
       "\\textbf{Method:}           &  Least Squares   & \\textbf{  F-statistic:       } &     344.7   \\\\\n",
       "\\textbf{Date:}             & Tue, 18 Jul 2023 & \\textbf{  Prob (F-statistic):} &  1.65e-64   \\\\\n",
       "\\textbf{Time:}             &     14:14:53     & \\textbf{  Log-Likelihood:    } &   -6922.6   \\\\\n",
       "\\textbf{No. Observations:} &         822      & \\textbf{  AIC:               } & 1.385e+04   \\\\\n",
       "\\textbf{Df Residuals:}     &         820      & \\textbf{  BIC:               } & 1.386e+04   \\\\\n",
       "\\textbf{Df Model:}         &           1      & \\textbf{                     } &             \\\\\n",
       "\\textbf{Covariance Type:}  &    nonrobust     & \\textbf{                     } &             \\\\\n",
       "\\bottomrule\n",
       "\\end{tabular}\n",
       "\\begin{tabular}{lcccccc}\n",
       "                    & \\textbf{coef} & \\textbf{std err} & \\textbf{t} & \\textbf{P$> |$t$|$} & \\textbf{[0.025} & \\textbf{0.975]}  \\\\\n",
       "\\midrule\n",
       "\\textbf{const}      &    1298.6247  &       52.901     &    24.548  &         0.000        &     1194.788    &     1402.462     \\\\\n",
       "\\textbf{Pedestrian} &       0.4946  &        0.027     &    18.567  &         0.000        &        0.442    &        0.547     \\\\\n",
       "\\bottomrule\n",
       "\\end{tabular}\n",
       "\\begin{tabular}{lclc}\n",
       "\\textbf{Omnibus:}       & 94.732 & \\textbf{  Durbin-Watson:     } &    1.039  \\\\\n",
       "\\textbf{Prob(Omnibus):} &  0.000 & \\textbf{  Jarque-Bera (JB):  } &   77.148  \\\\\n",
       "\\textbf{Skew:}          &  0.661 & \\textbf{  Prob(JB):          } & 1.77e-17  \\\\\n",
       "\\textbf{Kurtosis:}      &  2.288 & \\textbf{  Cond. No.          } & 2.74e+03  \\\\\n",
       "\\bottomrule\n",
       "\\end{tabular}\n",
       "%\\caption{OLS Regression Results}\n",
       "\\end{center}\n",
       "\n",
       "Notes: \\newline\n",
       " [1] Standard Errors assume that the covariance matrix of the errors is correctly specified. \\newline\n",
       " [2] The condition number is large, 2.74e+03. This might indicate that there are \\newline\n",
       " strong multicollinearity or other numerical problems."
      ],
      "text/plain": [
       "<class 'statsmodels.iolib.summary.Summary'>\n",
       "\"\"\"\n",
       "                            OLS Regression Results                            \n",
       "==============================================================================\n",
       "Dep. Variable:                      y   R-squared:                       0.296\n",
       "Model:                            OLS   Adj. R-squared:                  0.295\n",
       "Method:                 Least Squares   F-statistic:                     344.7\n",
       "Date:                Tue, 18 Jul 2023   Prob (F-statistic):           1.65e-64\n",
       "Time:                        14:14:53   Log-Likelihood:                -6922.6\n",
       "No. Observations:                 822   AIC:                         1.385e+04\n",
       "Df Residuals:                     820   BIC:                         1.386e+04\n",
       "Df Model:                           1                                         \n",
       "Covariance Type:            nonrobust                                         \n",
       "==============================================================================\n",
       "                 coef    std err          t      P>|t|      [0.025      0.975]\n",
       "------------------------------------------------------------------------------\n",
       "const       1298.6247     52.901     24.548      0.000    1194.788    1402.462\n",
       "Pedestrian     0.4946      0.027     18.567      0.000       0.442       0.547\n",
       "==============================================================================\n",
       "Omnibus:                       94.732   Durbin-Watson:                   1.039\n",
       "Prob(Omnibus):                  0.000   Jarque-Bera (JB):               77.148\n",
       "Skew:                           0.661   Prob(JB):                     1.77e-17\n",
       "Kurtosis:                       2.288   Cond. No.                     2.74e+03\n",
       "==============================================================================\n",
       "\n",
       "Notes:\n",
       "[1] Standard Errors assume that the covariance matrix of the errors is correctly specified.\n",
       "[2] The condition number is large, 2.74e+03. This might indicate that there are\n",
       "strong multicollinearity or other numerical problems.\n",
       "\"\"\""
      ]
     },
     "execution_count": 9,
     "metadata": {},
     "output_type": "execute_result"
    }
   ],
   "source": [
    "result.summary()"
   ]
  },
  {
   "cell_type": "code",
   "execution_count": 10,
   "metadata": {},
   "outputs": [],
   "source": [
    "a = cla(footfall_2021,\"S2\")\n",
    "data1 = a.area\n",
    "b = cla(footfall_2021,\"S3\")\n",
    "data2 = b.area\n",
    "c = cla(footfall_2021,\"S1\")\n",
    "data3 = c.area\n",
    "\n",
    "train_S2 = data1.loc[pd.to_datetime(data1[\"UTC Datetime\"])<pd.to_datetime(\"2021-10-1\")]\n",
    "train_S3 = data2.loc[pd.to_datetime(data2[\"UTC Datetime\"])<pd.to_datetime(\"2021-10-1\")]\n",
    "train_S1 = data3.loc[pd.to_datetime(data3[\"UTC Datetime\"])<pd.to_datetime(\"2021-10-1\")]\n",
    "train = {\"S1\":np.array(train_S1[\"Pedestrian\"]),\n",
    "           \"S3\":np.array(train_S3[\"Pedestrian\"])}\n",
    "train = pd.DataFrame(train)\n",
    "\n",
    "test_S2 = data1.loc[pd.to_datetime(data1[\"UTC Datetime\"])>pd.to_datetime(\"2021-10-1\")]\n",
    "test_S1 = data2.loc[pd.to_datetime(data2[\"UTC Datetime\"])>pd.to_datetime(\"2021-10-1\")]\n",
    "test_S3 = data3.loc[pd.to_datetime(data3[\"UTC Datetime\"])>pd.to_datetime(\"2021-10-1\")]\n",
    "test_S2 = test_S2.loc[pd.to_datetime(test_S2[\"UTC Datetime\"])<pd.to_datetime(\"2021-12-1\")]\n",
    "test_S1 = test_S1.loc[pd.to_datetime(test_S1[\"UTC Datetime\"])<pd.to_datetime(\"2021-12-1\")]\n",
    "test_S3 = test_S3.loc[pd.to_datetime(test_S3[\"UTC Datetime\"])<pd.to_datetime(\"2021-12-1\")]\n",
    "test = {\"S1\":np.array(test_S1[\"Pedestrian\"]),\n",
    "           \"S3\":np.array(test_S3[\"Pedestrian\"])}\n",
    "test = pd.DataFrame(test)"
   ]
  },
  {
   "cell_type": "code",
   "execution_count": 11,
   "metadata": {},
   "outputs": [
    {
     "data": {
      "text/plain": [
       "822"
      ]
     },
     "execution_count": 11,
     "metadata": {},
     "output_type": "execute_result"
    }
   ],
   "source": [
    "len(train)"
   ]
  },
  {
   "cell_type": "markdown",
   "metadata": {},
   "source": [
    "### predict S2 georgeSt pedertrian in 2021 by using area S1 and S3 of 2021 as the factors"
   ]
  },
  {
   "cell_type": "code",
   "execution_count": 12,
   "metadata": {},
   "outputs": [],
   "source": [
    "constant = sm.add_constant(train)\n",
    "model = sm.OLS(list(train_S2[\"Pedestrian\"]),constant)\n",
    "result = model.fit()\n",
    "new_constant=sm.add_constant(test)\n",
    "pred = result.predict(new_constant)"
   ]
  },
  {
   "cell_type": "code",
   "execution_count": 13,
   "metadata": {},
   "outputs": [
    {
     "name": "stdout",
     "output_type": "stream",
     "text": [
      "October\n",
      "real     352050\n",
      "predicted 388114.14685549465\n",
      "November\n",
      "real     316960\n",
      "predicted 356217.040603497\n"
     ]
    },
    {
     "data": {
      "image/png": "[encoded data removed]",
      "text/plain": [
       "<Figure size 432x288 with 1 Axes>"
      ]
     },
     "metadata": {
      "needs_background": "light"
     },
     "output_type": "display_data"
    }
   ],
   "source": [
    "x = np.arange(len(test_S2))\n",
    "plt.scatter(x,test_S2[\"Pedestrian\"])\n",
    "plt.scatter(x,pred)\n",
    "print(\"October\")\n",
    "print(\"real    \",sum(test_S2.loc[pd.to_datetime(test_S2[\"UTC Datetime\"])<pd.to_datetime(\"2021-11-1\")][\"Pedestrian\"]))\n",
    "print(\"predicted\",sum(pred.values[:186]))\n",
    "print(\"November\")\n",
    "print(\"real    \",sum(test_S2.loc[pd.to_datetime(test_S2[\"UTC Datetime\"])>pd.to_datetime(\"2021-11-1\")][\"Pedestrian\"]))\n",
    "print(\"predicted\",sum(pred.values[186:]))"
   ]
  },
  {
   "cell_type": "markdown",
   "metadata": {},
   "source": [
    "what you see above, is a graph showing the real pedestrians(blue) and predicted pedestrians(orange) for test data(10/1 to 11/30) in 2021 when use S1 and S2 areas as factors"
   ]
  },
  {
   "cell_type": "code",
   "execution_count": 14,
   "metadata": {
    "scrolled": true
   },
   "outputs": [
    {
     "data": {
      "text/plain": [
       "<AxesSubplot:>"
      ]
     },
     "execution_count": 14,
     "metadata": {},
     "output_type": "execute_result"
    },
    {
     "data": {
      "image/png": "[encoded data removed]",
      "text/plain": [
       "<Figure size 432x288 with 2 Axes>"
      ]
     },
     "metadata": {
      "needs_background": "light"
     },
     "output_type": "display_data"
    }
   ],
   "source": [
    "Prediction = {\"real\":test_S2[\"Pedestrian\"],\n",
    "              \"pred\":pred.values\n",
    "             }\n",
    "Prediction = pd.DataFrame(Prediction)\n",
    "sns.heatmap(Prediction.corr(), annot = True)"
   ]
  },
  {
   "cell_type": "markdown",
   "metadata": {},
   "source": [
    "the correlation graph showing the grade of prediciton test data in 2021"
   ]
  },
  {
   "cell_type": "code",
   "execution_count": 15,
   "metadata": {},
   "outputs": [
    {
     "data": {
      "text/html": [
       "<table class=\"simpletable\">\n",
       "<caption>OLS Regression Results</caption>\n",
       "<tr>\n",
       "  <th>Dep. Variable:</th>            <td>y</td>        <th>  R-squared:         </th> <td>   0.506</td> \n",
       "</tr>\n",
       "<tr>\n",
       "  <th>Model:</th>                   <td>OLS</td>       <th>  Adj. R-squared:    </th> <td>   0.505</td> \n",
       "</tr>\n",
       "<tr>\n",
       "  <th>Method:</th>             <td>Least Squares</td>  <th>  F-statistic:       </th> <td>   419.8</td> \n",
       "</tr>\n",
       "<tr>\n",
       "  <th>Date:</th>             <td>Tue, 18 Jul 2023</td> <th>  Prob (F-statistic):</th> <td>3.17e-126</td>\n",
       "</tr>\n",
       "<tr>\n",
       "  <th>Time:</th>                 <td>14:14:53</td>     <th>  Log-Likelihood:    </th> <td> -6776.8</td> \n",
       "</tr>\n",
       "<tr>\n",
       "  <th>No. Observations:</th>      <td>   822</td>      <th>  AIC:               </th> <td>1.356e+04</td>\n",
       "</tr>\n",
       "<tr>\n",
       "  <th>Df Residuals:</th>          <td>   819</td>      <th>  BIC:               </th> <td>1.357e+04</td>\n",
       "</tr>\n",
       "<tr>\n",
       "  <th>Df Model:</th>              <td>     2</td>      <th>                     </th>     <td> </td>    \n",
       "</tr>\n",
       "<tr>\n",
       "  <th>Covariance Type:</th>      <td>nonrobust</td>    <th>                     </th>     <td> </td>    \n",
       "</tr>\n",
       "</table>\n",
       "<table class=\"simpletable\">\n",
       "<tr>\n",
       "    <td></td>       <th>coef</th>     <th>std err</th>      <th>t</th>      <th>P>|t|</th>  <th>[0.025</th>    <th>0.975]</th>  \n",
       "</tr>\n",
       "<tr>\n",
       "  <th>const</th> <td>   -7.8115</td> <td>   80.674</td> <td>   -0.097</td> <td> 0.923</td> <td> -166.164</td> <td>  150.541</td>\n",
       "</tr>\n",
       "<tr>\n",
       "  <th>S1</th>    <td>    0.7540</td> <td>    0.046</td> <td>   16.374</td> <td> 0.000</td> <td>    0.664</td> <td>    0.844</td>\n",
       "</tr>\n",
       "<tr>\n",
       "  <th>S3</th>    <td>    1.0499</td> <td>    0.046</td> <td>   22.623</td> <td> 0.000</td> <td>    0.959</td> <td>    1.141</td>\n",
       "</tr>\n",
       "</table>\n",
       "<table class=\"simpletable\">\n",
       "<tr>\n",
       "  <th>Omnibus:</th>       <td>40.367</td> <th>  Durbin-Watson:     </th> <td>   1.261</td>\n",
       "</tr>\n",
       "<tr>\n",
       "  <th>Prob(Omnibus):</th> <td> 0.000</td> <th>  Jarque-Bera (JB):  </th> <td>  18.924</td>\n",
       "</tr>\n",
       "<tr>\n",
       "  <th>Skew:</th>          <td>-0.152</td> <th>  Prob(JB):          </th> <td>7.77e-05</td>\n",
       "</tr>\n",
       "<tr>\n",
       "  <th>Kurtosis:</th>      <td> 2.322</td> <th>  Cond. No.          </th> <td>4.54e+03</td>\n",
       "</tr>\n",
       "</table><br/><br/>Notes:<br/>[1] Standard Errors assume that the covariance matrix of the errors is correctly specified.<br/>[2] The condition number is large, 4.54e+03. This might indicate that there are<br/>strong multicollinearity or other numerical problems."
      ],
      "text/latex": [
       "\\begin{center}\n",
       "\\begin{tabular}{lclc}\n",
       "\\toprule\n",
       "\\textbf{Dep. Variable:}    &        y         & \\textbf{  R-squared:         } &     0.506   \\\\\n",
       "\\textbf{Model:}            &       OLS        & \\textbf{  Adj. R-squared:    } &     0.505   \\\\\n",
       "\\textbf{Method:}           &  Least Squares   & \\textbf{  F-statistic:       } &     419.8   \\\\\n",
       "\\textbf{Date:}             & Tue, 18 Jul 2023 & \\textbf{  Prob (F-statistic):} & 3.17e-126   \\\\\n",
       "\\textbf{Time:}             &     14:14:53     & \\textbf{  Log-Likelihood:    } &   -6776.8   \\\\\n",
       "\\textbf{No. Observations:} &         822      & \\textbf{  AIC:               } & 1.356e+04   \\\\\n",
       "\\textbf{Df Residuals:}     &         819      & \\textbf{  BIC:               } & 1.357e+04   \\\\\n",
       "\\textbf{Df Model:}         &           2      & \\textbf{                     } &             \\\\\n",
       "\\textbf{Covariance Type:}  &    nonrobust     & \\textbf{                     } &             \\\\\n",
       "\\bottomrule\n",
       "\\end{tabular}\n",
       "\\begin{tabular}{lcccccc}\n",
       "               & \\textbf{coef} & \\textbf{std err} & \\textbf{t} & \\textbf{P$> |$t$|$} & \\textbf{[0.025} & \\textbf{0.975]}  \\\\\n",
       "\\midrule\n",
       "\\textbf{const} &      -7.8115  &       80.674     &    -0.097  &         0.923        &     -166.164    &      150.541     \\\\\n",
       "\\textbf{S1}    &       0.7540  &        0.046     &    16.374  &         0.000        &        0.664    &        0.844     \\\\\n",
       "\\textbf{S3}    &       1.0499  &        0.046     &    22.623  &         0.000        &        0.959    &        1.141     \\\\\n",
       "\\bottomrule\n",
       "\\end{tabular}\n",
       "\\begin{tabular}{lclc}\n",
       "\\textbf{Omnibus:}       & 40.367 & \\textbf{  Durbin-Watson:     } &    1.261  \\\\\n",
       "\\textbf{Prob(Omnibus):} &  0.000 & \\textbf{  Jarque-Bera (JB):  } &   18.924  \\\\\n",
       "\\textbf{Skew:}          & -0.152 & \\textbf{  Prob(JB):          } & 7.77e-05  \\\\\n",
       "\\textbf{Kurtosis:}      &  2.322 & \\textbf{  Cond. No.          } & 4.54e+03  \\\\\n",
       "\\bottomrule\n",
       "\\end{tabular}\n",
       "%\\caption{OLS Regression Results}\n",
       "\\end{center}\n",
       "\n",
       "Notes: \\newline\n",
       " [1] Standard Errors assume that the covariance matrix of the errors is correctly specified. \\newline\n",
       " [2] The condition number is large, 4.54e+03. This might indicate that there are \\newline\n",
       " strong multicollinearity or other numerical problems."
      ],
      "text/plain": [
       "<class 'statsmodels.iolib.summary.Summary'>\n",
       "\"\"\"\n",
       "                            OLS Regression Results                            \n",
       "==============================================================================\n",
       "Dep. Variable:                      y   R-squared:                       0.506\n",
       "Model:                            OLS   Adj. R-squared:                  0.505\n",
       "Method:                 Least Squares   F-statistic:                     419.8\n",
       "Date:                Tue, 18 Jul 2023   Prob (F-statistic):          3.17e-126\n",
       "Time:                        14:14:53   Log-Likelihood:                -6776.8\n",
       "No. Observations:                 822   AIC:                         1.356e+04\n",
       "Df Residuals:                     819   BIC:                         1.357e+04\n",
       "Df Model:                           2                                         \n",
       "Covariance Type:            nonrobust                                         \n",
       "==============================================================================\n",
       "                 coef    std err          t      P>|t|      [0.025      0.975]\n",
       "------------------------------------------------------------------------------\n",
       "const         -7.8115     80.674     -0.097      0.923    -166.164     150.541\n",
       "S1             0.7540      0.046     16.374      0.000       0.664       0.844\n",
       "S3             1.0499      0.046     22.623      0.000       0.959       1.141\n",
       "==============================================================================\n",
       "Omnibus:                       40.367   Durbin-Watson:                   1.261\n",
       "Prob(Omnibus):                  0.000   Jarque-Bera (JB):               18.924\n",
       "Skew:                          -0.152   Prob(JB):                     7.77e-05\n",
       "Kurtosis:                       2.322   Cond. No.                     4.54e+03\n",
       "==============================================================================\n",
       "\n",
       "Notes:\n",
       "[1] Standard Errors assume that the covariance matrix of the errors is correctly specified.\n",
       "[2] The condition number is large, 4.54e+03. This might indicate that there are\n",
       "strong multicollinearity or other numerical problems.\n",
       "\"\"\""
      ]
     },
     "execution_count": 15,
     "metadata": {},
     "output_type": "execute_result"
    }
   ],
   "source": [
    "result.summary()"
   ]
  },
  {
   "cell_type": "markdown",
   "metadata": {},
   "source": [
    "# Result\n",
    "* $Base$ $one$ $few$ $tests$, $seems$ $the$ $OLS$ $regressions$ $are$ $able$ $to$ $report$ $better$ $result$. $Especially$ $when$ $areas$ $S1$ $and$ $S2$ $are$ $considered$ $as$ $factors$ $to$ $predict$ $result$, $the$ $prediciton$ $is$ $the$ $best$"
   ]
  },
  {
   "cell_type": "markdown",
   "metadata": {},
   "source": [
    "### Since OLS predicitons for Nov. and Oct. months aren't too far for the real data, I will try to use this stragy to predict missing data and see how is the result"
   ]
  },
  {
   "cell_type": "code",
   "execution_count": 16,
   "metadata": {},
   "outputs": [],
   "source": [
    "a = cla(footfall_2021,\"S2\")\n",
    "data1 = a.area\n",
    "b = cla(footfall_2021,\"S3\")\n",
    "data2 = b.area\n",
    "c = cla(footfall_2021,\"S1\")\n",
    "data3 = c.area\n",
    "\n",
    "train_S2 = data1.loc[pd.to_datetime(data1[\"UTC Datetime\"])<pd.to_datetime(\"2021-12-1\")]\n",
    "train_S3 = data2.loc[pd.to_datetime(data2[\"UTC Datetime\"])<pd.to_datetime(\"2021-12-1\")]\n",
    "train_S1 = data3.loc[pd.to_datetime(data3[\"UTC Datetime\"])<pd.to_datetime(\"2021-12-1\")]\n",
    "train = {\"S1\":np.array(train_S1[\"Pedestrian\"]),\n",
    "           \"S3\":np.array(train_S3[\"Pedestrian\"])}\n",
    "train = pd.DataFrame(train)\n",
    "\n",
    "test_S2 = data1.loc[pd.to_datetime(data1[\"UTC Datetime\"])>=pd.to_datetime(\"2021-12-1\")]\n",
    "test_S1 = data2.loc[pd.to_datetime(data2[\"UTC Datetime\"])>=pd.to_datetime(\"2021-12-1\")]\n",
    "test_S3 = data3.loc[pd.to_datetime(data3[\"UTC Datetime\"])>=pd.to_datetime(\"2021-12-1\")]\n",
    "test = {\"S1\":np.array(test_S1[\"Pedestrian\"]),\n",
    "           \"S3\":np.array(test_S3[\"Pedestrian\"])}\n",
    "test = pd.DataFrame(test)"
   ]
  },
  {
   "cell_type": "code",
   "execution_count": 17,
   "metadata": {},
   "outputs": [],
   "source": [
    "constant = sm.add_constant(train)\n",
    "model = sm.OLS(list(train_S2[\"Pedestrian\"]),constant)\n",
    "result = model.fit()\n",
    "new_constant=sm.add_constant(test)\n",
    "pred = result.predict(new_constant)"
   ]
  },
  {
   "cell_type": "code",
   "execution_count": 18,
   "metadata": {},
   "outputs": [
    {
     "name": "stdout",
     "output_type": "stream",
     "text": [
      "December\n",
      "383757.2097097334\n"
     ]
    },
    {
     "data": {
      "text/html": [
       "<div>\n",
       "<style scoped>\n",
       "    .dataframe tbody tr th:only-of-type {\n",
       "        vertical-align: middle;\n",
       "    }\n",
       "\n",
       "    .dataframe tbody tr th {\n",
       "        vertical-align: top;\n",
       "    }\n",
       "\n",
       "    .dataframe thead th {\n",
       "        text-align: right;\n",
       "    }\n",
       "</style>\n",
       "<table border=\"1\" class=\"dataframe\">\n",
       "  <thead>\n",
       "    <tr style=\"text-align: right;\">\n",
       "      <th></th>\n",
       "      <th>0</th>\n",
       "    </tr>\n",
       "  </thead>\n",
       "  <tbody>\n",
       "    <tr>\n",
       "      <th>0</th>\n",
       "      <td>277.857863</td>\n",
       "    </tr>\n",
       "    <tr>\n",
       "      <th>1</th>\n",
       "      <td>125.938060</td>\n",
       "    </tr>\n",
       "    <tr>\n",
       "      <th>2</th>\n",
       "      <td>2828.241864</td>\n",
       "    </tr>\n",
       "    <tr>\n",
       "      <th>3</th>\n",
       "      <td>2609.888104</td>\n",
       "    </tr>\n",
       "    <tr>\n",
       "      <th>4</th>\n",
       "      <td>3082.959116</td>\n",
       "    </tr>\n",
       "  </tbody>\n",
       "</table>\n",
       "</div>"
      ],
      "text/plain": [
       "             0\n",
       "0   277.857863\n",
       "1   125.938060\n",
       "2  2828.241864\n",
       "3  2609.888104\n",
       "4  3082.959116"
      ]
     },
     "execution_count": 18,
     "metadata": {},
     "output_type": "execute_result"
    }
   ],
   "source": [
    "pred0 = pd.DataFrame(pred)\n",
    "print(\"December\")\n",
    "print(sum(pred.values))\n",
    "pred0.head()"
   ]
  },
  {
   "cell_type": "markdown",
   "metadata": {},
   "source": [
    "The table you see above is a prediction of Dec. 2021 for S2 by OLS regression and use S3 and S2 as factors"
   ]
  },
  {
   "cell_type": "code",
   "execution_count": 19,
   "metadata": {},
   "outputs": [],
   "source": [
    "a = cla(footfall_2022,\"S2\")\n",
    "data1 = a.area\n",
    "data1 = pd.DataFrame.drop_duplicates(data1)\n",
    "b = cla(footfall_2022,\"S3\")\n",
    "data2 = b.area\n",
    "data2 = pd.DataFrame.drop_duplicates(data2)\n",
    "c = cla(footfall_2022,\"S1\")\n",
    "data3 = c.area\n",
    "data3 = pd.DataFrame.drop_duplicates(data3)\n",
    "\n",
    "train_S2 = data1.loc[pd.to_datetime(data1[\"UTC Datetime\"])>=pd.to_datetime(\"2022-5-4\")]\n",
    "train_S3 = data2.loc[pd.to_datetime(data2[\"UTC Datetime\"])>=pd.to_datetime(\"2022-5-4\")]\n",
    "train_S1 = data3.loc[pd.to_datetime(data3[\"UTC Datetime\"])>=pd.to_datetime(\"2022-5-4\")]\n",
    "train = {\"S1\":np.array(train_S1[\"Pedestrian\"]),\n",
    "           \"S3\":np.array(train_S3[\"Pedestrian\"])}\n",
    "train = pd.DataFrame(train)\n",
    "\n",
    "test_S2 = data1.loc[pd.to_datetime(data1[\"UTC Datetime\"])<pd.to_datetime(\"2022-5-4\")]\n",
    "test_S1 = data2.loc[pd.to_datetime(data2[\"UTC Datetime\"])<pd.to_datetime(\"2022-5-4\")]\n",
    "test_S3 = data3.loc[pd.to_datetime(data3[\"UTC Datetime\"])<pd.to_datetime(\"2022-5-4\")]\n",
    "test = {\"S1\":np.array(test_S1[\"Pedestrian\"]),\n",
    "           \"S3\":np.array(test_S3[\"Pedestrian\"])}\n",
    "test = pd.DataFrame(test)"
   ]
  },
  {
   "cell_type": "code",
   "execution_count": 20,
   "metadata": {},
   "outputs": [],
   "source": [
    "constant = sm.add_constant(train)\n",
    "model = sm.OLS(list(train_S2[\"Pedestrian\"]),constant)\n",
    "result = model.fit()\n",
    "new_constant=sm.add_constant(test)\n",
    "pred = result.predict(new_constant)"
   ]
  },
  {
   "cell_type": "code",
   "execution_count": 21,
   "metadata": {},
   "outputs": [
    {
     "name": "stdout",
     "output_type": "stream",
     "text": [
      "January\n",
      "295419.91391688003\n",
      "February\n",
      "262107.60050302793\n",
      "March\n",
      "309545.56458588\n",
      "April\n",
      "262107.60050302793\n"
     ]
    },
    {
     "data": {
      "text/html": [
       "<div>\n",
       "<style scoped>\n",
       "    .dataframe tbody tr th:only-of-type {\n",
       "        vertical-align: middle;\n",
       "    }\n",
       "\n",
       "    .dataframe tbody tr th {\n",
       "        vertical-align: top;\n",
       "    }\n",
       "\n",
       "    .dataframe thead th {\n",
       "        text-align: right;\n",
       "    }\n",
       "</style>\n",
       "<table border=\"1\" class=\"dataframe\">\n",
       "  <thead>\n",
       "    <tr style=\"text-align: right;\">\n",
       "      <th></th>\n",
       "      <th>date</th>\n",
       "      <th>Pedestrian</th>\n",
       "    </tr>\n",
       "  </thead>\n",
       "  <tbody>\n",
       "    <tr>\n",
       "      <th>6</th>\n",
       "      <td>2022-01-01</td>\n",
       "      <td>200.891582</td>\n",
       "    </tr>\n",
       "    <tr>\n",
       "      <th>7</th>\n",
       "      <td>2022-01-01</td>\n",
       "      <td>107.443976</td>\n",
       "    </tr>\n",
       "    <tr>\n",
       "      <th>8</th>\n",
       "      <td>2022-01-01</td>\n",
       "      <td>1538.478071</td>\n",
       "    </tr>\n",
       "    <tr>\n",
       "      <th>9</th>\n",
       "      <td>2022-01-01</td>\n",
       "      <td>1224.804679</td>\n",
       "    </tr>\n",
       "    <tr>\n",
       "      <th>10</th>\n",
       "      <td>2022-01-01</td>\n",
       "      <td>1649.251325</td>\n",
       "    </tr>\n",
       "  </tbody>\n",
       "</table>\n",
       "</div>"
      ],
      "text/plain": [
       "         date   Pedestrian\n",
       "6  2022-01-01   200.891582\n",
       "7  2022-01-01   107.443976\n",
       "8  2022-01-01  1538.478071\n",
       "9  2022-01-01  1224.804679\n",
       "10 2022-01-01  1649.251325"
      ]
     },
     "execution_count": 21,
     "metadata": {},
     "output_type": "execute_result"
    }
   ],
   "source": [
    "pred1 = {\"date\":test_S2[\"UTC Datetime\"],\n",
    "        \"Pedestrian\":pred.values}\n",
    "pred1 = pd.DataFrame(pred1)\n",
    "Ja = pred1.loc[pd.to_datetime(pred1[\"date\"])<pd.to_datetime(\"2022-2-1\")]\n",
    "Fe = pred1.loc[pd.to_datetime(pred1[\"date\"])>= pd.to_datetime(\"2022-2-1\")]\n",
    "Fe = Fe.loc[pd.to_datetime(Fe[\"date\"])< pd.to_datetime(\"2022-3-1\")]\n",
    "Ma = pred1.loc[pd.to_datetime(pred1[\"date\"])>= pd.to_datetime(\"2022-3-1\")]\n",
    "Ma = Ma.loc[pd.to_datetime(Ma[\"date\"])< pd.to_datetime(\"2022-4-1\")]\n",
    "Ap = pred1.loc[pd.to_datetime(pred1[\"date\"])>= pd.to_datetime(\"2022-4-1\")]\n",
    "Ap = Ap.loc[pd.to_datetime(Ap[\"date\"])< pd.to_datetime(\"2022-5-1\")]\n",
    "\n",
    "print(\"January\")\n",
    "print(sum(Ja[\"Pedestrian\"]))\n",
    "print(\"February\")\n",
    "print(sum(Fe[\"Pedestrian\"]))\n",
    "print(\"March\")\n",
    "print(sum(Ma[\"Pedestrian\"]))\n",
    "print(\"April\")\n",
    "print(sum(pred.values[31*6:(28+31)*6]))\n",
    "pred1.head()"
   ]
  },
  {
   "cell_type": "markdown",
   "metadata": {},
   "source": [
    "The table you see above is a prediction from January to April in 2022 for S2 made by OLS regression and use S3 and S2 as factors"
   ]
  },
  {
   "cell_type": "code",
   "execution_count": 22,
   "metadata": {},
   "outputs": [
    {
     "data": {
      "text/plain": [
       "[<matplotlib.lines.Line2D at 0x7feb4376f6d0>]"
      ]
     },
     "execution_count": 22,
     "metadata": {},
     "output_type": "execute_result"
    },
    {
     "data": {
      "image/png": "[encoded data removed]",
      "text/plain": [
       "<Figure size 432x288 with 1 Axes>"
      ]
     },
     "metadata": {
      "needs_background": "light"
     },
     "output_type": "display_data"
    }
   ],
   "source": [
    "plt.plot(np.arange(len(pred)),pred.values,color=\"red\")\n",
    "plt.plot(np.arange(len(data1)),data1[\"Pedestrian\"],color=\"b\")"
   ]
  },
  {
   "cell_type": "markdown",
   "metadata": {},
   "source": [
    "red is predicted values and bule is real values"
   ]
  },
  {
   "cell_type": "code",
   "execution_count": 23,
   "metadata": {},
   "outputs": [],
   "source": [
    "test = train_S2.loc[train_S2[\"Pedestrian\"]==0]\n",
    "test_SS1 = train_S1[pd.to_datetime(train_S1[\"UTC Datetime\"])>pd.to_datetime(\"2022-6-17\")]\n",
    "test_SS3 = train_S3[pd.to_datetime(train_S3[\"UTC Datetime\"])>pd.to_datetime(\"2022-6-17\")]\n",
    "test_SS1 = test_SS1[pd.to_datetime(test_SS1[\"UTC Datetime\"])<=pd.to_datetime(\"2022-7-12\")]\n",
    "test_SS3 = test_SS3[pd.to_datetime(test_SS3[\"UTC Datetime\"])<=pd.to_datetime(\"2022-7-12\")]\n",
    "tests = {\"S1\":np.array(test_SS1[\"Pedestrian\"]),\n",
    "           \"S3\":np.array(test_SS3[\"Pedestrian\"])}\n",
    "tests = pd.DataFrame(tests)\n",
    "new_constant=sm.add_constant(tests)\n",
    "pred = result.predict(new_constant)"
   ]
  },
  {
   "cell_type": "code",
   "execution_count": 24,
   "metadata": {},
   "outputs": [
    {
     "name": "stdout",
     "output_type": "stream",
     "text": [
      "6-17 to 7-12\n",
      "248603.99563735654\n"
     ]
    },
    {
     "data": {
      "text/html": [
       "<div>\n",
       "<style scoped>\n",
       "    .dataframe tbody tr th:only-of-type {\n",
       "        vertical-align: middle;\n",
       "    }\n",
       "\n",
       "    .dataframe tbody tr th {\n",
       "        vertical-align: top;\n",
       "    }\n",
       "\n",
       "    .dataframe thead th {\n",
       "        text-align: right;\n",
       "    }\n",
       "</style>\n",
       "<table border=\"1\" class=\"dataframe\">\n",
       "  <thead>\n",
       "    <tr style=\"text-align: right;\">\n",
       "      <th></th>\n",
       "      <th>date</th>\n",
       "      <th>Pedestrian</th>\n",
       "    </tr>\n",
       "  </thead>\n",
       "  <tbody>\n",
       "    <tr>\n",
       "      <th>3030</th>\n",
       "      <td>2022-06-18</td>\n",
       "      <td>317.848569</td>\n",
       "    </tr>\n",
       "    <tr>\n",
       "      <th>3031</th>\n",
       "      <td>2022-06-18</td>\n",
       "      <td>161.907920</td>\n",
       "    </tr>\n",
       "    <tr>\n",
       "      <th>3032</th>\n",
       "      <td>2022-06-18</td>\n",
       "      <td>3421.345528</td>\n",
       "    </tr>\n",
       "    <tr>\n",
       "      <th>3033</th>\n",
       "      <td>2022-06-18</td>\n",
       "      <td>2666.521723</td>\n",
       "    </tr>\n",
       "    <tr>\n",
       "      <th>3034</th>\n",
       "      <td>2022-06-18</td>\n",
       "      <td>2826.950310</td>\n",
       "    </tr>\n",
       "  </tbody>\n",
       "</table>\n",
       "</div>"
      ],
      "text/plain": [
       "           date   Pedestrian\n",
       "3030 2022-06-18   317.848569\n",
       "3031 2022-06-18   161.907920\n",
       "3032 2022-06-18  3421.345528\n",
       "3033 2022-06-18  2666.521723\n",
       "3034 2022-06-18  2826.950310"
      ]
     },
     "execution_count": 24,
     "metadata": {},
     "output_type": "execute_result"
    }
   ],
   "source": [
    "print(\"6-17 to 7-12\")\n",
    "print(sum(pred.values))\n",
    "pred2 = {\"date\":test[\"UTC Datetime\"][3:],\n",
    "        \"Pedestrian\":pred.values}\n",
    "pred2 = pd.DataFrame(pred2)\n",
    "pred2.head()"
   ]
  },
  {
   "cell_type": "markdown",
   "metadata": {},
   "source": [
    "The table above shows the missing data from 6-18 to 7-12 in 2022 S2, so it is the blank at the graph"
   ]
  },
  {
   "cell_type": "code",
   "execution_count": 25,
   "metadata": {},
   "outputs": [
    {
     "ename": "NameError",
     "evalue": "name 'interp1d' is not defined",
     "output_type": "error",
     "traceback": [
      "\u001b[0;31m---------------------------------------------------------------------------\u001b[0m",
      "\u001b[0;31mNameError\u001b[0m                                 Traceback (most recent call last)",
      "\u001b[0;32m/var/folders/w_/ft1536ls3k3gvb2sks5dbg8h0000gn/T/ipykernel_90487/605149507.py\u001b[0m in \u001b[0;36m<module>\u001b[0;34m\u001b[0m\n\u001b[1;32m      8\u001b[0m \u001b[0mx\u001b[0m \u001b[0;34m=\u001b[0m \u001b[0mnp\u001b[0m\u001b[0;34m.\u001b[0m\u001b[0marray\u001b[0m\u001b[0;34m(\u001b[0m\u001b[0mtrain_vectors\u001b[0m\u001b[0;34m.\u001b[0m\u001b[0mindex\u001b[0m\u001b[0;34m)\u001b[0m\u001b[0;34m\u001b[0m\u001b[0;34m\u001b[0m\u001b[0m\n\u001b[1;32m      9\u001b[0m \u001b[0my\u001b[0m \u001b[0;34m=\u001b[0m \u001b[0mnp\u001b[0m\u001b[0;34m.\u001b[0m\u001b[0marray\u001b[0m\u001b[0;34m(\u001b[0m\u001b[0mtrain_vectors\u001b[0m\u001b[0;34m[\u001b[0m\u001b[0;34m\"Pedestrian\"\u001b[0m\u001b[0;34m]\u001b[0m\u001b[0;34m)\u001b[0m\u001b[0;34m\u001b[0m\u001b[0;34m\u001b[0m\u001b[0m\n\u001b[0;32m---> 10\u001b[0;31m \u001b[0mf\u001b[0m \u001b[0;34m=\u001b[0m \u001b[0minterp1d\u001b[0m\u001b[0;34m(\u001b[0m\u001b[0mx\u001b[0m\u001b[0;34m,\u001b[0m\u001b[0my\u001b[0m\u001b[0;34m,\u001b[0m\u001b[0mkind\u001b[0m\u001b[0;34m=\u001b[0m\u001b[0;34m\"cubic\"\u001b[0m\u001b[0;34m)\u001b[0m\u001b[0;34m\u001b[0m\u001b[0;34m\u001b[0m\u001b[0m\n\u001b[0m\u001b[1;32m     11\u001b[0m \u001b[0mbb\u001b[0m \u001b[0;34m=\u001b[0m \u001b[0mpd\u001b[0m\u001b[0;34m.\u001b[0m\u001b[0mDataFrame\u001b[0m\u001b[0;34m(\u001b[0m\u001b[0mfootfall\u001b[0m\u001b[0;34m.\u001b[0m\u001b[0miloc\u001b[0m\u001b[0;34m[\u001b[0m\u001b[0;36m1\u001b[0m\u001b[0;34m]\u001b[0m\u001b[0;34m)\u001b[0m\u001b[0;34m\u001b[0m\u001b[0;34m\u001b[0m\u001b[0m\n\u001b[1;32m     12\u001b[0m \u001b[0maa\u001b[0m \u001b[0;34m=\u001b[0m \u001b[0mpd\u001b[0m\u001b[0;34m.\u001b[0m\u001b[0mconcat\u001b[0m\u001b[0;34m(\u001b[0m\u001b[0;34m[\u001b[0m\u001b[0mbb\u001b[0m\u001b[0;34m,\u001b[0m\u001b[0ma\u001b[0m\u001b[0;34m]\u001b[0m\u001b[0;34m)\u001b[0m\u001b[0;34m\u001b[0m\u001b[0;34m\u001b[0m\u001b[0m\n",
      "\u001b[0;31mNameError\u001b[0m: name 'interp1d' is not defined"
     ]
    }
   ],
   "source": [
    "miss_value = footfall.loc[footfall[\"Pedestrian\"]==0]\n",
    "new_footfall =  footfall.loc[footfall[\"Pedestrian\"]!=0]\n",
    "from sklearn.model_selection import train_test_split\n",
    "train_vectors,test_vectors=train_test_split(new_footfall,test_size=0.25,train_size=0.75)\n",
    "a = footfall[:-1]\n",
    "a = a[1:]\n",
    "a.loc[max(footfall.index),:]=footfall.iloc[max(footfall.index)]\n",
    "x = np.array(train_vectors.index)\n",
    "y = np.array(train_vectors[\"Pedestrian\"])\n",
    "f = interp1d(x,y,kind=\"cubic\")\n",
    "bb = pd.DataFrame(footfall.iloc[1])\n",
    "aa = pd.concat([bb,a])\n",
    "\n",
    "df = footfall\n",
    "df_new = df[1:]\n",
    "df_new = df_new[:-1]\n",
    "train,test=train_test_split(df_new,test_size=0.25,train_size=0.75)\n",
    "bb = df.loc[df.index==0]\n",
    "train = pd.concat([bb,train])\n",
    "train.loc[max(df.index),:]=df.iloc[max(df.index)]\n",
    "x = list(train.index)\n",
    "y = list(train[\"Pedestrian\"])\n",
    "f = interp1d(x,y,kind=\"cubic\")\n",
    "new_value = []\n",
    "for i in test.index:\n",
    "    new_value.append(f(i))\n",
    "select_data1 = {\"P\":new_value,\"index\":np.arange(len(test.index)),\"color\":\"interp1d\"}\n",
    "select_data1 = pd.DataFrame(select_data1)\n",
    "select_data2 = {\"P\":list(test[\"Pedestrian\"]),\"index\":np.arange(len(test.index)),\"color\":\"Real\"}\n",
    "select_data2 = pd.DataFrame(select_data2)\n",
    "select_data = {\"interp1d\":new_value,\"real\":np.array(test[\"Pedestrian\"])}\n",
    "select_data = pd.DataFrame(select_data)\n",
    "data1 = [select_data2,select_data1]\n",
    "result = pd.concat(data1)\n",
    "plt.scatter(result[\"index\"],result[\"P\"])\n",
    "new_value"
   ]
  },
  {
   "cell_type": "code",
   "execution_count": null,
   "metadata": {},
   "outputs": [],
   "source": [
    "from scipy.interpolate import interp1d\n",
    "x = np.array(new_footfall.index)\n",
    "y = np.array(new_footfall[\"Pedestrian\"])\n",
    "f = interp1d(x,y,kind=\"cubic\")\n",
    "\n",
    "predict_data = []\n",
    "for i in miss_value.index:\n",
    "    predict_data.append(f(i))\n",
    "\n",
    "miss_value[\"Pedestrian\"]=predict_data\n",
    "miss_value.head()\n",
    "\n"
   ]
  },
  {
   "cell_type": "markdown",
   "metadata": {},
   "source": [
    "### What you see above is the prediciton of missing data by  1D interpolation. Because you could easily predict all missing data by interpolation at once, so what you see below is a general graph of all predicted missing data."
   ]
  },
  {
   "cell_type": "code",
   "execution_count": null,
   "metadata": {
    "scrolled": true
   },
   "outputs": [],
   "source": [
    "plt.scatter(pd.to_datetime(miss_value[\"UTC Datetime\"]),predict_data)"
   ]
  },
  {
   "cell_type": "code",
   "execution_count": null,
   "metadata": {},
   "outputs": [],
   "source": [
    "from statsmodels.tsa.arima.model import ARIMA"
   ]
  },
  {
   "cell_type": "code",
   "execution_count": null,
   "metadata": {},
   "outputs": [],
   "source": [
    "a = cla(footfall_2021,\"S2\")\n",
    "data1 = a.area\n",
    "\n",
    "ff = data1.loc[pd.to_datetime(data1[\"UTC Datetime\"])<pd.to_datetime(\"2021-12-1\")]\n",
    "model=sm.tsa.statespace.SARIMAX(ff['Pedestrian'],order=(1, 1, 1),seasonal_order=(1,1,1,12))\n",
    "results=model.fit()\n",
    "predd = results.predict(start=len(ff)+1,end=len(data1),dynamic=True)\n",
    "predd"
   ]
  },
  {
   "cell_type": "markdown",
   "metadata": {},
   "source": [
    "### What you see above is the prediction from ARIMA for 2022 Dec, and below is a graph combined the real data(blue) from May to Nov. and predicted data(Orange) of Dec. As you see from the predicted data, there are some numbers are negative, so the accuracy of prediction may not very good."
   ]
  },
  {
   "cell_type": "code",
   "execution_count": null,
   "metadata": {},
   "outputs": [],
   "source": [
    "aa = np.array(data1.loc[pd.to_datetime(data1[\"UTC Datetime\"])>=pd.to_datetime(\"2021-12-1\")][\"UTC Datetime\"])\n",
    "plt.scatter(pd.to_datetime(ff[\"UTC Datetime\"]),ff[\"Pedestrian\"])\n",
    "plt.scatter(aa,predd)"
   ]
  },
  {
   "cell_type": "code",
   "execution_count": null,
   "metadata": {},
   "outputs": [],
   "source": []
  }
 ],
 "metadata": {
  "kernelspec": {
   "display_name": "Python 3 (ipykernel)",
   "language": "python",
   "name": "python3"
  },
  "language_info": {
   "codemirror_mode": {
    "name": "ipython",
    "version": 3
   },
   "file_extension": ".py",
   "mimetype": "text/x-python",
   "name": "python",
   "nbconvert_exporter": "python",
   "pygments_lexer": "ipython3",
   "version": "3.9.7"
  }
 },
 "nbformat": 4,
 "nbformat_minor": 4
}
