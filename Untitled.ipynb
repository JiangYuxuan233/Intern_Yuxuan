{
 "cells": [
  {
   "cell_type": "code",
   "execution_count": 159,
   "id": "3f0fa0e6",
   "metadata": {},
   "outputs": [],
   "source": [
    "import pandas as pd\n",
    "import matplotlib.pyplot as plt\n",
    "import numpy as np\n",
    "import statsmodels.api as sm\n",
    "b = pd.read_csv(\"S2_new.csv\")\n",
    "a = pd.read_csv(\"S1_new.csv\")\n",
    "c = pd.read_csv(\"S3_new.csv\")"
   ]
  },
  {
   "cell_type": "code",
   "execution_count": 203,
   "id": "b916956d",
   "metadata": {},
   "outputs": [
    {
     "data": {
      "text/html": [
       "<div>\n",
       "<style scoped>\n",
       "    .dataframe tbody tr th:only-of-type {\n",
       "        vertical-align: middle;\n",
       "    }\n",
       "\n",
       "    .dataframe tbody tr th {\n",
       "        vertical-align: top;\n",
       "    }\n",
       "\n",
       "    .dataframe thead th {\n",
       "        text-align: right;\n",
       "    }\n",
       "</style>\n",
       "<table border=\"1\" class=\"dataframe\">\n",
       "  <thead>\n",
       "    <tr style=\"text-align: right;\">\n",
       "      <th></th>\n",
       "      <th>UTC Datetime</th>\n",
       "      <th>Local Datetime</th>\n",
       "      <th>countlineId</th>\n",
       "      <th>countlineName</th>\n",
       "      <th>Sensor Number</th>\n",
       "      <th>direction</th>\n",
       "      <th>Pedestrian</th>\n",
       "    </tr>\n",
       "  </thead>\n",
       "  <tbody>\n",
       "    <tr>\n",
       "      <th>3570</th>\n",
       "      <td>2021-12-01</td>\n",
       "      <td>2021-12-01 00:00:00</td>\n",
       "      <td>22995</td>\n",
       "      <td>S2_StGeorgesUpperSt_dlr001</td>\n",
       "      <td>S2</td>\n",
       "      <td>in</td>\n",
       "      <td>0</td>\n",
       "    </tr>\n",
       "    <tr>\n",
       "      <th>3571</th>\n",
       "      <td>2021-12-01</td>\n",
       "      <td>2021-12-01 00:00:00</td>\n",
       "      <td>22995</td>\n",
       "      <td>S2_StGeorgesUpperSt_dlr001</td>\n",
       "      <td>S2</td>\n",
       "      <td>out</td>\n",
       "      <td>0</td>\n",
       "    </tr>\n",
       "    <tr>\n",
       "      <th>3572</th>\n",
       "      <td>2021-12-01</td>\n",
       "      <td>2021-12-01 00:00:00</td>\n",
       "      <td>22994</td>\n",
       "      <td>S2_StGeorgesUpperSt_pathLHS_dlr001</td>\n",
       "      <td>S2</td>\n",
       "      <td>in</td>\n",
       "      <td>0</td>\n",
       "    </tr>\n",
       "    <tr>\n",
       "      <th>3573</th>\n",
       "      <td>2021-12-01</td>\n",
       "      <td>2021-12-01 00:00:00</td>\n",
       "      <td>22994</td>\n",
       "      <td>S2_StGeorgesUpperSt_pathLHS_dlr001</td>\n",
       "      <td>S2</td>\n",
       "      <td>out</td>\n",
       "      <td>0</td>\n",
       "    </tr>\n",
       "    <tr>\n",
       "      <th>3574</th>\n",
       "      <td>2021-12-01</td>\n",
       "      <td>2021-12-01 00:00:00</td>\n",
       "      <td>22996</td>\n",
       "      <td>S2_StGeorgesUpperSt_pathRHS_dlr001</td>\n",
       "      <td>S2</td>\n",
       "      <td>in</td>\n",
       "      <td>0</td>\n",
       "    </tr>\n",
       "    <tr>\n",
       "      <th>...</th>\n",
       "      <td>...</td>\n",
       "      <td>...</td>\n",
       "      <td>...</td>\n",
       "      <td>...</td>\n",
       "      <td>...</td>\n",
       "      <td>...</td>\n",
       "      <td>...</td>\n",
       "    </tr>\n",
       "    <tr>\n",
       "      <th>14155</th>\n",
       "      <td>2022-07-12</td>\n",
       "      <td>2022-07-12 01:00:00</td>\n",
       "      <td>22995</td>\n",
       "      <td>S2_StGeorgesUpperSt_dlr001</td>\n",
       "      <td>S2</td>\n",
       "      <td>out</td>\n",
       "      <td>0</td>\n",
       "    </tr>\n",
       "    <tr>\n",
       "      <th>14156</th>\n",
       "      <td>2022-07-12</td>\n",
       "      <td>2022-07-12 01:00:00</td>\n",
       "      <td>22994</td>\n",
       "      <td>S2_StGeorgesUpperSt_pathLHS_dlr001</td>\n",
       "      <td>S2</td>\n",
       "      <td>in</td>\n",
       "      <td>0</td>\n",
       "    </tr>\n",
       "    <tr>\n",
       "      <th>14157</th>\n",
       "      <td>2022-07-12</td>\n",
       "      <td>2022-07-12 01:00:00</td>\n",
       "      <td>22994</td>\n",
       "      <td>S2_StGeorgesUpperSt_pathLHS_dlr001</td>\n",
       "      <td>S2</td>\n",
       "      <td>out</td>\n",
       "      <td>0</td>\n",
       "    </tr>\n",
       "    <tr>\n",
       "      <th>14158</th>\n",
       "      <td>2022-07-12</td>\n",
       "      <td>2022-07-12 01:00:00</td>\n",
       "      <td>22996</td>\n",
       "      <td>S2_StGeorgesUpperSt_pathRHS_dlr001</td>\n",
       "      <td>S2</td>\n",
       "      <td>in</td>\n",
       "      <td>0</td>\n",
       "    </tr>\n",
       "    <tr>\n",
       "      <th>14159</th>\n",
       "      <td>2022-07-12</td>\n",
       "      <td>2022-07-12 01:00:00</td>\n",
       "      <td>22996</td>\n",
       "      <td>S2_StGeorgesUpperSt_pathRHS_dlr001</td>\n",
       "      <td>S2</td>\n",
       "      <td>out</td>\n",
       "      <td>0</td>\n",
       "    </tr>\n",
       "  </tbody>\n",
       "</table>\n",
       "<p>1783 rows × 7 columns</p>\n",
       "</div>"
      ],
      "text/plain": [
       "      UTC Datetime      Local Datetime  countlineId  \\\n",
       "3570    2021-12-01 2021-12-01 00:00:00        22995   \n",
       "3571    2021-12-01 2021-12-01 00:00:00        22995   \n",
       "3572    2021-12-01 2021-12-01 00:00:00        22994   \n",
       "3573    2021-12-01 2021-12-01 00:00:00        22994   \n",
       "3574    2021-12-01 2021-12-01 00:00:00        22996   \n",
       "...            ...                 ...          ...   \n",
       "14155   2022-07-12 2022-07-12 01:00:00        22995   \n",
       "14156   2022-07-12 2022-07-12 01:00:00        22994   \n",
       "14157   2022-07-12 2022-07-12 01:00:00        22994   \n",
       "14158   2022-07-12 2022-07-12 01:00:00        22996   \n",
       "14159   2022-07-12 2022-07-12 01:00:00        22996   \n",
       "\n",
       "                            countlineName Sensor Number direction  Pedestrian  \n",
       "3570           S2_StGeorgesUpperSt_dlr001            S2        in           0  \n",
       "3571           S2_StGeorgesUpperSt_dlr001            S2       out           0  \n",
       "3572   S2_StGeorgesUpperSt_pathLHS_dlr001            S2        in           0  \n",
       "3573   S2_StGeorgesUpperSt_pathLHS_dlr001            S2       out           0  \n",
       "3574   S2_StGeorgesUpperSt_pathRHS_dlr001            S2        in           0  \n",
       "...                                   ...           ...       ...         ...  \n",
       "14155          S2_StGeorgesUpperSt_dlr001            S2       out           0  \n",
       "14156  S2_StGeorgesUpperSt_pathLHS_dlr001            S2        in           0  \n",
       "14157  S2_StGeorgesUpperSt_pathLHS_dlr001            S2       out           0  \n",
       "14158  S2_StGeorgesUpperSt_pathRHS_dlr001            S2        in           0  \n",
       "14159  S2_StGeorgesUpperSt_pathRHS_dlr001            S2       out           0  \n",
       "\n",
       "[1783 rows x 7 columns]"
      ]
     },
     "execution_count": 203,
     "metadata": {},
     "output_type": "execute_result"
    }
   ],
   "source": [
    "df = pd.read_excel(\"Footfall_DLR_Daily.xlsx\")\n",
    "#df.replace(0,np.nan,inplace=True)\n",
    "box = df.keys()\n",
    "for i in box:\n",
    "\n",
    "    y =+ len(df[pd.isnull(df[i])])\n",
    "    \n",
    "#df[\"Pedestrian\"].replace(0,np.nan,inplace=True)\n",
    "df.loc[df[\"Pedestrian\"]==0]"
   ]
  },
  {
   "cell_type": "code",
   "execution_count": 162,
   "id": "f9428c32",
   "metadata": {},
   "outputs": [],
   "source": [
    "train = {\"S1\":a.loc[pd.to_datetime(a[\"UTC Datetime\"])<pd.to_datetime(\"2021-11-1\")][\"Pedestrian\"],\n",
    "         \"S3\":c.loc[pd.to_datetime(c[\"UTC Datetime\"])<pd.to_datetime(\"2021-11-1\")][\"Pedestrian\"]}\n",
    "train = pd.DataFrame(train)\n",
    "constant = sm.add_constant(train)\n",
    "model = sm.OLS(list(b.loc[pd.to_datetime(b[\"UTC Datetime\"])<pd.to_datetime(\"2021-11-1\")][\"Pedestrian\"]),constant)\n",
    "result = model.fit()\n",
    "test = {\"S1\":a.loc[pd.to_datetime(a[\"UTC Datetime\"])>=pd.to_datetime(\"2021-11-1\")][\"Pedestrian\"],\n",
    "         \"S3\":c.loc[pd.to_datetime(c[\"UTC Datetime\"])>=pd.to_datetime(\"2021-11-1\")][\"Pedestrian\"]}\n",
    "test = pd.DataFrame(test)\n",
    "new_constant=sm.add_constant(train)\n",
    "pred = result.predict(new_constant)\n"
   ]
  },
  {
   "cell_type": "code",
   "execution_count": 163,
   "id": "e64b2555",
   "metadata": {},
   "outputs": [
    {
     "data": {
      "text/plain": [
       "<matplotlib.collections.PathCollection at 0x7ff45541d220>"
      ]
     },
     "execution_count": 163,
     "metadata": {},
     "output_type": "execute_result"
    },
    {
     "data": {
      "image/png": "[encoded data removed]",
      "text/plain": [
       "<Figure size 432x288 with 1 Axes>"
      ]
     },
     "metadata": {
      "needs_background": "light"
     },
     "output_type": "display_data"
    }
   ],
   "source": [
    "#plt.scatter(np.arange(len(a)),pred)\n",
    "#plt.scatter(np.arange(len(b)),b[\"Pedestrian\"])\n",
    "plt.scatter(np.arange(len(pred)),pred)\n",
    "plt.scatter(np.arange(len(pred)),list(b.loc[pd.to_datetime(b[\"UTC Datetime\"])<pd.to_datetime(\"2021-11-1\")][\"Pedestrian\"]))"
   ]
  },
  {
   "cell_type": "code",
   "execution_count": 164,
   "id": "ed07d17f",
   "metadata": {},
   "outputs": [
    {
     "data": {
      "text/plain": [
       "<matplotlib.collections.PathCollection at 0x7ff453cfd400>"
      ]
     },
     "execution_count": 164,
     "metadata": {},
     "output_type": "execute_result"
    },
    {
     "data": {
      "image/png": "[encoded data removed]",
      "text/plain": [
       "<Figure size 432x288 with 1 Axes>"
      ]
     },
     "metadata": {
      "needs_background": "light"
     },
     "output_type": "display_data"
    }
   ],
   "source": [
    "train = {\"S1\":a.loc[b[\"Pedestrian\"]!=0][\"Pedestrian\"],\n",
    "         \"S3\":c.loc[b[\"Pedestrian\"]!=0][\"Pedestrian\"]}\n",
    "train = pd.DataFrame(train)\n",
    "train1 = {\"S1\":a[\"Pedestrian\"],\n",
    "         \"S3\":c[\"Pedestrian\"]}\n",
    "train1 = pd.DataFrame(train1)\n",
    "constant = sm.add_constant(train)\n",
    "model = sm.OLS(list(b.loc[b[\"Pedestrian\"]!=0][\"Pedestrian\"]),constant)\n",
    "result = model.fit()\n",
    "test = {\"S1\":a.loc[pd.to_datetime(a[\"UTC Datetime\"])>=pd.to_datetime(\"2021-11-1\")][\"Pedestrian\"],\n",
    "         \"S3\":c.loc[pd.to_datetime(c[\"UTC Datetime\"])>=pd.to_datetime(\"2021-11-1\")][\"Pedestrian\"]}\n",
    "test = pd.DataFrame(test)\n",
    "new_constant=sm.add_constant(train1)\n",
    "pred = result.predict(new_constant)\n",
    "plt.scatter(np.arange(len(pred)),b[\"Pedestrian\"])\n",
    "plt.scatter(np.arange(len(pred)),pred)"
   ]
  },
  {
   "cell_type": "code",
   "execution_count": null,
   "id": "b1e163df",
   "metadata": {},
   "outputs": [],
   "source": []
  },
  {
   "cell_type": "code",
   "execution_count": null,
   "id": "0376803d",
   "metadata": {},
   "outputs": [],
   "source": []
  },
  {
   "cell_type": "code",
   "execution_count": null,
   "id": "39cca30d",
   "metadata": {},
   "outputs": [],
   "source": []
  },
  {
   "cell_type": "code",
   "execution_count": null,
   "id": "c313d68a",
   "metadata": {},
   "outputs": [],
   "source": []
  },
  {
   "cell_type": "code",
   "execution_count": 98,
   "id": "b3bc05ac",
   "metadata": {},
   "outputs": [],
   "source": [
    "q = pd.read_csv(\"Footfall_sensor.csv\")"
   ]
  },
  {
   "cell_type": "code",
   "execution_count": 101,
   "id": "a323389d",
   "metadata": {},
   "outputs": [
    {
     "data": {
      "text/plain": [
       "<matplotlib.collections.PathCollection at 0x7ff4538a5580>"
      ]
     },
     "execution_count": 101,
     "metadata": {},
     "output_type": "execute_result"
    },
    {
     "data": {
      "image/png": "[encoded data removed]",
      "text/plain": [
       "<Figure size 432x288 with 1 Axes>"
      ]
     },
     "metadata": {
      "needs_background": "light"
     },
     "output_type": "display_data"
    }
   ],
   "source": [
    "train = {\"S1\":q[\"Sensor1\"],\n",
    "         \"S3\":q[\"Sensor3\"]}\n",
    "train = pd.DataFrame(train)\n",
    "constant = sm.add_constant(train)\n",
    "model = sm.OLS(list(q[\"Sensor2\"]),constant)\n",
    "result = model.fit()\n",
    "test = {\"S1\":a.loc[pd.to_datetime(a[\"UTC Datetime\"])>=pd.to_datetime(\"2021-11-1\")][\"Pedestrian\"],\n",
    "         \"S3\":c.loc[pd.to_datetime(c[\"UTC Datetime\"])>=pd.to_datetime(\"2021-11-1\")][\"Pedestrian\"]}\n",
    "test = pd.DataFrame(test)\n",
    "new_constant=sm.add_constant(train)\n",
    "pred = result.predict(new_constant)\n",
    "plt.scatter(np.arange(len(pred)),q[\"Sensor2\"])\n",
    "plt.scatter(np.arange(len(pred)),pred)"
   ]
  },
  {
   "cell_type": "code",
   "execution_count": 128,
   "id": "4bd0ee45",
   "metadata": {},
   "outputs": [
    {
     "data": {
      "text/plain": [
       "4284"
      ]
     },
     "execution_count": 128,
     "metadata": {},
     "output_type": "execute_result"
    }
   ],
   "source": [
    "cv = pd.read_csv(\"Sensor2-Copy1.csv\")\n",
    "cv = cv.drop(columns=[\"Unnamed: 0\"])\n",
    "cv  = pd.DataFrame.drop_duplicates(cv)\n",
    "aaa = {\"S1\":list(a[\"Pedestrian\"]),\n",
    "      \"S2\":list(cv[\"Pedestrian\"]),\n",
    "      \"S3\":list(c[\"Pedestrian\"])}\n",
    "aaa = pd.DataFrame(aaa)\n",
    "aaa.to_csv(\"Sensor_with_original.csv\")\n",
    "len(cv)"
   ]
  },
  {
   "cell_type": "code",
   "execution_count": 152,
   "id": "d91d0d33",
   "metadata": {},
   "outputs": [
    {
     "data": {
      "text/plain": [
       "0        435.379012\n",
       "1        162.696205\n",
       "2       2461.148297\n",
       "3       2233.547863\n",
       "4       2670.858327\n",
       "           ...     \n",
       "4279     135.341746\n",
       "4280    3062.432949\n",
       "4281    2790.179881\n",
       "4282    3051.301004\n",
       "4283    2400.634987\n",
       "Length: 4284, dtype: float64"
      ]
     },
     "execution_count": 152,
     "metadata": {},
     "output_type": "execute_result"
    }
   ],
   "source": [
    "def OLS(df,S1):\n",
    "    train=df.drop([S1],axis=1)\n",
    "    train1 = train.loc[df[S1]!=0]\n",
    "    test = df.loc[df[S1]!=0]\n",
    "    constant = sm.add_constant(train1)\n",
    "    model = sm.OLS(list(test[S1]),constant)\n",
    "    result = model.fit()\n",
    "    new_constant=sm.add_constant(train)\n",
    "    pred = result.predict(new_constant)\n",
    "    return pred\n",
    "w = OLS(aaa,\"S2\")"
   ]
  },
  {
   "cell_type": "code",
   "execution_count": 165,
   "id": "2670556e",
   "metadata": {},
   "outputs": [
    {
     "data": {
      "text/plain": [
       "<AxesSubplot:>"
      ]
     },
     "execution_count": 165,
     "metadata": {},
     "output_type": "execute_result"
    },
    {
     "data": {
      "image/png": "[encoded data removed]",
      "text/plain": [
       "<Figure size 432x288 with 2 Axes>"
      ]
     },
     "metadata": {
      "needs_background": "light"
     },
     "output_type": "display_data"
    }
   ],
   "source": [
    "#plt.scatter(np.arange(len(w)),w)\n",
    "import seaborn as sns\n",
    "plt.scatter(np.arange(len(w)),aaa[\"S2\"])\n",
    "plt.scatter(np.arange(len(w)),w)\n",
    "P={\"real\":aaa[\"S2\"],\n",
    "  \"OLS\":w}\n",
    "P= pd.DataFrame(P)\n",
    "sns.heatmap(P.corr(), annot = True)"
   ]
  },
  {
   "cell_type": "code",
   "execution_count": null,
   "id": "239727cd",
   "metadata": {},
   "outputs": [],
   "source": []
  },
  {
   "cell_type": "code",
   "execution_count": null,
   "id": "26e0982e",
   "metadata": {},
   "outputs": [],
   "source": []
  }
 ],
 "metadata": {
  "kernelspec": {
   "display_name": "Python 3 (ipykernel)",
   "language": "python",
   "name": "python3"
  },
  "language_info": {
   "codemirror_mode": {
    "name": "ipython",
    "version": 3
   },
   "file_extension": ".py",
   "mimetype": "text/x-python",
   "name": "python",
   "nbconvert_exporter": "python",
   "pygments_lexer": "ipython3",
   "version": "3.9.7"
  }
 },
 "nbformat": 4,
 "nbformat_minor": 5
}
