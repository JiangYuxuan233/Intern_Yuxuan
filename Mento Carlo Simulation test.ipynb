{
 "cells": [
  {
   "cell_type": "markdown",
   "id": "622ce01c",
   "metadata": {},
   "source": [
    "# If you just want to see the code of Mento Carlo Simulation and the result, please jump to Mento Carlo Simulation  part"
   ]
  },
  {
   "cell_type": "code",
   "execution_count": 1,
   "id": "29d5b161",
   "metadata": {},
   "outputs": [],
   "source": [
    "import pandas as pd\n",
    "import numpy as np\n",
    "import seaborn as sns\n",
    "import matplotlib.pyplot as plt\n",
    "S1 = pd.read_csv(\"Sensor1-Copy1.csv\")\n",
    "S2 = pd.read_csv(\"Sensor2-Copy1.csv\")\n",
    "S3 = pd.read_csv(\"Sensor3-Copy1.csv\")\n",
    "S1.replace(0, np.nan, inplace=True)\n",
    "S2.replace(0, np.nan, inplace=True)\n",
    "S3.replace(0, np.nan, inplace=True)"
   ]
  },
  {
   "cell_type": "code",
   "execution_count": 2,
   "id": "20f1fcfe",
   "metadata": {},
   "outputs": [],
   "source": [
    "S1 = S1.drop(columns=[\"Unnamed: 0\"])\n",
    "S2 = S2.drop(columns=[\"Unnamed: 0\"])\n",
    "S3 = S3.drop(columns=[\"Unnamed: 0\"])"
   ]
  },
  {
   "cell_type": "code",
   "execution_count": 3,
   "id": "38a60033",
   "metadata": {},
   "outputs": [
    {
     "name": "stdout",
     "output_type": "stream",
     "text": [
      "number of duplicate rows in sensor 1 2190\n",
      "number of duplicate rows in sensor 2 2190\n",
      "number of duplicate rows in sensor 3 2190\n"
     ]
    }
   ],
   "source": [
    "print(\"number of duplicate rows in sensor 1\",S1.duplicated().sum())\n",
    "print(\"number of duplicate rows in sensor 2\",S2.duplicated().sum())\n",
    "print(\"number of duplicate rows in sensor 3\",S3.duplicated().sum())\n",
    "S1 = pd.DataFrame.drop_duplicates(S1).reset_index()\n",
    "S2 = pd.DataFrame.drop_duplicates(S2).reset_index()\n",
    "S3 = pd.DataFrame.drop_duplicates(S3).reset_index()"
   ]
  },
  {
   "cell_type": "code",
   "execution_count": 4,
   "id": "0bc7dc4f",
   "metadata": {},
   "outputs": [],
   "source": [
    "S2 = S2.dropna().reset_index()"
   ]
  },
  {
   "cell_type": "code",
   "execution_count": 5,
   "id": "85d30b89",
   "metadata": {},
   "outputs": [
    {
     "data": {
      "text/html": [
       "<div>\n",
       "<style scoped>\n",
       "    .dataframe tbody tr th:only-of-type {\n",
       "        vertical-align: middle;\n",
       "    }\n",
       "\n",
       "    .dataframe tbody tr th {\n",
       "        vertical-align: top;\n",
       "    }\n",
       "\n",
       "    .dataframe thead th {\n",
       "        text-align: right;\n",
       "    }\n",
       "</style>\n",
       "<table border=\"1\" class=\"dataframe\">\n",
       "  <thead>\n",
       "    <tr style=\"text-align: right;\">\n",
       "      <th></th>\n",
       "      <th>year</th>\n",
       "      <th>month</th>\n",
       "      <th>level_0</th>\n",
       "      <th>index</th>\n",
       "      <th>countlineId</th>\n",
       "      <th>Pedestrian</th>\n",
       "    </tr>\n",
       "  </thead>\n",
       "  <tbody>\n",
       "    <tr>\n",
       "      <th>0</th>\n",
       "      <td>2021</td>\n",
       "      <td>5</td>\n",
       "      <td>44.5</td>\n",
       "      <td>44.5</td>\n",
       "      <td>22995.0</td>\n",
       "      <td>1914.133333</td>\n",
       "    </tr>\n",
       "    <tr>\n",
       "      <th>1</th>\n",
       "      <td>2021</td>\n",
       "      <td>6</td>\n",
       "      <td>179.5</td>\n",
       "      <td>179.5</td>\n",
       "      <td>22995.0</td>\n",
       "      <td>2030.344444</td>\n",
       "    </tr>\n",
       "    <tr>\n",
       "      <th>2</th>\n",
       "      <td>2021</td>\n",
       "      <td>7</td>\n",
       "      <td>362.5</td>\n",
       "      <td>362.5</td>\n",
       "      <td>22995.0</td>\n",
       "      <td>1942.768817</td>\n",
       "    </tr>\n",
       "    <tr>\n",
       "      <th>3</th>\n",
       "      <td>2021</td>\n",
       "      <td>8</td>\n",
       "      <td>548.5</td>\n",
       "      <td>548.5</td>\n",
       "      <td>22995.0</td>\n",
       "      <td>1975.774194</td>\n",
       "    </tr>\n",
       "    <tr>\n",
       "      <th>4</th>\n",
       "      <td>2021</td>\n",
       "      <td>9</td>\n",
       "      <td>731.5</td>\n",
       "      <td>731.5</td>\n",
       "      <td>22995.0</td>\n",
       "      <td>1978.900000</td>\n",
       "    </tr>\n",
       "  </tbody>\n",
       "</table>\n",
       "</div>"
      ],
      "text/plain": [
       "   year  month  level_0  index  countlineId   Pedestrian\n",
       "0  2021      5     44.5   44.5      22995.0  1914.133333\n",
       "1  2021      6    179.5  179.5      22995.0  2030.344444\n",
       "2  2021      7    362.5  362.5      22995.0  1942.768817\n",
       "3  2021      8    548.5  548.5      22995.0  1975.774194\n",
       "4  2021      9    731.5  731.5      22995.0  1978.900000"
      ]
     },
     "execution_count": 5,
     "metadata": {},
     "output_type": "execute_result"
    }
   ],
   "source": [
    "S2_avg = S2.copy()\n",
    "S2_avg[\"month\"]=pd.to_datetime(S2_avg[\"UTC Datetime\"]).dt.month\n",
    "S2_avg[\"year\"]=pd.to_datetime(S2_avg[\"UTC Datetime\"]).dt.year\n",
    "S2_month = S2_avg.groupby(['year','month'],as_index=False).mean()\n",
    "S2_month.head()"
   ]
  },
  {
   "cell_type": "code",
   "execution_count": 6,
   "id": "86f3cdf0",
   "metadata": {},
   "outputs": [
    {
     "data": {
      "text/html": [
       "<div>\n",
       "<style scoped>\n",
       "    .dataframe tbody tr th:only-of-type {\n",
       "        vertical-align: middle;\n",
       "    }\n",
       "\n",
       "    .dataframe tbody tr th {\n",
       "        vertical-align: top;\n",
       "    }\n",
       "\n",
       "    .dataframe thead th {\n",
       "        text-align: right;\n",
       "    }\n",
       "</style>\n",
       "<table border=\"1\" class=\"dataframe\">\n",
       "  <thead>\n",
       "    <tr style=\"text-align: right;\">\n",
       "      <th></th>\n",
       "      <th>year</th>\n",
       "      <th>month</th>\n",
       "      <th>day</th>\n",
       "      <th>level_0</th>\n",
       "      <th>index</th>\n",
       "      <th>countlineId</th>\n",
       "      <th>Pedestrian</th>\n",
       "    </tr>\n",
       "  </thead>\n",
       "  <tbody>\n",
       "    <tr>\n",
       "      <th>0</th>\n",
       "      <td>2021</td>\n",
       "      <td>5</td>\n",
       "      <td>17</td>\n",
       "      <td>2.5</td>\n",
       "      <td>2.5</td>\n",
       "      <td>22995.0</td>\n",
       "      <td>1867.666667</td>\n",
       "    </tr>\n",
       "    <tr>\n",
       "      <th>1</th>\n",
       "      <td>2021</td>\n",
       "      <td>5</td>\n",
       "      <td>18</td>\n",
       "      <td>8.5</td>\n",
       "      <td>8.5</td>\n",
       "      <td>22995.0</td>\n",
       "      <td>1925.166667</td>\n",
       "    </tr>\n",
       "    <tr>\n",
       "      <th>2</th>\n",
       "      <td>2021</td>\n",
       "      <td>5</td>\n",
       "      <td>19</td>\n",
       "      <td>14.5</td>\n",
       "      <td>14.5</td>\n",
       "      <td>22995.0</td>\n",
       "      <td>2071.833333</td>\n",
       "    </tr>\n",
       "    <tr>\n",
       "      <th>3</th>\n",
       "      <td>2021</td>\n",
       "      <td>5</td>\n",
       "      <td>20</td>\n",
       "      <td>20.5</td>\n",
       "      <td>20.5</td>\n",
       "      <td>22995.0</td>\n",
       "      <td>1119.833333</td>\n",
       "    </tr>\n",
       "    <tr>\n",
       "      <th>4</th>\n",
       "      <td>2021</td>\n",
       "      <td>5</td>\n",
       "      <td>21</td>\n",
       "      <td>26.5</td>\n",
       "      <td>26.5</td>\n",
       "      <td>22995.0</td>\n",
       "      <td>1712.666667</td>\n",
       "    </tr>\n",
       "  </tbody>\n",
       "</table>\n",
       "</div>"
      ],
      "text/plain": [
       "   year  month  day  level_0  index  countlineId   Pedestrian\n",
       "0  2021      5   17      2.5    2.5      22995.0  1867.666667\n",
       "1  2021      5   18      8.5    8.5      22995.0  1925.166667\n",
       "2  2021      5   19     14.5   14.5      22995.0  2071.833333\n",
       "3  2021      5   20     20.5   20.5      22995.0  1119.833333\n",
       "4  2021      5   21     26.5   26.5      22995.0  1712.666667"
      ]
     },
     "execution_count": 6,
     "metadata": {},
     "output_type": "execute_result"
    }
   ],
   "source": [
    "S2_avg = S2.copy()\n",
    "S2_avg[\"month\"]=pd.to_datetime(S2_avg[\"UTC Datetime\"]).dt.month\n",
    "S2_avg[\"year\"]=pd.to_datetime(S2_avg[\"UTC Datetime\"]).dt.year\n",
    "S2_avg[\"day\"]=pd.to_datetime(S2_avg[\"UTC Datetime\"]).dt.day\n",
    "S2_day = S2_avg.groupby(['year','month','day'],as_index=False).mean()\n",
    "S2_day.head()"
   ]
  },
  {
   "cell_type": "code",
   "execution_count": 7,
   "id": "304c46d1",
   "metadata": {},
   "outputs": [
    {
     "name": "stderr",
     "output_type": "stream",
     "text": [
      "/var/folders/w_/ft1536ls3k3gvb2sks5dbg8h0000gn/T/ipykernel_19533/922864987.py:4: FutureWarning: Series.dt.weekofyear and Series.dt.week have been deprecated.  Please use Series.dt.isocalendar().week instead.\n",
      "  S2_avg[\"week\"]=pd.to_datetime(S2_avg[\"UTC Datetime\"]).dt.week\n"
     ]
    },
    {
     "data": {
      "text/html": [
       "<div>\n",
       "<style scoped>\n",
       "    .dataframe tbody tr th:only-of-type {\n",
       "        vertical-align: middle;\n",
       "    }\n",
       "\n",
       "    .dataframe tbody tr th {\n",
       "        vertical-align: top;\n",
       "    }\n",
       "\n",
       "    .dataframe thead th {\n",
       "        text-align: right;\n",
       "    }\n",
       "</style>\n",
       "<table border=\"1\" class=\"dataframe\">\n",
       "  <thead>\n",
       "    <tr style=\"text-align: right;\">\n",
       "      <th></th>\n",
       "      <th>year</th>\n",
       "      <th>month</th>\n",
       "      <th>week</th>\n",
       "      <th>level_0</th>\n",
       "      <th>index</th>\n",
       "      <th>countlineId</th>\n",
       "      <th>Pedestrian</th>\n",
       "    </tr>\n",
       "  </thead>\n",
       "  <tbody>\n",
       "    <tr>\n",
       "      <th>0</th>\n",
       "      <td>2021</td>\n",
       "      <td>5</td>\n",
       "      <td>20</td>\n",
       "      <td>20.5</td>\n",
       "      <td>20.5</td>\n",
       "      <td>22995.0</td>\n",
       "      <td>1813.833333</td>\n",
       "    </tr>\n",
       "    <tr>\n",
       "      <th>1</th>\n",
       "      <td>2021</td>\n",
       "      <td>5</td>\n",
       "      <td>21</td>\n",
       "      <td>62.5</td>\n",
       "      <td>62.5</td>\n",
       "      <td>22995.0</td>\n",
       "      <td>1973.690476</td>\n",
       "    </tr>\n",
       "    <tr>\n",
       "      <th>2</th>\n",
       "      <td>2021</td>\n",
       "      <td>5</td>\n",
       "      <td>22</td>\n",
       "      <td>86.5</td>\n",
       "      <td>86.5</td>\n",
       "      <td>22995.0</td>\n",
       "      <td>2199.333333</td>\n",
       "    </tr>\n",
       "    <tr>\n",
       "      <th>3</th>\n",
       "      <td>2021</td>\n",
       "      <td>6</td>\n",
       "      <td>22</td>\n",
       "      <td>107.5</td>\n",
       "      <td>107.5</td>\n",
       "      <td>22995.0</td>\n",
       "      <td>2108.416667</td>\n",
       "    </tr>\n",
       "    <tr>\n",
       "      <th>4</th>\n",
       "      <td>2021</td>\n",
       "      <td>6</td>\n",
       "      <td>23</td>\n",
       "      <td>146.5</td>\n",
       "      <td>146.5</td>\n",
       "      <td>22995.0</td>\n",
       "      <td>2013.285714</td>\n",
       "    </tr>\n",
       "  </tbody>\n",
       "</table>\n",
       "</div>"
      ],
      "text/plain": [
       "   year  month  week  level_0  index  countlineId   Pedestrian\n",
       "0  2021      5    20     20.5   20.5      22995.0  1813.833333\n",
       "1  2021      5    21     62.5   62.5      22995.0  1973.690476\n",
       "2  2021      5    22     86.5   86.5      22995.0  2199.333333\n",
       "3  2021      6    22    107.5  107.5      22995.0  2108.416667\n",
       "4  2021      6    23    146.5  146.5      22995.0  2013.285714"
      ]
     },
     "execution_count": 7,
     "metadata": {},
     "output_type": "execute_result"
    }
   ],
   "source": [
    "S2_avg = S2.copy()\n",
    "S2_avg[\"month\"]=pd.to_datetime(S2_avg[\"UTC Datetime\"]).dt.month\n",
    "S2_avg[\"year\"]=pd.to_datetime(S2_avg[\"UTC Datetime\"]).dt.year\n",
    "S2_avg[\"week\"]=pd.to_datetime(S2_avg[\"UTC Datetime\"]).dt.week\n",
    "S2_week = S2_avg.groupby(['year','month','week'],as_index=False).mean()\n",
    "S2_week.head()"
   ]
  },
  {
   "cell_type": "code",
   "execution_count": 8,
   "id": "fe68a1ae",
   "metadata": {},
   "outputs": [],
   "source": [
    "from scipy import stats\n",
    "S2_month_new = S2_month[(np.abs(stats.zscore(S2_month[\"Pedestrian\"])) < 3)]\n",
    "S2_week_new = S2_week[(np.abs(stats.zscore(S2_week[\"Pedestrian\"])) < 3)]\n",
    "S2_day_new = S2_day[(np.abs(stats.zscore(S2_day[\"Pedestrian\"])) < 3)]"
   ]
  },
  {
   "cell_type": "code",
   "execution_count": 9,
   "id": "e74dfe5c",
   "metadata": {},
   "outputs": [],
   "source": [
    "def sata_analy(data):\n",
    "    print(\"skewness:\",skew(data[\"Pedestrian\"], axis=0, bias=True))\n",
    "    print(\"kurtosis:\",kurtosis(data[\"Pedestrian\"], axis=0, bias=True))\n",
    "    print(\"variance:\",statistics.variance(data[\"Pedestrian\"]))\n",
    "    print(\"mean:\",statistics.mean(data[\"Pedestrian\"]))"
   ]
  },
  {
   "cell_type": "code",
   "execution_count": 10,
   "id": "2abb21c6",
   "metadata": {},
   "outputs": [
    {
     "name": "stdout",
     "output_type": "stream",
     "text": [
      "S2 Month\n"
     ]
    },
    {
     "ename": "NameError",
     "evalue": "name 'skew' is not defined",
     "output_type": "error",
     "traceback": [
      "\u001b[0;31m---------------------------------------------------------------------------\u001b[0m",
      "\u001b[0;31mNameError\u001b[0m                                 Traceback (most recent call last)",
      "\u001b[0;32m/var/folders/w_/ft1536ls3k3gvb2sks5dbg8h0000gn/T/ipykernel_19533/631011431.py\u001b[0m in \u001b[0;36m<module>\u001b[0;34m\u001b[0m\n\u001b[1;32m      1\u001b[0m \u001b[0mprint\u001b[0m\u001b[0;34m(\u001b[0m\u001b[0;34m\"S2 Month\"\u001b[0m\u001b[0;34m)\u001b[0m\u001b[0;34m\u001b[0m\u001b[0;34m\u001b[0m\u001b[0m\n\u001b[0;32m----> 2\u001b[0;31m \u001b[0msata_analy\u001b[0m\u001b[0;34m(\u001b[0m\u001b[0mS2_month_new\u001b[0m\u001b[0;34m)\u001b[0m\u001b[0;34m\u001b[0m\u001b[0;34m\u001b[0m\u001b[0m\n\u001b[0m\u001b[1;32m      3\u001b[0m \u001b[0mprint\u001b[0m\u001b[0;34m(\u001b[0m\u001b[0;34m\"S2 Day\"\u001b[0m\u001b[0;34m)\u001b[0m\u001b[0;34m\u001b[0m\u001b[0;34m\u001b[0m\u001b[0m\n\u001b[1;32m      4\u001b[0m \u001b[0msata_analy\u001b[0m\u001b[0;34m(\u001b[0m\u001b[0mS2_day_new\u001b[0m\u001b[0;34m)\u001b[0m\u001b[0;34m\u001b[0m\u001b[0;34m\u001b[0m\u001b[0m\n\u001b[1;32m      5\u001b[0m \u001b[0mprint\u001b[0m\u001b[0;34m(\u001b[0m\u001b[0;34m\"S2 Week\"\u001b[0m\u001b[0;34m)\u001b[0m\u001b[0;34m\u001b[0m\u001b[0;34m\u001b[0m\u001b[0m\n",
      "\u001b[0;32m/var/folders/w_/ft1536ls3k3gvb2sks5dbg8h0000gn/T/ipykernel_19533/1486784401.py\u001b[0m in \u001b[0;36msata_analy\u001b[0;34m(data)\u001b[0m\n\u001b[1;32m      1\u001b[0m \u001b[0;32mdef\u001b[0m \u001b[0msata_analy\u001b[0m\u001b[0;34m(\u001b[0m\u001b[0mdata\u001b[0m\u001b[0;34m)\u001b[0m\u001b[0;34m:\u001b[0m\u001b[0;34m\u001b[0m\u001b[0;34m\u001b[0m\u001b[0m\n\u001b[0;32m----> 2\u001b[0;31m     \u001b[0mprint\u001b[0m\u001b[0;34m(\u001b[0m\u001b[0;34m\"skewness:\"\u001b[0m\u001b[0;34m,\u001b[0m\u001b[0mskew\u001b[0m\u001b[0;34m(\u001b[0m\u001b[0mdata\u001b[0m\u001b[0;34m[\u001b[0m\u001b[0;34m\"Pedestrian\"\u001b[0m\u001b[0;34m]\u001b[0m\u001b[0;34m,\u001b[0m \u001b[0maxis\u001b[0m\u001b[0;34m=\u001b[0m\u001b[0;36m0\u001b[0m\u001b[0;34m,\u001b[0m \u001b[0mbias\u001b[0m\u001b[0;34m=\u001b[0m\u001b[0;32mTrue\u001b[0m\u001b[0;34m)\u001b[0m\u001b[0;34m)\u001b[0m\u001b[0;34m\u001b[0m\u001b[0;34m\u001b[0m\u001b[0m\n\u001b[0m\u001b[1;32m      3\u001b[0m     \u001b[0mprint\u001b[0m\u001b[0;34m(\u001b[0m\u001b[0;34m\"kurtosis:\"\u001b[0m\u001b[0;34m,\u001b[0m\u001b[0mkurtosis\u001b[0m\u001b[0;34m(\u001b[0m\u001b[0mdata\u001b[0m\u001b[0;34m[\u001b[0m\u001b[0;34m\"Pedestrian\"\u001b[0m\u001b[0;34m]\u001b[0m\u001b[0;34m,\u001b[0m \u001b[0maxis\u001b[0m\u001b[0;34m=\u001b[0m\u001b[0;36m0\u001b[0m\u001b[0;34m,\u001b[0m \u001b[0mbias\u001b[0m\u001b[0;34m=\u001b[0m\u001b[0;32mTrue\u001b[0m\u001b[0;34m)\u001b[0m\u001b[0;34m)\u001b[0m\u001b[0;34m\u001b[0m\u001b[0;34m\u001b[0m\u001b[0m\n\u001b[1;32m      4\u001b[0m     \u001b[0mprint\u001b[0m\u001b[0;34m(\u001b[0m\u001b[0;34m\"variance:\"\u001b[0m\u001b[0;34m,\u001b[0m\u001b[0mstatistics\u001b[0m\u001b[0;34m.\u001b[0m\u001b[0mvariance\u001b[0m\u001b[0;34m(\u001b[0m\u001b[0mdata\u001b[0m\u001b[0;34m[\u001b[0m\u001b[0;34m\"Pedestrian\"\u001b[0m\u001b[0;34m]\u001b[0m\u001b[0;34m)\u001b[0m\u001b[0;34m)\u001b[0m\u001b[0;34m\u001b[0m\u001b[0;34m\u001b[0m\u001b[0m\n\u001b[1;32m      5\u001b[0m     \u001b[0mprint\u001b[0m\u001b[0;34m(\u001b[0m\u001b[0;34m\"mean:\"\u001b[0m\u001b[0;34m,\u001b[0m\u001b[0mstatistics\u001b[0m\u001b[0;34m.\u001b[0m\u001b[0mmean\u001b[0m\u001b[0;34m(\u001b[0m\u001b[0mdata\u001b[0m\u001b[0;34m[\u001b[0m\u001b[0;34m\"Pedestrian\"\u001b[0m\u001b[0;34m]\u001b[0m\u001b[0;34m)\u001b[0m\u001b[0;34m)\u001b[0m\u001b[0;34m\u001b[0m\u001b[0;34m\u001b[0m\u001b[0m\n",
      "\u001b[0;31mNameError\u001b[0m: name 'skew' is not defined"
     ]
    }
   ],
   "source": [
    "print(\"S2 Month\")\n",
    "sata_analy(S2_month_new)\n",
    "print(\"S2 Day\")\n",
    "sata_analy(S2_day_new)\n",
    "print(\"S2 Week\")\n",
    "sata_analy(S2_week_new)"
   ]
  },
  {
   "cell_type": "markdown",
   "id": "a38779d2",
   "metadata": {},
   "source": [
    "## The Fitter test\n",
    "### The fitter is a very convenient library to find the best distribution for random data"
   ]
  },
  {
   "cell_type": "code",
   "execution_count": 11,
   "id": "3b67cec7",
   "metadata": {},
   "outputs": [],
   "source": [
    "from fitter import Fitter, get_common_distributions, get_distributions"
   ]
  },
  {
   "cell_type": "code",
   "execution_count": 12,
   "id": "c3c3cdd1",
   "metadata": {},
   "outputs": [
    {
     "name": "stderr",
     "output_type": "stream",
     "text": [
      "Fitting 10 distributions: 100%|█████████████████| 10/10 [00:00<00:00, 20.23it/s]\n"
     ]
    },
    {
     "name": "stdout",
     "output_type": "stream",
     "text": [
      "S2 weekly data \n"
     ]
    },
    {
     "data": {
      "text/html": [
       "<div>\n",
       "<style scoped>\n",
       "    .dataframe tbody tr th:only-of-type {\n",
       "        vertical-align: middle;\n",
       "    }\n",
       "\n",
       "    .dataframe tbody tr th {\n",
       "        vertical-align: top;\n",
       "    }\n",
       "\n",
       "    .dataframe thead th {\n",
       "        text-align: right;\n",
       "    }\n",
       "</style>\n",
       "<table border=\"1\" class=\"dataframe\">\n",
       "  <thead>\n",
       "    <tr style=\"text-align: right;\">\n",
       "      <th></th>\n",
       "      <th>sumsquare_error</th>\n",
       "      <th>aic</th>\n",
       "      <th>bic</th>\n",
       "      <th>kl_div</th>\n",
       "      <th>ks_statistic</th>\n",
       "      <th>ks_pvalue</th>\n",
       "    </tr>\n",
       "  </thead>\n",
       "  <tbody>\n",
       "    <tr>\n",
       "      <th>cauchy</th>\n",
       "      <td>0.000053</td>\n",
       "      <td>1602.907182</td>\n",
       "      <td>-1282.287606</td>\n",
       "      <td>inf</td>\n",
       "      <td>0.093774</td>\n",
       "      <td>3.834861e-01</td>\n",
       "    </tr>\n",
       "    <tr>\n",
       "      <th>norm</th>\n",
       "      <td>0.000059</td>\n",
       "      <td>1563.218491</td>\n",
       "      <td>-1271.746495</td>\n",
       "      <td>inf</td>\n",
       "      <td>0.160803</td>\n",
       "      <td>1.682958e-02</td>\n",
       "    </tr>\n",
       "    <tr>\n",
       "      <th>powerlaw</th>\n",
       "      <td>0.000081</td>\n",
       "      <td>1487.297018</td>\n",
       "      <td>-1239.012932</td>\n",
       "      <td>inf</td>\n",
       "      <td>0.204595</td>\n",
       "      <td>8.830494e-04</td>\n",
       "    </tr>\n",
       "    <tr>\n",
       "      <th>rayleigh</th>\n",
       "      <td>0.000097</td>\n",
       "      <td>1478.924690</td>\n",
       "      <td>-1227.242144</td>\n",
       "      <td>inf</td>\n",
       "      <td>0.314714</td>\n",
       "      <td>2.017107e-08</td>\n",
       "    </tr>\n",
       "    <tr>\n",
       "      <th>uniform</th>\n",
       "      <td>0.000100</td>\n",
       "      <td>1432.018148</td>\n",
       "      <td>-1224.851575</td>\n",
       "      <td>inf</td>\n",
       "      <td>0.391276</td>\n",
       "      <td>6.342935e-13</td>\n",
       "    </tr>\n",
       "  </tbody>\n",
       "</table>\n",
       "</div>"
      ],
      "text/plain": [
       "          sumsquare_error          aic          bic  kl_div  ks_statistic  \\\n",
       "cauchy           0.000053  1602.907182 -1282.287606     inf      0.093774   \n",
       "norm             0.000059  1563.218491 -1271.746495     inf      0.160803   \n",
       "powerlaw         0.000081  1487.297018 -1239.012932     inf      0.204595   \n",
       "rayleigh         0.000097  1478.924690 -1227.242144     inf      0.314714   \n",
       "uniform          0.000100  1432.018148 -1224.851575     inf      0.391276   \n",
       "\n",
       "             ks_pvalue  \n",
       "cauchy    3.834861e-01  \n",
       "norm      1.682958e-02  \n",
       "powerlaw  8.830494e-04  \n",
       "rayleigh  2.017107e-08  \n",
       "uniform   6.342935e-13  "
      ]
     },
     "execution_count": 12,
     "metadata": {},
     "output_type": "execute_result"
    },
    {
     "data": {
      "image/png": "[encoded data removed]",
      "text/plain": [
       "<Figure size 432x288 with 1 Axes>"
      ]
     },
     "metadata": {
      "needs_background": "light"
     },
     "output_type": "display_data"
    }
   ],
   "source": [
    "a = Fitter(S2_week_new[\"Pedestrian\"],\n",
    "           distributions= get_common_distributions()\n",
    "                         )\n",
    "\n",
    "a.fit()\n",
    "\n",
    "print(\"S2 weekly data \")\n",
    "a.summary()"
   ]
  },
  {
   "cell_type": "code",
   "execution_count": 13,
   "id": "771493d9",
   "metadata": {},
   "outputs": [
    {
     "name": "stdout",
     "output_type": "stream",
     "text": [
      "the best distribution for weekly data will be\n"
     ]
    },
    {
     "data": {
      "text/plain": [
       "{'cauchy': {'loc': 1892.928250823345, 'scale': 114.60926395306663}}"
      ]
     },
     "execution_count": 13,
     "metadata": {},
     "output_type": "execute_result"
    }
   ],
   "source": [
    "print(\"the best distribution for weekly data will be\")\n",
    "a.get_best(method = 'sumsquare_error')"
   ]
  },
  {
   "cell_type": "code",
   "execution_count": 14,
   "id": "262c7573",
   "metadata": {},
   "outputs": [
    {
     "name": "stderr",
     "output_type": "stream",
     "text": [
      "Fitting 10 distributions: 100%|█████████████████| 10/10 [00:00<00:00, 21.32it/s]\n"
     ]
    },
    {
     "name": "stdout",
     "output_type": "stream",
     "text": [
      "S2 monthly data \n"
     ]
    },
    {
     "data": {
      "text/html": [
       "<div>\n",
       "<style scoped>\n",
       "    .dataframe tbody tr th:only-of-type {\n",
       "        vertical-align: middle;\n",
       "    }\n",
       "\n",
       "    .dataframe tbody tr th {\n",
       "        vertical-align: top;\n",
       "    }\n",
       "\n",
       "    .dataframe thead th {\n",
       "        text-align: right;\n",
       "    }\n",
       "</style>\n",
       "<table border=\"1\" class=\"dataframe\">\n",
       "  <thead>\n",
       "    <tr style=\"text-align: right;\">\n",
       "      <th></th>\n",
       "      <th>sumsquare_error</th>\n",
       "      <th>aic</th>\n",
       "      <th>bic</th>\n",
       "      <th>kl_div</th>\n",
       "      <th>ks_statistic</th>\n",
       "      <th>ks_pvalue</th>\n",
       "    </tr>\n",
       "  </thead>\n",
       "  <tbody>\n",
       "    <tr>\n",
       "      <th>norm</th>\n",
       "      <td>0.000998</td>\n",
       "      <td>1363.280411</td>\n",
       "      <td>-170.621231</td>\n",
       "      <td>inf</td>\n",
       "      <td>0.101259</td>\n",
       "      <td>0.983424</td>\n",
       "    </tr>\n",
       "    <tr>\n",
       "      <th>gamma</th>\n",
       "      <td>0.000999</td>\n",
       "      <td>1366.528475</td>\n",
       "      <td>-167.710400</td>\n",
       "      <td>inf</td>\n",
       "      <td>0.104703</td>\n",
       "      <td>0.977040</td>\n",
       "    </tr>\n",
       "    <tr>\n",
       "      <th>chi2</th>\n",
       "      <td>0.001000</td>\n",
       "      <td>1365.921065</td>\n",
       "      <td>-167.691363</td>\n",
       "      <td>inf</td>\n",
       "      <td>0.109758</td>\n",
       "      <td>0.965059</td>\n",
       "    </tr>\n",
       "    <tr>\n",
       "      <th>powerlaw</th>\n",
       "      <td>0.001027</td>\n",
       "      <td>1325.023054</td>\n",
       "      <td>-167.219900</td>\n",
       "      <td>inf</td>\n",
       "      <td>0.199789</td>\n",
       "      <td>0.414526</td>\n",
       "    </tr>\n",
       "    <tr>\n",
       "      <th>cauchy</th>\n",
       "      <td>0.001029</td>\n",
       "      <td>1418.540693</td>\n",
       "      <td>-170.073393</td>\n",
       "      <td>inf</td>\n",
       "      <td>0.116073</td>\n",
       "      <td>0.945513</td>\n",
       "    </tr>\n",
       "  </tbody>\n",
       "</table>\n",
       "</div>"
      ],
      "text/plain": [
       "          sumsquare_error          aic         bic  kl_div  ks_statistic  \\\n",
       "norm             0.000998  1363.280411 -170.621231     inf      0.101259   \n",
       "gamma            0.000999  1366.528475 -167.710400     inf      0.104703   \n",
       "chi2             0.001000  1365.921065 -167.691363     inf      0.109758   \n",
       "powerlaw         0.001027  1325.023054 -167.219900     inf      0.199789   \n",
       "cauchy           0.001029  1418.540693 -170.073393     inf      0.116073   \n",
       "\n",
       "          ks_pvalue  \n",
       "norm       0.983424  \n",
       "gamma      0.977040  \n",
       "chi2       0.965059  \n",
       "powerlaw   0.414526  \n",
       "cauchy     0.945513  "
      ]
     },
     "execution_count": 14,
     "metadata": {},
     "output_type": "execute_result"
    },
    {
     "data": {
      "image/png": "[encoded data removed]",
      "text/plain": [
       "<Figure size 432x288 with 1 Axes>"
      ]
     },
     "metadata": {
      "needs_background": "light"
     },
     "output_type": "display_data"
    }
   ],
   "source": [
    "a = Fitter(S2_month_new[\"Pedestrian\"],\n",
    "           distributions= get_common_distributions())\n",
    "a.fit()\n",
    "\n",
    "print(\"S2 monthly data \")\n",
    "a.summary()"
   ]
  },
  {
   "cell_type": "code",
   "execution_count": 15,
   "id": "433e3121",
   "metadata": {},
   "outputs": [
    {
     "name": "stdout",
     "output_type": "stream",
     "text": [
      "the best distribution for monthly data will be\n"
     ]
    },
    {
     "data": {
      "text/plain": [
       "{'norm': {'loc': 1879.8465378309463, 'scale': 155.83146662086736}}"
      ]
     },
     "execution_count": 15,
     "metadata": {},
     "output_type": "execute_result"
    }
   ],
   "source": [
    "print(\"the best distribution for monthly data will be\")\n",
    "a.get_best(method = 'sumsquare_error')"
   ]
  },
  {
   "cell_type": "code",
   "execution_count": 16,
   "id": "fe96e8d7",
   "metadata": {},
   "outputs": [
    {
     "name": "stderr",
     "output_type": "stream",
     "text": [
      "Fitting 10 distributions: 100%|█████████████████| 10/10 [00:00<00:00, 15.00it/s]\n"
     ]
    },
    {
     "name": "stdout",
     "output_type": "stream",
     "text": [
      "S2 daily data\n"
     ]
    },
    {
     "data": {
      "text/html": [
       "<div>\n",
       "<style scoped>\n",
       "    .dataframe tbody tr th:only-of-type {\n",
       "        vertical-align: middle;\n",
       "    }\n",
       "\n",
       "    .dataframe tbody tr th {\n",
       "        vertical-align: top;\n",
       "    }\n",
       "\n",
       "    .dataframe thead th {\n",
       "        text-align: right;\n",
       "    }\n",
       "</style>\n",
       "<table border=\"1\" class=\"dataframe\">\n",
       "  <thead>\n",
       "    <tr style=\"text-align: right;\">\n",
       "      <th></th>\n",
       "      <th>sumsquare_error</th>\n",
       "      <th>aic</th>\n",
       "      <th>bic</th>\n",
       "      <th>kl_div</th>\n",
       "      <th>ks_statistic</th>\n",
       "      <th>ks_pvalue</th>\n",
       "    </tr>\n",
       "  </thead>\n",
       "  <tbody>\n",
       "    <tr>\n",
       "      <th>norm</th>\n",
       "      <td>0.000005</td>\n",
       "      <td>1659.516293</td>\n",
       "      <td>-9794.699031</td>\n",
       "      <td>inf</td>\n",
       "      <td>0.046698</td>\n",
       "      <td>0.191109</td>\n",
       "    </tr>\n",
       "    <tr>\n",
       "      <th>lognorm</th>\n",
       "      <td>0.000005</td>\n",
       "      <td>1663.239584</td>\n",
       "      <td>-9788.113999</td>\n",
       "      <td>inf</td>\n",
       "      <td>0.043197</td>\n",
       "      <td>0.267211</td>\n",
       "    </tr>\n",
       "    <tr>\n",
       "      <th>gamma</th>\n",
       "      <td>0.000005</td>\n",
       "      <td>1658.423596</td>\n",
       "      <td>-9752.125967</td>\n",
       "      <td>inf</td>\n",
       "      <td>0.057309</td>\n",
       "      <td>0.058765</td>\n",
       "    </tr>\n",
       "    <tr>\n",
       "      <th>cauchy</th>\n",
       "      <td>0.000007</td>\n",
       "      <td>1674.761793</td>\n",
       "      <td>-9646.399376</td>\n",
       "      <td>inf</td>\n",
       "      <td>0.083825</td>\n",
       "      <td>0.001077</td>\n",
       "    </tr>\n",
       "    <tr>\n",
       "      <th>rayleigh</th>\n",
       "      <td>0.000007</td>\n",
       "      <td>inf</td>\n",
       "      <td>-9601.710944</td>\n",
       "      <td>inf</td>\n",
       "      <td>0.092542</td>\n",
       "      <td>0.000208</td>\n",
       "    </tr>\n",
       "  </tbody>\n",
       "</table>\n",
       "</div>"
      ],
      "text/plain": [
       "          sumsquare_error          aic          bic  kl_div  ks_statistic  \\\n",
       "norm             0.000005  1659.516293 -9794.699031     inf      0.046698   \n",
       "lognorm          0.000005  1663.239584 -9788.113999     inf      0.043197   \n",
       "gamma            0.000005  1658.423596 -9752.125967     inf      0.057309   \n",
       "cauchy           0.000007  1674.761793 -9646.399376     inf      0.083825   \n",
       "rayleigh         0.000007          inf -9601.710944     inf      0.092542   \n",
       "\n",
       "          ks_pvalue  \n",
       "norm       0.191109  \n",
       "lognorm    0.267211  \n",
       "gamma      0.058765  \n",
       "cauchy     0.001077  \n",
       "rayleigh   0.000208  "
      ]
     },
     "execution_count": 16,
     "metadata": {},
     "output_type": "execute_result"
    },
    {
     "data": {
      "image/png": "[encoded data removed]",
      "text/plain": [
       "<Figure size 432x288 with 1 Axes>"
      ]
     },
     "metadata": {
      "needs_background": "light"
     },
     "output_type": "display_data"
    }
   ],
   "source": [
    "a = Fitter(S2_day_new[\"Pedestrian\"],\n",
    "           distributions= get_common_distributions())\n",
    "a.fit()\n",
    "\n",
    "\n",
    "print(\"S2 daily data\")\n",
    "a.summary()"
   ]
  },
  {
   "cell_type": "code",
   "execution_count": 17,
   "id": "81154cae",
   "metadata": {},
   "outputs": [
    {
     "name": "stdout",
     "output_type": "stream",
     "text": [
      "the best distribution for daily data will be\n"
     ]
    },
    {
     "data": {
      "text/plain": [
       "{'norm': {'loc': 1853.5546139359699, 'scale': 376.75350363286134}}"
      ]
     },
     "execution_count": 17,
     "metadata": {},
     "output_type": "execute_result"
    }
   ],
   "source": [
    "print(\"the best distribution for daily data will be\")\n",
    "a.get_best(method = 'sumsquare_error')"
   ]
  },
  {
   "cell_type": "markdown",
   "id": "aa28b71f",
   "metadata": {},
   "source": [
    "## Anderson-Darling Test"
   ]
  },
  {
   "cell_type": "code",
   "execution_count": 18,
   "id": "47f4d2be",
   "metadata": {},
   "outputs": [
    {
     "name": "stdout",
     "output_type": "stream",
     "text": [
      "S2 Month:\n",
      "AndersonResult(statistic=0.22868353271691788, critical_values=array([0.503, 0.573, 0.687, 0.802, 0.954]), significance_level=array([15. , 10. ,  5. ,  2.5,  1. ]))\n",
      "S2 Week:\n",
      "AndersonResult(statistic=3.118403260867666, critical_values=array([0.553, 0.63 , 0.756, 0.882, 1.049]), significance_level=array([15. , 10. ,  5. ,  2.5,  1. ]))\n",
      "S2 Day:\n",
      "AndersonResult(statistic=1.9661093977225619, critical_values=array([0.572, 0.651, 0.781, 0.911, 1.084]), significance_level=array([15. , 10. ,  5. ,  2.5,  1. ]))\n"
     ]
    }
   ],
   "source": [
    "from scipy.stats import anderson\n",
    "print(\"S2 Month:\")\n",
    "print(anderson(S2_month_new[\"Pedestrian\"]))\n",
    "print(\"S2 Week:\")\n",
    "print(anderson(S2_week_new[\"Pedestrian\"]))\n",
    "print(\"S2 Day:\")\n",
    "print(anderson(S2_day_new[\"Pedestrian\"]))"
   ]
  },
  {
   "cell_type": "markdown",
   "id": "854a2f4f",
   "metadata": {},
   "source": [
    "### Based on Anderson-Darling Test, S2 Monthly data is the only data which statisitc number is smaller than critical, in other word, it is the only one which don't reject the null hypotheses from a normal distribution."
   ]
  },
  {
   "cell_type": "markdown",
   "id": "006fc873",
   "metadata": {},
   "source": [
    "## Mento Carlo Simulation "
   ]
  },
  {
   "cell_type": "code",
   "execution_count": 19,
   "id": "e7ac5e34",
   "metadata": {},
   "outputs": [],
   "source": [
    "import sympy as smp\n",
    "def mento(data,f):\n",
    "    y,x,s,m = smp.symbols(\"x s m y\")\n",
    "    fs = smp.integrate(f,(x,0,y)).doit()\n",
    "    Fn = smp.lambdify((y,s,m),fs)\n",
    "    fn = smp.lambdify((x,s,m),f)\n",
    "    s=data[\"Pedestrian\"].std()\n",
    "    m=statistics.mean(data[\"Pedestrian\"])\n",
    "    x = np.linspace(min(data[\"Pedestrian\"]),max(data[\"Pedestrian\"]),len(data[\"Pedestrian\"]))\n",
    "    f = fn(x,s,m)\n",
    "    F = Fn(x,s,m)\n",
    "    us = np.random.rand(len(data))\n",
    "    F_inv = x[np.searchsorted(F[:-1],us)]\n",
    "    plt.plot(x,f)\n",
    "    plt.hist(F_inv,histtype=\"step\",color=\"r\",density=\"norm\")\n",
    "    plt.show()\n",
    "    return F_inv"
   ]
  },
  {
   "cell_type": "code",
   "execution_count": 20,
   "id": "000193c4",
   "metadata": {},
   "outputs": [
    {
     "name": "stdout",
     "output_type": "stream",
     "text": [
      "S2 Month\n"
     ]
    },
    {
     "ename": "NameError",
     "evalue": "name 'statistics' is not defined",
     "output_type": "error",
     "traceback": [
      "\u001b[0;31m---------------------------------------------------------------------------\u001b[0m",
      "\u001b[0;31mNameError\u001b[0m                                 Traceback (most recent call last)",
      "\u001b[0;32m/var/folders/w_/ft1536ls3k3gvb2sks5dbg8h0000gn/T/ipykernel_19533/1422831617.py\u001b[0m in \u001b[0;36m<module>\u001b[0;34m\u001b[0m\n\u001b[1;32m      2\u001b[0m \u001b[0my\u001b[0m\u001b[0;34m,\u001b[0m\u001b[0mx\u001b[0m\u001b[0;34m,\u001b[0m\u001b[0ms\u001b[0m\u001b[0;34m,\u001b[0m\u001b[0mm\u001b[0m \u001b[0;34m=\u001b[0m \u001b[0msmp\u001b[0m\u001b[0;34m.\u001b[0m\u001b[0msymbols\u001b[0m\u001b[0;34m(\u001b[0m\u001b[0;34m\"x s m y\"\u001b[0m\u001b[0;34m)\u001b[0m\u001b[0;34m\u001b[0m\u001b[0;34m\u001b[0m\u001b[0m\n\u001b[1;32m      3\u001b[0m \u001b[0mf\u001b[0m \u001b[0;34m=\u001b[0m \u001b[0;36m1\u001b[0m\u001b[0;34m/\u001b[0m\u001b[0;34m(\u001b[0m\u001b[0ms\u001b[0m\u001b[0;34m*\u001b[0m\u001b[0;34m(\u001b[0m\u001b[0mnp\u001b[0m\u001b[0;34m.\u001b[0m\u001b[0mpi\u001b[0m\u001b[0;34m*\u001b[0m\u001b[0;36m2\u001b[0m\u001b[0;34m)\u001b[0m\u001b[0;34m**\u001b[0m\u001b[0;34m(\u001b[0m\u001b[0;36m1\u001b[0m\u001b[0;34m/\u001b[0m\u001b[0;36m2\u001b[0m\u001b[0;34m)\u001b[0m\u001b[0;34m)\u001b[0m\u001b[0;34m*\u001b[0m\u001b[0msmp\u001b[0m\u001b[0;34m.\u001b[0m\u001b[0mexp\u001b[0m\u001b[0;34m(\u001b[0m\u001b[0;34m-\u001b[0m\u001b[0;34m(\u001b[0m\u001b[0mx\u001b[0m\u001b[0;34m-\u001b[0m\u001b[0mm\u001b[0m\u001b[0;34m)\u001b[0m\u001b[0;34m**\u001b[0m\u001b[0;36m2\u001b[0m\u001b[0;34m/\u001b[0m\u001b[0;34m(\u001b[0m\u001b[0;36m2\u001b[0m\u001b[0;34m*\u001b[0m\u001b[0ms\u001b[0m\u001b[0;34m**\u001b[0m\u001b[0;36m2\u001b[0m\u001b[0;34m)\u001b[0m\u001b[0;34m)\u001b[0m\u001b[0;34m\u001b[0m\u001b[0;34m\u001b[0m\u001b[0m\n\u001b[0;32m----> 4\u001b[0;31m \u001b[0ma\u001b[0m \u001b[0;34m=\u001b[0m \u001b[0mmento\u001b[0m\u001b[0;34m(\u001b[0m\u001b[0mS2_month_new\u001b[0m\u001b[0;34m,\u001b[0m\u001b[0mf\u001b[0m\u001b[0;34m)\u001b[0m\u001b[0;34m\u001b[0m\u001b[0;34m\u001b[0m\u001b[0m\n\u001b[0m\u001b[1;32m      5\u001b[0m data = {\"real_month_data\":S2_month_new[\"Pedestrian\"],\n\u001b[1;32m      6\u001b[0m        \u001b[0;34m\"mento carlo\"\u001b[0m\u001b[0;34m:\u001b[0m\u001b[0ma\u001b[0m\u001b[0;34m,\u001b[0m\u001b[0;34m\u001b[0m\u001b[0;34m\u001b[0m\u001b[0m\n",
      "\u001b[0;32m/var/folders/w_/ft1536ls3k3gvb2sks5dbg8h0000gn/T/ipykernel_19533/1975817549.py\u001b[0m in \u001b[0;36mmento\u001b[0;34m(data, f)\u001b[0m\n\u001b[1;32m      6\u001b[0m     \u001b[0mfn\u001b[0m \u001b[0;34m=\u001b[0m \u001b[0msmp\u001b[0m\u001b[0;34m.\u001b[0m\u001b[0mlambdify\u001b[0m\u001b[0;34m(\u001b[0m\u001b[0;34m(\u001b[0m\u001b[0mx\u001b[0m\u001b[0;34m,\u001b[0m\u001b[0ms\u001b[0m\u001b[0;34m,\u001b[0m\u001b[0mm\u001b[0m\u001b[0;34m)\u001b[0m\u001b[0;34m,\u001b[0m\u001b[0mf\u001b[0m\u001b[0;34m)\u001b[0m\u001b[0;34m\u001b[0m\u001b[0;34m\u001b[0m\u001b[0m\n\u001b[1;32m      7\u001b[0m     \u001b[0ms\u001b[0m\u001b[0;34m=\u001b[0m\u001b[0mdata\u001b[0m\u001b[0;34m[\u001b[0m\u001b[0;34m\"Pedestrian\"\u001b[0m\u001b[0;34m]\u001b[0m\u001b[0;34m.\u001b[0m\u001b[0mstd\u001b[0m\u001b[0;34m(\u001b[0m\u001b[0;34m)\u001b[0m\u001b[0;34m\u001b[0m\u001b[0;34m\u001b[0m\u001b[0m\n\u001b[0;32m----> 8\u001b[0;31m     \u001b[0mm\u001b[0m\u001b[0;34m=\u001b[0m\u001b[0mstatistics\u001b[0m\u001b[0;34m.\u001b[0m\u001b[0mmean\u001b[0m\u001b[0;34m(\u001b[0m\u001b[0mdata\u001b[0m\u001b[0;34m[\u001b[0m\u001b[0;34m\"Pedestrian\"\u001b[0m\u001b[0;34m]\u001b[0m\u001b[0;34m)\u001b[0m\u001b[0;34m\u001b[0m\u001b[0;34m\u001b[0m\u001b[0m\n\u001b[0m\u001b[1;32m      9\u001b[0m     \u001b[0mx\u001b[0m \u001b[0;34m=\u001b[0m \u001b[0mnp\u001b[0m\u001b[0;34m.\u001b[0m\u001b[0mlinspace\u001b[0m\u001b[0;34m(\u001b[0m\u001b[0mmin\u001b[0m\u001b[0;34m(\u001b[0m\u001b[0mdata\u001b[0m\u001b[0;34m[\u001b[0m\u001b[0;34m\"Pedestrian\"\u001b[0m\u001b[0;34m]\u001b[0m\u001b[0;34m)\u001b[0m\u001b[0;34m,\u001b[0m\u001b[0mmax\u001b[0m\u001b[0;34m(\u001b[0m\u001b[0mdata\u001b[0m\u001b[0;34m[\u001b[0m\u001b[0;34m\"Pedestrian\"\u001b[0m\u001b[0;34m]\u001b[0m\u001b[0;34m)\u001b[0m\u001b[0;34m,\u001b[0m\u001b[0mlen\u001b[0m\u001b[0;34m(\u001b[0m\u001b[0mdata\u001b[0m\u001b[0;34m[\u001b[0m\u001b[0;34m\"Pedestrian\"\u001b[0m\u001b[0;34m]\u001b[0m\u001b[0;34m)\u001b[0m\u001b[0;34m)\u001b[0m\u001b[0;34m\u001b[0m\u001b[0;34m\u001b[0m\u001b[0m\n\u001b[1;32m     10\u001b[0m     \u001b[0mf\u001b[0m \u001b[0;34m=\u001b[0m \u001b[0mfn\u001b[0m\u001b[0;34m(\u001b[0m\u001b[0mx\u001b[0m\u001b[0;34m,\u001b[0m\u001b[0ms\u001b[0m\u001b[0;34m,\u001b[0m\u001b[0mm\u001b[0m\u001b[0;34m)\u001b[0m\u001b[0;34m\u001b[0m\u001b[0;34m\u001b[0m\u001b[0m\n",
      "\u001b[0;31mNameError\u001b[0m: name 'statistics' is not defined"
     ]
    }
   ],
   "source": [
    "print(\"S2 Month\")\n",
    "y,x,s,m = smp.symbols(\"x s m y\")\n",
    "f = 1/(s*(np.pi*2)**(1/2))*smp.exp(-(x-m)**2/(2*s**2))\n",
    "a = mento(S2_month_new,f)\n",
    "data = {\"real_month_data\":S2_month_new[\"Pedestrian\"],\n",
    "       \"mento carlo\":a,\n",
    "       }\n",
    "data = pd.DataFrame(data)\n",
    "sns.heatmap(data.corr(), annot = True)"
   ]
  },
  {
   "cell_type": "code",
   "execution_count": null,
   "id": "77a07235",
   "metadata": {},
   "outputs": [],
   "source": [
    "print(\"S2 week\")\n",
    "y,x,s,m = smp.symbols(\"x s m y\")\n",
    "f = 1/(np.pi*s*(1+((x-m)/s)**2))\n",
    "a = mento(S2_week_new,f)\n",
    "data = {\"real_month_data\":S2_week_new[\"Pedestrian\"],\n",
    "       \"mento carlo\":a,\n",
    "       }\n",
    "data = pd.DataFrame(data)\n",
    "sns.heatmap(data.corr(), annot = True)"
   ]
  },
  {
   "cell_type": "code",
   "execution_count": null,
   "id": "80b26b48",
   "metadata": {},
   "outputs": [],
   "source": [
    "print(\"S2 day\")\n",
    "y,x,s,m = smp.symbols(\"x s m y\")\n",
    "f = 1/(s*(np.pi*2)**(1/2))*smp.exp(-(x-m)**2/(2*s**2))\n",
    "a = mento(S2_day_new,f)\n",
    "data = {\"real_month_data\":S2_day_new[\"Pedestrian\"],\n",
    "       \"mento carlo\":a,\n",
    "       }\n",
    "data = pd.DataFrame(data)\n",
    "sns.heatmap(data.corr(), annot = True)"
   ]
  },
  {
   "cell_type": "markdown",
   "id": "00c4d359",
   "metadata": {},
   "source": [
    "# Conclusion"
   ]
  },
  {
   "cell_type": "markdown",
   "id": "4cb1eaac",
   "metadata": {},
   "source": [
    "### After repeated testing, I found that the mento carlo simulation is very unstable, sometimes the generated random values will be kind of close to the real value, but sometimes it will be far away. Also the file you see is the one I have adjusted a bit, which means that all the data are the result after I have removed all the extreme values. Based on the fitter test results (you can see the detailed icons and conclusions in the fitter test part), the normal distribution can be applied to the daily and monthly data, while the cauchy distribution is matched to the weekly data. Also, at the beginning I tried to use the beta distribution for testing, and although the results were good I gave up since the beta distribution only produces a value between 0 and 1. All in all, mento carlo simulation has many limitations, and the best score of correlation for mento carlo simulation is only 0.5, so I personally think it is not suitable to use it to predict missing values\n"
   ]
  },
  {
   "cell_type": "code",
   "execution_count": null,
   "id": "15143f42",
   "metadata": {},
   "outputs": [],
   "source": []
  }
 ],
 "metadata": {
  "kernelspec": {
   "display_name": "Python 3 (ipykernel)",
   "language": "python",
   "name": "python3"
  },
  "language_info": {
   "codemirror_mode": {
    "name": "ipython",
    "version": 3
   },
   "file_extension": ".py",
   "mimetype": "text/x-python",
   "name": "python",
   "nbconvert_exporter": "python",
   "pygments_lexer": "ipython3",
   "version": "3.9.7"
  }
 },
 "nbformat": 4,
 "nbformat_minor": 5
}
