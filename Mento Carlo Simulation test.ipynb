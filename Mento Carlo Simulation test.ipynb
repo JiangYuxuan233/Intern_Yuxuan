{
 "cells": [
  {
   "cell_type": "markdown",
   "id": "622ce01c",
   "metadata": {},
   "source": [
    "# If you just want to see the code of Mento Carlo Simulation and the result, please jump to Mento Carlo Simulation  part"
   ]
  },
  {
   "cell_type": "code",
   "execution_count": 3,
   "id": "29d5b161",
   "metadata": {},
   "outputs": [],
   "source": [
    "import pandas as pd\n",
    "import numpy as np\n",
    "import seaborn as sns\n",
    "import matplotlib.pyplot as plt\n",
    "S1 = pd.read_csv(\"S1_new.csv\")\n",
    "S2 = pd.read_csv(\"S2_new.csv\")\n",
    "S3 = pd.read_csv(\"S3_new.csv\")\n",
    "S1.replace(0, np.nan, inplace=True)\n",
    "S2.replace(0, np.nan, inplace=True)\n",
    "S3.replace(0, np.nan, inplace=True)"
   ]
  },
  {
   "cell_type": "code",
   "execution_count": 4,
   "id": "20f1fcfe",
   "metadata": {},
   "outputs": [
    {
     "data": {
      "text/plain": [
       "<bound method DataFrame.value_counts of      UTC Datetime    Local Datetime  countlineId               countlineName  \\\n",
       "0      05/17/2021  05/17/2021 01:00        22989          S1_georgeSt_dlr001   \n",
       "1      05/17/2021  05/17/2021 01:00        22989          S1_georgeSt_dlr001   \n",
       "2      05/17/2021  05/17/2021 01:00        22988  S1_georgeSt_pathLHS_dlr001   \n",
       "3      05/17/2021  05/17/2021 01:00        22988  S1_georgeSt_pathLHS_dlr001   \n",
       "4      05/17/2021  05/17/2021 01:00        22990  S1_georgeSt_pathRHS_dlr001   \n",
       "...           ...               ...          ...                         ...   \n",
       "4279   04/30/2023  05/13/2023 00:59        22989          S1_georgeSt_dlr001   \n",
       "4280   04/30/2023  05/14/2023 00:59        22988  S1_georgeSt_pathLHS_dlr001   \n",
       "4281   04/30/2023  05/15/2023 00:59        22988  S1_georgeSt_pathLHS_dlr001   \n",
       "4282   04/30/2023  05/16/2023 00:59        22990  S1_georgeSt_pathRHS_dlr001   \n",
       "4283   04/30/2023  05/17/2023 00:59        22990  S1_georgeSt_pathRHS_dlr001   \n",
       "\n",
       "     Sensor Number direction  Pedestrian  \n",
       "0               S1        in       344.0  \n",
       "1               S1       out        76.0  \n",
       "2               S1        in      1803.0  \n",
       "3               S1       out      1671.0  \n",
       "4               S1        in      2666.0  \n",
       "...            ...       ...         ...  \n",
       "4279            S1       out        68.0  \n",
       "4280            S1        in      2220.0  \n",
       "4281            S1       out      1791.0  \n",
       "4282            S1        in      2621.0  \n",
       "4283            S1       out      1523.0  \n",
       "\n",
       "[4284 rows x 7 columns]>"
      ]
     },
     "execution_count": 4,
     "metadata": {},
     "output_type": "execute_result"
    }
   ],
   "source": [
    "S1 = S1.drop(columns=[\"Unnamed: 0\"])\n",
    "S2 = S2.drop(columns=[\"Unnamed: 0\"])\n",
    "S3 = S3.drop(columns=[\"Unnamed: 0\"])\n",
    "S1.value_counts"
   ]
  },
  {
   "cell_type": "code",
   "execution_count": 5,
   "id": "38a60033",
   "metadata": {},
   "outputs": [
    {
     "name": "stdout",
     "output_type": "stream",
     "text": [
      "number of duplicate rows in sensor 1 0\n",
      "number of duplicate rows in sensor 2 0\n",
      "number of duplicate rows in sensor 3 0\n"
     ]
    }
   ],
   "source": [
    "print(\"number of duplicate rows in sensor 1\",S1.duplicated().sum())\n",
    "print(\"number of duplicate rows in sensor 2\",S2.duplicated().sum())\n",
    "print(\"number of duplicate rows in sensor 3\",S3.duplicated().sum())\n",
    "S1 = pd.DataFrame.drop_duplicates(S1).reset_index()\n",
    "S2 = pd.DataFrame.drop_duplicates(S2).reset_index()\n",
    "S3 = pd.DataFrame.drop_duplicates(S3).reset_index()"
   ]
  },
  {
   "cell_type": "code",
   "execution_count": 6,
   "id": "0bc7dc4f",
   "metadata": {},
   "outputs": [],
   "source": [
    "S2 = S2.dropna().reset_index()"
   ]
  },
  {
   "cell_type": "code",
   "execution_count": 7,
   "id": "85d30b89",
   "metadata": {},
   "outputs": [
    {
     "data": {
      "text/html": [
       "<div>\n",
       "<style scoped>\n",
       "    .dataframe tbody tr th:only-of-type {\n",
       "        vertical-align: middle;\n",
       "    }\n",
       "\n",
       "    .dataframe tbody tr th {\n",
       "        vertical-align: top;\n",
       "    }\n",
       "\n",
       "    .dataframe thead th {\n",
       "        text-align: right;\n",
       "    }\n",
       "</style>\n",
       "<table border=\"1\" class=\"dataframe\">\n",
       "  <thead>\n",
       "    <tr style=\"text-align: right;\">\n",
       "      <th></th>\n",
       "      <th>year</th>\n",
       "      <th>month</th>\n",
       "      <th>level_0</th>\n",
       "      <th>index</th>\n",
       "      <th>countlineId</th>\n",
       "      <th>Pedestrian</th>\n",
       "    </tr>\n",
       "  </thead>\n",
       "  <tbody>\n",
       "    <tr>\n",
       "      <th>0</th>\n",
       "      <td>2021</td>\n",
       "      <td>5</td>\n",
       "      <td>44.5</td>\n",
       "      <td>44.5</td>\n",
       "      <td>22995.0</td>\n",
       "      <td>1739.337495</td>\n",
       "    </tr>\n",
       "    <tr>\n",
       "      <th>1</th>\n",
       "      <td>2021</td>\n",
       "      <td>6</td>\n",
       "      <td>179.5</td>\n",
       "      <td>179.5</td>\n",
       "      <td>22995.0</td>\n",
       "      <td>1789.227500</td>\n",
       "    </tr>\n",
       "    <tr>\n",
       "      <th>2</th>\n",
       "      <td>2021</td>\n",
       "      <td>7</td>\n",
       "      <td>362.5</td>\n",
       "      <td>362.5</td>\n",
       "      <td>22995.0</td>\n",
       "      <td>1913.817989</td>\n",
       "    </tr>\n",
       "    <tr>\n",
       "      <th>3</th>\n",
       "      <td>2021</td>\n",
       "      <td>8</td>\n",
       "      <td>548.5</td>\n",
       "      <td>548.5</td>\n",
       "      <td>22995.0</td>\n",
       "      <td>1905.050058</td>\n",
       "    </tr>\n",
       "    <tr>\n",
       "      <th>4</th>\n",
       "      <td>2021</td>\n",
       "      <td>9</td>\n",
       "      <td>731.5</td>\n",
       "      <td>731.5</td>\n",
       "      <td>22995.0</td>\n",
       "      <td>1882.354871</td>\n",
       "    </tr>\n",
       "  </tbody>\n",
       "</table>\n",
       "</div>"
      ],
      "text/plain": [
       "   year  month  level_0  index  countlineId   Pedestrian\n",
       "0  2021      5     44.5   44.5      22995.0  1739.337495\n",
       "1  2021      6    179.5  179.5      22995.0  1789.227500\n",
       "2  2021      7    362.5  362.5      22995.0  1913.817989\n",
       "3  2021      8    548.5  548.5      22995.0  1905.050058\n",
       "4  2021      9    731.5  731.5      22995.0  1882.354871"
      ]
     },
     "execution_count": 7,
     "metadata": {},
     "output_type": "execute_result"
    }
   ],
   "source": [
    "S2_avg = S2.copy()\n",
    "S2_avg[\"month\"]=pd.to_datetime(S2_avg[\"UTC Datetime\"]).dt.month\n",
    "S2_avg[\"year\"]=pd.to_datetime(S2_avg[\"UTC Datetime\"]).dt.year\n",
    "S2_month = S2_avg.groupby(['year','month'],as_index=False).mean()\n",
    "S2_month.head()"
   ]
  },
  {
   "cell_type": "code",
   "execution_count": 8,
   "id": "86f3cdf0",
   "metadata": {},
   "outputs": [
    {
     "data": {
      "text/html": [
       "<div>\n",
       "<style scoped>\n",
       "    .dataframe tbody tr th:only-of-type {\n",
       "        vertical-align: middle;\n",
       "    }\n",
       "\n",
       "    .dataframe tbody tr th {\n",
       "        vertical-align: top;\n",
       "    }\n",
       "\n",
       "    .dataframe thead th {\n",
       "        text-align: right;\n",
       "    }\n",
       "</style>\n",
       "<table border=\"1\" class=\"dataframe\">\n",
       "  <thead>\n",
       "    <tr style=\"text-align: right;\">\n",
       "      <th></th>\n",
       "      <th>year</th>\n",
       "      <th>month</th>\n",
       "      <th>day</th>\n",
       "      <th>level_0</th>\n",
       "      <th>index</th>\n",
       "      <th>countlineId</th>\n",
       "      <th>Pedestrian</th>\n",
       "    </tr>\n",
       "  </thead>\n",
       "  <tbody>\n",
       "    <tr>\n",
       "      <th>0</th>\n",
       "      <td>2021</td>\n",
       "      <td>5</td>\n",
       "      <td>17</td>\n",
       "      <td>2.5</td>\n",
       "      <td>2.5</td>\n",
       "      <td>22995.0</td>\n",
       "      <td>1686.932580</td>\n",
       "    </tr>\n",
       "    <tr>\n",
       "      <th>1</th>\n",
       "      <td>2021</td>\n",
       "      <td>5</td>\n",
       "      <td>18</td>\n",
       "      <td>8.5</td>\n",
       "      <td>8.5</td>\n",
       "      <td>22995.0</td>\n",
       "      <td>1821.819014</td>\n",
       "    </tr>\n",
       "    <tr>\n",
       "      <th>2</th>\n",
       "      <td>2021</td>\n",
       "      <td>5</td>\n",
       "      <td>19</td>\n",
       "      <td>14.5</td>\n",
       "      <td>14.5</td>\n",
       "      <td>22995.0</td>\n",
       "      <td>1973.085278</td>\n",
       "    </tr>\n",
       "    <tr>\n",
       "      <th>3</th>\n",
       "      <td>2021</td>\n",
       "      <td>5</td>\n",
       "      <td>20</td>\n",
       "      <td>20.5</td>\n",
       "      <td>20.5</td>\n",
       "      <td>22995.0</td>\n",
       "      <td>1104.670661</td>\n",
       "    </tr>\n",
       "    <tr>\n",
       "      <th>4</th>\n",
       "      <td>2021</td>\n",
       "      <td>5</td>\n",
       "      <td>21</td>\n",
       "      <td>26.5</td>\n",
       "      <td>26.5</td>\n",
       "      <td>22995.0</td>\n",
       "      <td>1413.372727</td>\n",
       "    </tr>\n",
       "  </tbody>\n",
       "</table>\n",
       "</div>"
      ],
      "text/plain": [
       "   year  month  day  level_0  index  countlineId   Pedestrian\n",
       "0  2021      5   17      2.5    2.5      22995.0  1686.932580\n",
       "1  2021      5   18      8.5    8.5      22995.0  1821.819014\n",
       "2  2021      5   19     14.5   14.5      22995.0  1973.085278\n",
       "3  2021      5   20     20.5   20.5      22995.0  1104.670661\n",
       "4  2021      5   21     26.5   26.5      22995.0  1413.372727"
      ]
     },
     "execution_count": 8,
     "metadata": {},
     "output_type": "execute_result"
    }
   ],
   "source": [
    "S2_avg = S2.copy()\n",
    "S2_avg[\"month\"]=pd.to_datetime(S2_avg[\"UTC Datetime\"]).dt.month\n",
    "S2_avg[\"year\"]=pd.to_datetime(S2_avg[\"UTC Datetime\"]).dt.year\n",
    "S2_avg[\"day\"]=pd.to_datetime(S2_avg[\"UTC Datetime\"]).dt.day\n",
    "S2_day = S2_avg.groupby(['year','month','day'],as_index=False).mean()\n",
    "S2_day.head()"
   ]
  },
  {
   "cell_type": "code",
   "execution_count": 9,
   "id": "304c46d1",
   "metadata": {},
   "outputs": [
    {
     "name": "stderr",
     "output_type": "stream",
     "text": [
      "/var/folders/w_/ft1536ls3k3gvb2sks5dbg8h0000gn/T/ipykernel_92985/922864987.py:4: FutureWarning: Series.dt.weekofyear and Series.dt.week have been deprecated.  Please use Series.dt.isocalendar().week instead.\n",
      "  S2_avg[\"week\"]=pd.to_datetime(S2_avg[\"UTC Datetime\"]).dt.week\n"
     ]
    },
    {
     "data": {
      "text/html": [
       "<div>\n",
       "<style scoped>\n",
       "    .dataframe tbody tr th:only-of-type {\n",
       "        vertical-align: middle;\n",
       "    }\n",
       "\n",
       "    .dataframe tbody tr th {\n",
       "        vertical-align: top;\n",
       "    }\n",
       "\n",
       "    .dataframe thead th {\n",
       "        text-align: right;\n",
       "    }\n",
       "</style>\n",
       "<table border=\"1\" class=\"dataframe\">\n",
       "  <thead>\n",
       "    <tr style=\"text-align: right;\">\n",
       "      <th></th>\n",
       "      <th>year</th>\n",
       "      <th>month</th>\n",
       "      <th>week</th>\n",
       "      <th>level_0</th>\n",
       "      <th>index</th>\n",
       "      <th>countlineId</th>\n",
       "      <th>Pedestrian</th>\n",
       "    </tr>\n",
       "  </thead>\n",
       "  <tbody>\n",
       "    <tr>\n",
       "      <th>0</th>\n",
       "      <td>2021</td>\n",
       "      <td>5</td>\n",
       "      <td>20</td>\n",
       "      <td>20.5</td>\n",
       "      <td>20.5</td>\n",
       "      <td>22995.0</td>\n",
       "      <td>1660.836220</td>\n",
       "    </tr>\n",
       "    <tr>\n",
       "      <th>1</th>\n",
       "      <td>2021</td>\n",
       "      <td>5</td>\n",
       "      <td>21</td>\n",
       "      <td>62.5</td>\n",
       "      <td>62.5</td>\n",
       "      <td>22995.0</td>\n",
       "      <td>1773.497399</td>\n",
       "    </tr>\n",
       "    <tr>\n",
       "      <th>2</th>\n",
       "      <td>2021</td>\n",
       "      <td>5</td>\n",
       "      <td>22</td>\n",
       "      <td>86.5</td>\n",
       "      <td>86.5</td>\n",
       "      <td>22995.0</td>\n",
       "      <td>2049.727093</td>\n",
       "    </tr>\n",
       "    <tr>\n",
       "      <th>3</th>\n",
       "      <td>2021</td>\n",
       "      <td>6</td>\n",
       "      <td>22</td>\n",
       "      <td>107.5</td>\n",
       "      <td>107.5</td>\n",
       "      <td>22995.0</td>\n",
       "      <td>1895.094736</td>\n",
       "    </tr>\n",
       "    <tr>\n",
       "      <th>4</th>\n",
       "      <td>2021</td>\n",
       "      <td>6</td>\n",
       "      <td>23</td>\n",
       "      <td>146.5</td>\n",
       "      <td>146.5</td>\n",
       "      <td>22995.0</td>\n",
       "      <td>1850.545393</td>\n",
       "    </tr>\n",
       "  </tbody>\n",
       "</table>\n",
       "</div>"
      ],
      "text/plain": [
       "   year  month  week  level_0  index  countlineId   Pedestrian\n",
       "0  2021      5    20     20.5   20.5      22995.0  1660.836220\n",
       "1  2021      5    21     62.5   62.5      22995.0  1773.497399\n",
       "2  2021      5    22     86.5   86.5      22995.0  2049.727093\n",
       "3  2021      6    22    107.5  107.5      22995.0  1895.094736\n",
       "4  2021      6    23    146.5  146.5      22995.0  1850.545393"
      ]
     },
     "execution_count": 9,
     "metadata": {},
     "output_type": "execute_result"
    }
   ],
   "source": [
    "S2_avg = S2.copy()\n",
    "S2_avg[\"month\"]=pd.to_datetime(S2_avg[\"UTC Datetime\"]).dt.month\n",
    "S2_avg[\"year\"]=pd.to_datetime(S2_avg[\"UTC Datetime\"]).dt.year\n",
    "S2_avg[\"week\"]=pd.to_datetime(S2_avg[\"UTC Datetime\"]).dt.week\n",
    "S2_week = S2_avg.groupby(['year','month','week'],as_index=False).mean()\n",
    "S2_week.head()"
   ]
  },
  {
   "cell_type": "code",
   "execution_count": 10,
   "id": "fe68a1ae",
   "metadata": {},
   "outputs": [],
   "source": [
    "from scipy import stats\n",
    "S2_month_new = S2_month[(np.abs(stats.zscore(S2_month[\"Pedestrian\"])) < 3)]\n",
    "S2_week_new = S2_week[(np.abs(stats.zscore(S2_week[\"Pedestrian\"])) < 3)]\n",
    "S2_day_new = S2_day[(np.abs(stats.zscore(S2_day[\"Pedestrian\"])) < 3)]"
   ]
  },
  {
   "cell_type": "code",
   "execution_count": 11,
   "id": "e74dfe5c",
   "metadata": {},
   "outputs": [],
   "source": [
    "def sata_analy(data):\n",
    "    print(\"skewness:\",skew(data[\"Pedestrian\"], axis=0, bias=True))\n",
    "    print(\"kurtosis:\",kurtosis(data[\"Pedestrian\"], axis=0, bias=True))\n",
    "    print(\"variance:\",statistics.variance(data[\"Pedestrian\"]))\n",
    "    print(\"mean:\",statistics.mean(data[\"Pedestrian\"]))"
   ]
  },
  {
   "cell_type": "code",
   "execution_count": 13,
   "id": "2abb21c6",
   "metadata": {},
   "outputs": [],
   "source": [
    "#print(\"S2 Month\")\n",
    "#sata_analy(S2_month_new)\n",
    "#print(\"S2 Day\")\n",
    "#sata_analy(S2_day_new)\n",
    "#print(\"S2 Week\")\n",
    "#sata_analy(S2_week_new)"
   ]
  },
  {
   "cell_type": "markdown",
   "id": "a38779d2",
   "metadata": {},
   "source": [
    "## The Fitter test\n",
    "### The fitter is a very convenient library to find the best distribution for random data"
   ]
  },
  {
   "cell_type": "code",
   "execution_count": 14,
   "id": "3b67cec7",
   "metadata": {},
   "outputs": [],
   "source": [
    "from fitter import Fitter, get_common_distributions, get_distributions"
   ]
  },
  {
   "cell_type": "code",
   "execution_count": 15,
   "id": "c3c3cdd1",
   "metadata": {},
   "outputs": [
    {
     "name": "stderr",
     "output_type": "stream",
     "text": [
      "Fitting 10 distributions: 100%|█████████████████| 10/10 [00:00<00:00, 19.35it/s]\n"
     ]
    },
    {
     "name": "stdout",
     "output_type": "stream",
     "text": [
      "S2 weekly data \n"
     ]
    },
    {
     "data": {
      "text/html": [
       "<div>\n",
       "<style scoped>\n",
       "    .dataframe tbody tr th:only-of-type {\n",
       "        vertical-align: middle;\n",
       "    }\n",
       "\n",
       "    .dataframe tbody tr th {\n",
       "        vertical-align: top;\n",
       "    }\n",
       "\n",
       "    .dataframe thead th {\n",
       "        text-align: right;\n",
       "    }\n",
       "</style>\n",
       "<table border=\"1\" class=\"dataframe\">\n",
       "  <thead>\n",
       "    <tr style=\"text-align: right;\">\n",
       "      <th></th>\n",
       "      <th>sumsquare_error</th>\n",
       "      <th>aic</th>\n",
       "      <th>bic</th>\n",
       "      <th>kl_div</th>\n",
       "      <th>ks_statistic</th>\n",
       "      <th>ks_pvalue</th>\n",
       "    </tr>\n",
       "  </thead>\n",
       "  <tbody>\n",
       "    <tr>\n",
       "      <th>norm</th>\n",
       "      <td>0.000125</td>\n",
       "      <td>1435.803905</td>\n",
       "      <td>-1658.030044</td>\n",
       "      <td>inf</td>\n",
       "      <td>0.076130</td>\n",
       "      <td>4.620552e-01</td>\n",
       "    </tr>\n",
       "    <tr>\n",
       "      <th>gamma</th>\n",
       "      <td>0.000126</td>\n",
       "      <td>1439.906759</td>\n",
       "      <td>-1652.554047</td>\n",
       "      <td>inf</td>\n",
       "      <td>0.081663</td>\n",
       "      <td>3.748572e-01</td>\n",
       "    </tr>\n",
       "    <tr>\n",
       "      <th>cauchy</th>\n",
       "      <td>0.000128</td>\n",
       "      <td>1471.557252</td>\n",
       "      <td>-1655.339695</td>\n",
       "      <td>inf</td>\n",
       "      <td>0.070879</td>\n",
       "      <td>5.534579e-01</td>\n",
       "    </tr>\n",
       "    <tr>\n",
       "      <th>rayleigh</th>\n",
       "      <td>0.000189</td>\n",
       "      <td>inf</td>\n",
       "      <td>-1608.397198</td>\n",
       "      <td>inf</td>\n",
       "      <td>0.268657</td>\n",
       "      <td>3.340247e-08</td>\n",
       "    </tr>\n",
       "    <tr>\n",
       "      <th>powerlaw</th>\n",
       "      <td>0.000215</td>\n",
       "      <td>1353.957820</td>\n",
       "      <td>-1587.508089</td>\n",
       "      <td>inf</td>\n",
       "      <td>0.234131</td>\n",
       "      <td>2.567377e-06</td>\n",
       "    </tr>\n",
       "  </tbody>\n",
       "</table>\n",
       "</div>"
      ],
      "text/plain": [
       "          sumsquare_error          aic          bic  kl_div  ks_statistic  \\\n",
       "norm             0.000125  1435.803905 -1658.030044     inf      0.076130   \n",
       "gamma            0.000126  1439.906759 -1652.554047     inf      0.081663   \n",
       "cauchy           0.000128  1471.557252 -1655.339695     inf      0.070879   \n",
       "rayleigh         0.000189          inf -1608.397198     inf      0.268657   \n",
       "powerlaw         0.000215  1353.957820 -1587.508089     inf      0.234131   \n",
       "\n",
       "             ks_pvalue  \n",
       "norm      4.620552e-01  \n",
       "gamma     3.748572e-01  \n",
       "cauchy    5.534579e-01  \n",
       "rayleigh  3.340247e-08  \n",
       "powerlaw  2.567377e-06  "
      ]
     },
     "execution_count": 15,
     "metadata": {},
     "output_type": "execute_result"
    },
    {
     "data": {
      "image/png": "[encoded data removed]",
      "text/plain": [
       "<Figure size 432x288 with 1 Axes>"
      ]
     },
     "metadata": {
      "needs_background": "light"
     },
     "output_type": "display_data"
    }
   ],
   "source": [
    "a = Fitter(S2_week_new[\"Pedestrian\"],\n",
    "           distributions= get_common_distributions()\n",
    "                         )\n",
    "\n",
    "a.fit()\n",
    "\n",
    "print(\"S2 weekly data \")\n",
    "a.summary()"
   ]
  },
  {
   "cell_type": "code",
   "execution_count": 16,
   "id": "771493d9",
   "metadata": {},
   "outputs": [
    {
     "name": "stdout",
     "output_type": "stream",
     "text": [
      "the best distribution for weekly data will be\n"
     ]
    },
    {
     "data": {
      "text/plain": [
       "{'norm': {'loc': 1812.7905031823586, 'scale': 146.08135968996325}}"
      ]
     },
     "execution_count": 16,
     "metadata": {},
     "output_type": "execute_result"
    }
   ],
   "source": [
    "print(\"the best distribution for weekly data will be\")\n",
    "a.get_best(method = 'sumsquare_error')"
   ]
  },
  {
   "cell_type": "code",
   "execution_count": 17,
   "id": "262c7573",
   "metadata": {},
   "outputs": [
    {
     "name": "stderr",
     "output_type": "stream",
     "text": [
      "Fitting 10 distributions: 100%|█████████████████| 10/10 [00:00<00:00, 27.30it/s]\n"
     ]
    },
    {
     "name": "stdout",
     "output_type": "stream",
     "text": [
      "S2 monthly data \n"
     ]
    },
    {
     "data": {
      "text/html": [
       "<div>\n",
       "<style scoped>\n",
       "    .dataframe tbody tr th:only-of-type {\n",
       "        vertical-align: middle;\n",
       "    }\n",
       "\n",
       "    .dataframe tbody tr th {\n",
       "        vertical-align: top;\n",
       "    }\n",
       "\n",
       "    .dataframe thead th {\n",
       "        text-align: right;\n",
       "    }\n",
       "</style>\n",
       "<table border=\"1\" class=\"dataframe\">\n",
       "  <thead>\n",
       "    <tr style=\"text-align: right;\">\n",
       "      <th></th>\n",
       "      <th>sumsquare_error</th>\n",
       "      <th>aic</th>\n",
       "      <th>bic</th>\n",
       "      <th>kl_div</th>\n",
       "      <th>ks_statistic</th>\n",
       "      <th>ks_pvalue</th>\n",
       "    </tr>\n",
       "  </thead>\n",
       "  <tbody>\n",
       "    <tr>\n",
       "      <th>chi2</th>\n",
       "      <td>0.003135</td>\n",
       "      <td>1233.826731</td>\n",
       "      <td>-205.101074</td>\n",
       "      <td>inf</td>\n",
       "      <td>0.096564</td>\n",
       "      <td>0.962790</td>\n",
       "    </tr>\n",
       "    <tr>\n",
       "      <th>gamma</th>\n",
       "      <td>0.003136</td>\n",
       "      <td>1234.454313</td>\n",
       "      <td>-205.095002</td>\n",
       "      <td>inf</td>\n",
       "      <td>0.077575</td>\n",
       "      <td>0.996317</td>\n",
       "    </tr>\n",
       "    <tr>\n",
       "      <th>norm</th>\n",
       "      <td>0.003137</td>\n",
       "      <td>1232.269332</td>\n",
       "      <td>-208.262021</td>\n",
       "      <td>inf</td>\n",
       "      <td>0.073938</td>\n",
       "      <td>0.998105</td>\n",
       "    </tr>\n",
       "    <tr>\n",
       "      <th>cauchy</th>\n",
       "      <td>0.003151</td>\n",
       "      <td>1294.299495</td>\n",
       "      <td>-208.157503</td>\n",
       "      <td>inf</td>\n",
       "      <td>0.095725</td>\n",
       "      <td>0.965440</td>\n",
       "    </tr>\n",
       "    <tr>\n",
       "      <th>rayleigh</th>\n",
       "      <td>0.003209</td>\n",
       "      <td>1219.511126</td>\n",
       "      <td>-207.721248</td>\n",
       "      <td>inf</td>\n",
       "      <td>0.169404</td>\n",
       "      <td>0.447472</td>\n",
       "    </tr>\n",
       "  </tbody>\n",
       "</table>\n",
       "</div>"
      ],
      "text/plain": [
       "          sumsquare_error          aic         bic  kl_div  ks_statistic  \\\n",
       "chi2             0.003135  1233.826731 -205.101074     inf      0.096564   \n",
       "gamma            0.003136  1234.454313 -205.095002     inf      0.077575   \n",
       "norm             0.003137  1232.269332 -208.262021     inf      0.073938   \n",
       "cauchy           0.003151  1294.299495 -208.157503     inf      0.095725   \n",
       "rayleigh         0.003209  1219.511126 -207.721248     inf      0.169404   \n",
       "\n",
       "          ks_pvalue  \n",
       "chi2       0.962790  \n",
       "gamma      0.996317  \n",
       "norm       0.998105  \n",
       "cauchy     0.965440  \n",
       "rayleigh   0.447472  "
      ]
     },
     "execution_count": 17,
     "metadata": {},
     "output_type": "execute_result"
    },
    {
     "data": {
      "image/png": "[encoded data removed]",
      "text/plain": [
       "<Figure size 432x288 with 1 Axes>"
      ]
     },
     "metadata": {
      "needs_background": "light"
     },
     "output_type": "display_data"
    }
   ],
   "source": [
    "a = Fitter(S2_month_new[\"Pedestrian\"],\n",
    "           distributions= get_common_distributions())\n",
    "a.fit()\n",
    "\n",
    "print(\"S2 monthly data \")\n",
    "a.summary()"
   ]
  },
  {
   "cell_type": "code",
   "execution_count": 18,
   "id": "433e3121",
   "metadata": {},
   "outputs": [
    {
     "name": "stdout",
     "output_type": "stream",
     "text": [
      "the best distribution for monthly data will be\n"
     ]
    },
    {
     "data": {
      "text/plain": [
       "{'chi2': {'df': 134.56575115733435,\n",
       "  'loc': 1063.6045245004152,\n",
       "  'scale': 5.593798216214665}}"
      ]
     },
     "execution_count": 18,
     "metadata": {},
     "output_type": "execute_result"
    }
   ],
   "source": [
    "print(\"the best distribution for monthly data will be\")\n",
    "a.get_best(method = 'sumsquare_error')"
   ]
  },
  {
   "cell_type": "code",
   "execution_count": 19,
   "id": "fe96e8d7",
   "metadata": {},
   "outputs": [
    {
     "name": "stderr",
     "output_type": "stream",
     "text": [
      "Fitting 10 distributions: 100%|█████████████████| 10/10 [00:00<00:00, 15.47it/s]\n"
     ]
    },
    {
     "name": "stdout",
     "output_type": "stream",
     "text": [
      "S2 daily data\n"
     ]
    },
    {
     "data": {
      "text/html": [
       "<div>\n",
       "<style scoped>\n",
       "    .dataframe tbody tr th:only-of-type {\n",
       "        vertical-align: middle;\n",
       "    }\n",
       "\n",
       "    .dataframe tbody tr th {\n",
       "        vertical-align: top;\n",
       "    }\n",
       "\n",
       "    .dataframe thead th {\n",
       "        text-align: right;\n",
       "    }\n",
       "</style>\n",
       "<table border=\"1\" class=\"dataframe\">\n",
       "  <thead>\n",
       "    <tr style=\"text-align: right;\">\n",
       "      <th></th>\n",
       "      <th>sumsquare_error</th>\n",
       "      <th>aic</th>\n",
       "      <th>bic</th>\n",
       "      <th>kl_div</th>\n",
       "      <th>ks_statistic</th>\n",
       "      <th>ks_pvalue</th>\n",
       "    </tr>\n",
       "  </thead>\n",
       "  <tbody>\n",
       "    <tr>\n",
       "      <th>gamma</th>\n",
       "      <td>0.000005</td>\n",
       "      <td>1612.190677</td>\n",
       "      <td>-13154.435805</td>\n",
       "      <td>inf</td>\n",
       "      <td>0.046140</td>\n",
       "      <td>9.633549e-02</td>\n",
       "    </tr>\n",
       "    <tr>\n",
       "      <th>norm</th>\n",
       "      <td>0.000005</td>\n",
       "      <td>1609.563185</td>\n",
       "      <td>-13157.614564</td>\n",
       "      <td>inf</td>\n",
       "      <td>0.042581</td>\n",
       "      <td>1.507065e-01</td>\n",
       "    </tr>\n",
       "    <tr>\n",
       "      <th>chi2</th>\n",
       "      <td>0.000005</td>\n",
       "      <td>1617.758754</td>\n",
       "      <td>-13143.836557</td>\n",
       "      <td>inf</td>\n",
       "      <td>0.055106</td>\n",
       "      <td>2.660140e-02</td>\n",
       "    </tr>\n",
       "    <tr>\n",
       "      <th>cauchy</th>\n",
       "      <td>0.000009</td>\n",
       "      <td>1609.379625</td>\n",
       "      <td>-12796.005025</td>\n",
       "      <td>inf</td>\n",
       "      <td>0.068449</td>\n",
       "      <td>2.570790e-03</td>\n",
       "    </tr>\n",
       "    <tr>\n",
       "      <th>powerlaw</th>\n",
       "      <td>0.000038</td>\n",
       "      <td>1475.660445</td>\n",
       "      <td>-11788.627094</td>\n",
       "      <td>inf</td>\n",
       "      <td>0.231712</td>\n",
       "      <td>9.163788e-34</td>\n",
       "    </tr>\n",
       "  </tbody>\n",
       "</table>\n",
       "</div>"
      ],
      "text/plain": [
       "          sumsquare_error          aic           bic  kl_div  ks_statistic  \\\n",
       "gamma            0.000005  1612.190677 -13154.435805     inf      0.046140   \n",
       "norm             0.000005  1609.563185 -13157.614564     inf      0.042581   \n",
       "chi2             0.000005  1617.758754 -13143.836557     inf      0.055106   \n",
       "cauchy           0.000009  1609.379625 -12796.005025     inf      0.068449   \n",
       "powerlaw         0.000038  1475.660445 -11788.627094     inf      0.231712   \n",
       "\n",
       "             ks_pvalue  \n",
       "gamma     9.633549e-02  \n",
       "norm      1.507065e-01  \n",
       "chi2      2.660140e-02  \n",
       "cauchy    2.570790e-03  \n",
       "powerlaw  9.163788e-34  "
      ]
     },
     "execution_count": 19,
     "metadata": {},
     "output_type": "execute_result"
    },
    {
     "data": {
      "image/png": "[encoded data removed]",
      "text/plain": [
       "<Figure size 432x288 with 1 Axes>"
      ]
     },
     "metadata": {
      "needs_background": "light"
     },
     "output_type": "display_data"
    }
   ],
   "source": [
    "a = Fitter(S2_day_new[\"Pedestrian\"],\n",
    "           distributions= get_common_distributions())\n",
    "a.fit()\n",
    "\n",
    "\n",
    "print(\"S2 daily data\")\n",
    "a.summary()"
   ]
  },
  {
   "cell_type": "code",
   "execution_count": 20,
   "id": "81154cae",
   "metadata": {},
   "outputs": [
    {
     "name": "stdout",
     "output_type": "stream",
     "text": [
      "the best distribution for daily data will be\n"
     ]
    },
    {
     "data": {
      "text/plain": [
       "{'gamma': {'a': 587.0391501652769,\n",
       "  'loc': -4381.495349414667,\n",
       "  'scale': 10.57366672992547}}"
      ]
     },
     "execution_count": 20,
     "metadata": {},
     "output_type": "execute_result"
    }
   ],
   "source": [
    "print(\"the best distribution for daily data will be\")\n",
    "a.get_best(method = 'sumsquare_error')"
   ]
  },
  {
   "cell_type": "markdown",
   "id": "aa28b71f",
   "metadata": {},
   "source": [
    "## Anderson-Darling Test"
   ]
  },
  {
   "cell_type": "code",
   "execution_count": 21,
   "id": "47f4d2be",
   "metadata": {},
   "outputs": [
    {
     "name": "stdout",
     "output_type": "stream",
     "text": [
      "S2 Month:\n",
      "AndersonResult(statistic=0.18778352676370247, critical_values=array([0.513, 0.584, 0.701, 0.817, 0.972]), significance_level=array([15. , 10. ,  5. ,  2.5,  1. ]))\n",
      "S2 Week:\n",
      "AndersonResult(statistic=0.7165367757363015, critical_values=array([0.558, 0.636, 0.763, 0.89 , 1.059]), significance_level=array([15. , 10. ,  5. ,  2.5,  1. ]))\n",
      "S2 Day:\n",
      "AndersonResult(statistic=1.0540618816382903, critical_values=array([0.573, 0.652, 0.783, 0.913, 1.086]), significance_level=array([15. , 10. ,  5. ,  2.5,  1. ]))\n"
     ]
    }
   ],
   "source": [
    "from scipy.stats import anderson\n",
    "print(\"S2 Month:\")\n",
    "print(anderson(S2_month_new[\"Pedestrian\"]))\n",
    "print(\"S2 Week:\")\n",
    "print(anderson(S2_week_new[\"Pedestrian\"]))\n",
    "print(\"S2 Day:\")\n",
    "print(anderson(S2_day_new[\"Pedestrian\"]))"
   ]
  },
  {
   "cell_type": "markdown",
   "id": "854a2f4f",
   "metadata": {},
   "source": [
    "### Based on Anderson-Darling Test, S2 Monthly data is the only data which statisitc number is smaller than critical, in other word, it is the only one which don't reject the null hypotheses from a normal distribution."
   ]
  },
  {
   "cell_type": "markdown",
   "id": "006fc873",
   "metadata": {},
   "source": [
    "## Mento Carlo Simulation "
   ]
  },
  {
   "cell_type": "code",
   "execution_count": 22,
   "id": "e7ac5e34",
   "metadata": {},
   "outputs": [],
   "source": [
    "import sympy as smp\n",
    "def mento(data,f):\n",
    "    y,x,s,m = smp.symbols(\"x s m y\")\n",
    "    fs = smp.integrate(f,(x,0,y)).doit()\n",
    "    Fn = smp.lambdify((y,s,m),fs)\n",
    "    fn = smp.lambdify((x,s,m),f)\n",
    "    s=data[\"Pedestrian\"].std()\n",
    "    m=data[\"Pedestrian\"].mean()\n",
    "    x = np.linspace(min(data[\"Pedestrian\"]),max(data[\"Pedestrian\"]),len(data[\"Pedestrian\"]))\n",
    "    f = fn(x,s,m)\n",
    "    F = Fn(x,s,m)\n",
    "    us = np.random.rand(len(data))\n",
    "    F_inv = x[np.searchsorted(F[:-1],us)]\n",
    "    plt.plot(x,f)\n",
    "    plt.hist(F_inv,histtype=\"step\",color=\"r\",density=\"norm\")\n",
    "    plt.show()\n",
    "    return F_inv"
   ]
  },
  {
   "cell_type": "code",
   "execution_count": 23,
   "id": "000193c4",
   "metadata": {},
   "outputs": [
    {
     "name": "stdout",
     "output_type": "stream",
     "text": [
      "S2 Month\n"
     ]
    },
    {
     "data": {
      "image/png": "[encoded data removed]",
      "text/plain": [
       "<Figure size 432x288 with 1 Axes>"
      ]
     },
     "metadata": {
      "needs_background": "light"
     },
     "output_type": "display_data"
    },
    {
     "data": {
      "text/plain": [
       "array([1816.69812302, 1784.24590452, 1719.34146751, 1784.24590452,\n",
       "       1849.15034152, 1800.47201377, 1638.21092126, 1751.79368602,\n",
       "       1930.28088777, 1735.56757677, 1897.82866927, 1832.92423227,\n",
       "       1865.37645077, 1768.01979527, 1703.11535826, 1930.28088777,\n",
       "       1914.05477852, 1719.34146751, 1784.24590452, 1784.24590452,\n",
       "       1784.24590452, 1751.79368602, 1881.60256002, 1784.24590452])"
      ]
     },
     "execution_count": 23,
     "metadata": {},
     "output_type": "execute_result"
    },
    {
     "data": {
      "image/png": "[encoded data removed]",
      "text/plain": [
       "<Figure size 432x288 with 2 Axes>"
      ]
     },
     "metadata": {
      "needs_background": "light"
     },
     "output_type": "display_data"
    }
   ],
   "source": [
    "print(\"S2 Month\")\n",
    "y,x,s,m = smp.symbols(\"x s m y\")\n",
    "f = 1/(s*(np.pi*2)**(1/2))*smp.exp(-(x-m)**2/(2*s**2))\n",
    "a = mento(S2_month_new,f)\n",
    "data = {\"real_month_data\":S2_month_new[\"Pedestrian\"],\n",
    "       \"mento carlo\":a,\n",
    "       }\n",
    "data = pd.DataFrame(data)\n",
    "sns.heatmap(data.corr(), annot = True)\n",
    "a"
   ]
  },
  {
   "cell_type": "code",
   "execution_count": 24,
   "id": "77a07235",
   "metadata": {},
   "outputs": [
    {
     "name": "stdout",
     "output_type": "stream",
     "text": [
      "S2 week\n"
     ]
    },
    {
     "data": {
      "image/png": "[encoded data removed]",
      "text/plain": [
       "<Figure size 432x288 with 1 Axes>"
      ]
     },
     "metadata": {
      "needs_background": "light"
     },
     "output_type": "display_data"
    },
    {
     "data": {
      "text/plain": [
       "<AxesSubplot:>"
      ]
     },
     "execution_count": 24,
     "metadata": {},
     "output_type": "execute_result"
    },
    {
     "data": {
      "image/png": "[encoded data removed]",
      "text/plain": [
       "<Figure size 432x288 with 2 Axes>"
      ]
     },
     "metadata": {
      "needs_background": "light"
     },
     "output_type": "display_data"
    }
   ],
   "source": [
    "print(\"S2 week\")\n",
    "y,x,s,m = smp.symbols(\"x s m y\")\n",
    "f = 1/(np.pi*s*(1+((x-m)/s)**2))\n",
    "a = mento(S2_week_new,f)\n",
    "data = {\"real_month_data\":S2_week_new[\"Pedestrian\"],\n",
    "       \"mento carlo\":a,\n",
    "       }\n",
    "data = pd.DataFrame(data)\n",
    "sns.heatmap(data.corr(), annot = True)"
   ]
  },
  {
   "cell_type": "code",
   "execution_count": 25,
   "id": "80b26b48",
   "metadata": {},
   "outputs": [
    {
     "name": "stdout",
     "output_type": "stream",
     "text": [
      "S2 day\n"
     ]
    },
    {
     "data": {
      "image/png": "[encoded data removed]",
      "text/plain": [
       "<Figure size 432x288 with 1 Axes>"
      ]
     },
     "metadata": {
      "needs_background": "light"
     },
     "output_type": "display_data"
    },
    {
     "data": {
      "text/plain": [
       "<AxesSubplot:>"
      ]
     },
     "execution_count": 25,
     "metadata": {},
     "output_type": "execute_result"
    },
    {
     "data": {
      "image/png": "[encoded data removed]",
      "text/plain": [
       "<Figure size 432x288 with 2 Axes>"
      ]
     },
     "metadata": {
      "needs_background": "light"
     },
     "output_type": "display_data"
    }
   ],
   "source": [
    "print(\"S2 day\")\n",
    "y,x,s,m = smp.symbols(\"x s m y\")\n",
    "f = 1/(s*(np.pi*2)**(1/2))*smp.exp(-(x-m)**2/(2*s**2))\n",
    "a = mento(S2_day_new,f)\n",
    "data = {\"real_month_data\":S2_day_new[\"Pedestrian\"],\n",
    "       \"mento carlo\":a,\n",
    "       }\n",
    "data = pd.DataFrame(data)\n",
    "sns.heatmap(data.corr(), annot = True)"
   ]
  },
  {
   "cell_type": "markdown",
   "id": "00c4d359",
   "metadata": {},
   "source": [
    "# Conclusion"
   ]
  },
  {
   "cell_type": "markdown",
   "id": "4cb1eaac",
   "metadata": {},
   "source": [
    "### After repeated testing, I found that the mento carlo simulation is very unstable, sometimes the generated random values will be kind of close to the real value, but sometimes it will be far away. Also the file you see is the one I have adjusted a bit, which means that all the data are the result after I have removed all the extreme values. Based on the fitter test results (you can see the detailed icons and conclusions in the fitter test part), the normal distribution can be applied to the daily and monthly data, while the cauchy distribution is matched to the weekly data. Also, at the beginning I tried to use the beta distribution for testing, and although the results were good I gave up since the beta distribution only produces a value between 0 and 1. All in all, mento carlo simulation has many limitations, and the best score of correlation for mento carlo simulation is only 0.5, so I personally think it is not suitable to use it to predict missing values\n"
   ]
  },
  {
   "cell_type": "code",
   "execution_count": null,
   "id": "15143f42",
   "metadata": {},
   "outputs": [],
   "source": []
  }
 ],
 "metadata": {
  "kernelspec": {
   "display_name": "Python 3 (ipykernel)",
   "language": "python",
   "name": "python3"
  },
  "language_info": {
   "codemirror_mode": {
    "name": "ipython",
    "version": 3
   },
   "file_extension": ".py",
   "mimetype": "text/x-python",
   "name": "python",
   "nbconvert_exporter": "python",
   "pygments_lexer": "ipython3",
   "version": "3.9.7"
  }
 },
 "nbformat": 4,
 "nbformat_minor": 5
}
